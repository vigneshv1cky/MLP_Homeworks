{
 "cells": [
  {
   "cell_type": "markdown",
   "metadata": {
    "id": "VOZXXjvHYt1W",
    "wm": "ApccFt0MQeI72fjy"
   },
   "source": [
    "NAME: __TODO: FULLNAME__\n",
    "\n",
    "# Machine Learning Practice - Asynchronous\n",
    "# Homework 03: Classifiers\n",
    "\n",
    "## Objectives\n",
    "* Compute class labels from raw data\n",
    "* Use your imputing/filtering skills to clean up raw data\n",
    "* Implement a classifier that predicts robot motion from infant movements\n",
    "* Evaluate the classifier by:\n",
    "  + Using built-in cross-validation tools\n",
    "  + Computing TPR/FPRs\n",
    "  + Displaying their CDFs\n",
    "  + Displaying the corresponding ROC curve\n",
    "\n",
    "## Instructions\n",
    "* All Homework must be individual work.  Do not look at or copy solutions of other students or that are available on the Internet or via LLMs\n",
    "* Only work in a copy of the file that is from your ~/homework_in/ directory\n",
    "   + __If you do not use your own copy of this file, then it is an automatic zero on the assignment__\n",
    "* Read the code below \n",
    "* For any cell that is flagged as *TODO*, complete the code according to the specifications\n",
    "* Execute each cell and verify that it is showing correct results.  Note that because we are reusing variables, the order of execution is *really* important.\n",
    "* Hand-In Procedure\n",
    "  + Make sure that your notebook has been saved.  You are responsible for ensuring that the copy that you submit is current and complete\n",
    "  + The name of the file should be the same as what we gave you\n",
    "  + Download this file to your local machine (extension: .ipynb)\n",
    "  + Submit to the Gradescope Notebook HW03 dropbox\n",
    "\n",
    "## General References\n",
    "* [Python Built-in Functions](https://docs.python.org/3/library/functions.html)\n",
    "* [Python Data Structures](https://docs.python.org/3/tutorial/datastructures.html)\n",
    "* [Numpy Reference](https://docs.scipy.org/doc/numpy/reference/index.html)\n",
    "* [Summary of matplotlib](https://matplotlib.org/3.1.1/api/pyplot_summary.html)\n",
    "* [Pandas DataFrames](https://urldefense.proofpoint.com/v2/url?u=https-3A__pandas.pydata.org_pandas-2Ddocs_stable_reference_api_pandas.DataFrame.html&d=DwMD-g&c=qKdtBuuu6dQK9MsRUVJ2DPXW6oayO8fu4TfEHS8sGNk&r=9ngmsG8rSmDSS-O0b_V0gP-nN_33Vr52qbY3KXuDY5k&m=mcOOc8D0knaNNmmnTEo_F_WmT4j6_nUSL_yoPmGlLWQ&s=h7hQjqucR7tZyfZXxnoy3iitIr32YlrqiFyPATkW3lw&e=)\n",
    "* [Sci-kit Learn Linear Models](https://scikit-learn.org/stable/api/sklearn.linear_model.html)\n",
    "  + [SGDClassifier](https://scikit-learn.org/stable/modules/generated/sklearn.linear_model.SGDClassifier.html#sklearn.linear_model.SGDClassifier)\n",
    "* [Sci-kit Learn Ensemble Models](https://scikit-learn.org/stable/api/sklearn.ensemble.html)\n",
    "* [Sci-kit Learn Metrics](https://scikit-learn.org/stable/api/sklearn.metrics.html)\n",
    "* [Sci-kit Learn Model Selection](https://scikit-learn.org/stable/api/sklearn.model_selection.html)\n"
   ]
  },
  {
   "cell_type": "code",
   "execution_count": null,
   "metadata": {
    "id": "BT0Kfr5UYt1h",
    "wm": "ApccFt0MQeI72fjy"
   },
   "outputs": [],
   "source": [
    "import pandas as pd\n",
    "import numpy as np\n",
    "import os, re, fnmatch\n",
    "import matplotlib.pyplot as plt\n",
    "import matplotlib.patheffects as peffects\n",
    "\n",
    "from sklearn.pipeline import Pipeline\n",
    "from sklearn.base import BaseEstimator, TransformerMixin\n",
    "from sklearn.preprocessing import StandardScaler\n",
    "from sklearn.model_selection import cross_val_score, cross_val_predict\n",
    "from sklearn.metrics import mean_squared_error, confusion_matrix, roc_curve, auc\n",
    "from sklearn.linear_model import SGDClassifier\n",
    "from sklearn.ensemble import GradientBoostingClassifier\n",
    "import scipy.stats as stats\n",
    "\n",
    "# Default figure parameters\n",
    "plt.rcParams['figure.figsize'] = (8,4)\n",
    "plt.rcParams['font.size'] = 12\n",
    "plt.rcParams['legend.fontsize'] = 10\n",
    "plt.rcParams['xtick.labelsize'] = 10\n",
    "plt.rcParams['ytick.labelsize'] = 10\n",
    "plt.rcParams['figure.constrained_layout.use'] = True\n",
    "plt.rcParams['axes.titlesize'] = 18\n",
    "plt.rcParams['axes.labelsize'] = 16\n",
    "\n",
    "%matplotlib inline"
   ]
  },
  {
   "cell_type": "markdown",
   "metadata": {
    "id": "RTKaNGagYt1p",
    "wm": "ApccFt0MQeI72fjy"
   },
   "source": [
    "# LOAD DATA"
   ]
  },
  {
   "cell_type": "code",
   "execution_count": null,
   "metadata": {
    "colab": {
     "base_uri": "https://localhost:8080/"
    },
    "id": "Gs3BOWeFYt1r",
    "outputId": "6cc50bd8-8c7c-4284-8082-eec44b3cca4b",
    "wm": "ApccFt0MQeI72fjy"
   },
   "outputs": [],
   "source": [
    "\"\"\" TODO\n",
    "Load data from subject k2 for week 5\n",
    "Display info() for the data\n",
    "\n",
    "These are data obtained from a baby on the SIPPC. 3D Position (i.e. kinematic)\n",
    "data are collected at 50 Hz, for the x, y, and z positions in meters, for \n",
    "various joints such as the wrists, elbows, shoulders, etc.\n",
    "\"\"\"\n",
    "# Local file name\n",
    "fname = '/mlp/datasets/baby1/subject_k2_w05.csv'\n",
    "\n",
    "baby_data_raw = #TODO\n",
    "baby_data_raw.info()"
   ]
  },
  {
   "cell_type": "code",
   "execution_count": null,
   "metadata": {
    "colab": {
     "base_uri": "https://localhost:8080/",
     "height": 299
    },
    "id": "7IZRnYLEYt1v",
    "outputId": "5d7c204c-85f2-4498-af26-8b3759dfcc78",
    "wm": "ApccFt0MQeI72fjy"
   },
   "outputs": [],
   "source": [
    "\"\"\" TODO\n",
    "Display the first few examples\n",
    "\"\"\"\n",
    "# TODO"
   ]
  },
  {
   "cell_type": "code",
   "execution_count": null,
   "metadata": {
    "colab": {
     "base_uri": "https://localhost:8080/",
     "height": 299
    },
    "id": "rbARGTaKYt1x",
    "outputId": "f3c32bf6-9f79-43dc-b432-0d8bf3f716bf",
    "wm": "ApccFt0MQeI72fjy"
   },
   "outputs": [],
   "source": [
    "\"\"\" TODO\n",
    "Display the last few examples\n",
    "\"\"\"\n",
    "# TODO"
   ]
  },
  {
   "cell_type": "code",
   "execution_count": null,
   "metadata": {
    "colab": {
     "base_uri": "https://localhost:8080/",
     "height": 394
    },
    "id": "huhemliiYt10",
    "outputId": "236bb424-7be7-471d-944e-50c10969aa2c",
    "wm": "ApccFt0MQeI72fjy"
   },
   "outputs": [],
   "source": [
    "\"\"\" TODO\n",
    "Display the summary statistics\n",
    "\"\"\"\n",
    " # TODO"
   ]
  },
  {
   "cell_type": "code",
   "execution_count": null,
   "metadata": {
    "colab": {
     "base_uri": "https://localhost:8080/"
    },
    "id": "IIKK27kOYt12",
    "outputId": "b9987470-6132-4d2d-e085-75dca7f27a7e",
    "wm": "ApccFt0MQeI72fjy"
   },
   "outputs": [],
   "source": [
    "\"\"\" TODO\n",
    "Check the dataframe for any NaNs using pandas methods\n",
    "isna() and any() for a summary of the missing data\n",
    "\"\"\"\n",
    "# TODO"
   ]
  },
  {
   "cell_type": "markdown",
   "metadata": {
    "id": "NNYau_OgYt15",
    "wm": "ApccFt0MQeI72fjy"
   },
   "source": [
    "# Data Selection"
   ]
  },
  {
   "cell_type": "code",
   "execution_count": null,
   "metadata": {
    "id": "AAedVGreYt16",
    "wm": "ApccFt0MQeI72fjy"
   },
   "outputs": [],
   "source": [
    "\"\"\" PROVIDED\n",
    "\"\"\"\n",
    "## Support for identifying kinematic variable columns\n",
    "def get_kinematic_properties(data):\n",
    "    # Regular expression for finding kinematic fields\n",
    "    regx = re.compile(\"_[xyz]$\")\n",
    "\n",
    "    # Find the list of kinematic fields\n",
    "    fields = list(data)\n",
    "    fieldsKin = [x for x in fields if regx.search(x)]\n",
    "    return fieldsKin\n",
    "\n",
    "def position_fields_to_velocity_fields(fields, prefix='d_'):\n",
    "    '''\n",
    "    Given a list of position columns, produce a new list\n",
    "    of columns that include both position and velocity\n",
    "    '''\n",
    "    fields_new = [prefix + x for x in fields]\n",
    "    return fields + fields_new\n"
   ]
  },
  {
   "cell_type": "code",
   "execution_count": null,
   "metadata": {
    "colab": {
     "base_uri": "https://localhost:8080/"
    },
    "id": "Q9Kv-9b9Yt18",
    "outputId": "b3a6eac0-6453-4505-95b1-9d2f10693274",
    "wm": "ApccFt0MQeI72fjy"
   },
   "outputs": [],
   "source": [
    "\"\"\" PROVIDED\n",
    "Get the names of the sets of fields for the kinematic features and the \n",
    "velocities\n",
    "\"\"\"\n",
    "fieldsKin = get_kinematic_properties(baby_data_raw)\n",
    "fieldsKinVel = position_fields_to_velocity_fields(fieldsKin)\n",
    "print(fieldsKinVel)\n",
    "\n",
    "\"\"\"\n",
    "Fields that describe the linear and rotational velocities of the robot\n",
    "\"\"\"\n",
    "fieldsRobot = ['robot_vel_l', 'robot_vel_r']\n"
   ]
  },
  {
   "cell_type": "markdown",
   "metadata": {
    "id": "NCONYPDEYt1-",
    "wm": "ApccFt0MQeI72fjy"
   },
   "source": [
    "# Construct Pipeline Components\n",
    "\n",
    "Copy your pipeline class implementations from HW03"
   ]
  },
  {
   "cell_type": "code",
   "execution_count": null,
   "metadata": {
    "id": "5dPuOm2tYt1_",
    "wm": "ApccFt0MQeI72fjy"
   },
   "outputs": [],
   "source": [
    "# DataFrameSelector\n"
   ]
  },
  {
   "cell_type": "code",
   "execution_count": null,
   "metadata": {
    "id": "5dPuOm2tYt1_",
    "wm": "ApccFt0MQeI72fjy"
   },
   "outputs": [],
   "source": [
    "# InterpolationImputer\n"
   ]
  },
  {
   "cell_type": "code",
   "execution_count": null,
   "metadata": {
    "id": "5dPuOm2tYt1_",
    "wm": "ApccFt0MQeI72fjy"
   },
   "outputs": [],
   "source": [
    "# Filter\n",
    "\n",
    "def computeBoxWeights(length=3):\n",
    "    '''\n",
    "    PROVIDED\n",
    "    \n",
    "    Computes the kernel weights for a Box Filter \n",
    "    \n",
    "    :param length: the number of terms in the filter kernel\n",
    "    :return: a vector of the specified length\n",
    "    '''\n",
    "    \n",
    "    return np.ones((length,))/length \n",
    "\n"
   ]
  },
  {
   "cell_type": "code",
   "execution_count": null,
   "metadata": {
    "id": "5dPuOm2tYt1_",
    "wm": "ApccFt0MQeI72fjy"
   },
   "outputs": [],
   "source": [
    "'''\n",
    "PROVIDED\n",
    "'''\n",
    "\n",
    "class DerivativeComputer(BaseEstimator, TransformerMixin):\n",
    "    def __init__(self, attribs=None, prefix='d_', dt=1.0):\n",
    "        self.attribs = attribs\n",
    "        self.prefix = prefix\n",
    "        self.dt = dt\n",
    "    \n",
    "    def fit(self, x, y=None):\n",
    "        return self\n",
    "    \n",
    "    def transform(self, X):\n",
    "        '''\n",
    "        :param X: a DataFrame\n",
    "        :return: a DataFrame with additional features for the derivatives\n",
    "        '''\n",
    "        Xout = X.copy()\n",
    "        if self.attribs is None:\n",
    "            self.attribs = Xout.columns\n",
    "\n",
    "        # Iterate over all of the attributes that we need to compute velocity over\n",
    "        for attrib in self.attribs:\n",
    "            # Extract the numpy array of data\n",
    "            vals = Xout[attrib].values\n",
    "            # Compute the difference between neighboring timeseries elements\n",
    "            diff = vals[1:] - vals[0:-1]\n",
    "            # Take into account the amount of time between timeseries samples\n",
    "            deriv = diff / self.dt\n",
    "            # Add a zero to the end so the resulting velocity vector is the same\n",
    "            #   length as the position vector\n",
    "            deriv = np.append(deriv, 0)\n",
    "            \n",
    "            # Add a new derivative attribute to the DataFrame\n",
    "            attrib_name = self.prefix + attrib\n",
    "            Xout[attrib_name] = pd.Series(deriv)\n",
    "\n",
    "        return Xout"
   ]
  },
  {
   "cell_type": "markdown",
   "metadata": {
    "id": "rC1z4oBRYt2B",
    "wm": "ApccFt0MQeI72fjy"
   },
   "source": [
    "# Construct Pipelines"
   ]
  },
  {
   "cell_type": "code",
   "execution_count": null,
   "metadata": {
    "id": "_y_Rc4kRYt2C",
    "wm": "ApccFt0MQeI72fjy"
   },
   "outputs": [],
   "source": [
    "\"\"\" TODO\n",
    "Create four pipelines. \n",
    "\n",
    "The first pipeline is used for the raw dataframe:\n",
    "1.  Impute values for the kinematic features using a quadratic imputer\n",
    "2.  Smooth the kinematic features.  Use a Box Filter of length 9 \n",
    "3.  Compute derivatives of all of the kinematic features.  dt is 0.02 seconds\n",
    "The output is a cleaned data frame.\n",
    "\n",
    "The cleaned data frame will be input to several additional pipelines:\n",
    "\n",
    "The second pipeline extracts the kinematic and velocity (derivative)\n",
    "features from the dataframe.\n",
    "\n",
    "The third pipeline extracts the time stamp from the dataframe.\n",
    "\n",
    "The fourth pipeline extracts the robot velocity from the dataframe (both the linear and rotational velocity).\n",
    "\"\"\"\n",
    "# Sampling rate: number of seconds between each time sample\n",
    "dt = .02\n",
    "\n",
    "\n",
    "# Initial pre-processing\n",
    "pipe_preprocessor = Pipeline([\n",
    " # TODO\n",
    "])\n",
    "\n",
    "# Position, velocity selector\n",
    "pipe_kin_vel = Pipeline([\n",
    "     #TODO\n",
    "])\n",
    "\n",
    "# Time selector\n",
    "pipe_time = Pipeline([\n",
    "    #TODO\n",
    "])\n",
    "\n",
    "# Robot velocity selector\n",
    "pipe_robot_vel = Pipeline([\n",
    "    # TODO\n",
    "])"
   ]
  },
  {
   "cell_type": "code",
   "execution_count": null,
   "metadata": {
    "id": "_y_Rc4kRYt2C",
    "wm": "ApccFt0MQeI72fjy"
   },
   "outputs": [],
   "source": [
    "fieldsKinVel"
   ]
  },
  {
   "cell_type": "markdown",
   "metadata": {
    "id": "CYw9x3avYt2D",
    "wm": "ApccFt0MQeI72fjy"
   },
   "source": [
    "## Pre-process and extract data"
   ]
  },
  {
   "cell_type": "code",
   "execution_count": null,
   "metadata": {
    "id": "moWhEQWxYt2E",
    "wm": "ApccFt0MQeI72fjy"
   },
   "outputs": [],
   "source": [
    "\"\"\" TODO\n",
    "Use the above pipelines to extract the data with kinematic and velocity \n",
    "features, the time, and the robot velocity.\n",
    "\n",
    "See the lecture on classifers for examples.\n",
    "\"\"\"\n",
    "# TODO: use the first pipeline to perform an initial cleaning of the data\n",
    "baby_data_clean =  # TODO\n",
    "\n",
    "# TODO: Use the result from the first pipeline to extract the kinematic and \n",
    "#       velocity features by using the pipe_kin_vel pipeline\n",
    "data_pos_vel = # TODO\n",
    "\n",
    "# TODO: Use the result from the first pipeline to extract the time stamps by using\n",
    "#       the pipe_time pipeline\n",
    "data_time = # TODO\n",
    "\n",
    "\n",
    "# TODO: Use the result from the first pipeline to get the robot velocity by using\n",
    "#       the pipe_robot_vel pipeline\n",
    "data_robot_vel = #TODO\n",
    "\n",
    "# PROVIDED: Transform the dataframes as numpy arrays\n",
    "inputs_pos_vel = data_pos_vel.values\n",
    "time = data_time.values\n",
    "robot_vel = data_robot_vel.values\n",
    "\n",
    "nsamples = #TODO"
   ]
  },
  {
   "cell_type": "code",
   "execution_count": null,
   "metadata": {
    "id": "moWhEQWxYt2E",
    "wm": "ApccFt0MQeI72fjy"
   },
   "outputs": [],
   "source": []
  },
  {
   "cell_type": "markdown",
   "metadata": {
    "id": "HXnKfyMpYt2F",
    "wm": "ApccFt0MQeI72fjy"
   },
   "source": [
    "## Examine Robot Velocity"
   ]
  },
  {
   "cell_type": "code",
   "execution_count": null,
   "metadata": {
    "colab": {
     "base_uri": "https://localhost:8080/",
     "height": 413
    },
    "id": "1crM3hqyYt2G",
    "outputId": "31507397-6d13-4816-d5d3-6fda54faabde",
    "wm": "ApccFt0MQeI72fjy"
   },
   "outputs": [],
   "source": [
    "\"\"\" TODO\n",
    "Create a plot that contains both the linear velocity (robot_vel[:,0]) and\n",
    "rotational velocity (robot_vel[:,1]).  The plot should contain appropriate \n",
    "labels\n",
    "\n",
    "Note: units are m/s and rad/s, respectively\n",
    "\"\"\"\n",
    "\n",
    "# TODO\n",
    "plt.figure()\n",
    "plt.plot(time, robot_vel)\n"
   ]
  },
  {
   "cell_type": "code",
   "execution_count": null,
   "metadata": {
    "id": "-Fe6xcFdYt2I",
    "wm": "ApccFt0MQeI72fjy"
   },
   "outputs": [],
   "source": [
    "\"\"\" PROVIDED\n",
    "Create labels that correspond to \"fast backward motion\" and\n",
    "\"fast right rotational motion\"\n",
    "\n",
    "\"\"\"\n",
    "# Fast backward motion\n",
    "labels_linear = robot_vel[:,0] < -0.0025\n",
    "\n",
    "# Rightward turns\n",
    "labels_rotational = (robot_vel[:,1]) < -0.02"
   ]
  },
  {
   "cell_type": "code",
   "execution_count": null,
   "metadata": {
    "colab": {
     "base_uri": "https://localhost:8080/",
     "height": 413
    },
    "id": "-d6iuFQbYt2J",
    "outputId": "f2f015f1-c67f-4bbd-efd6-14abfc6e87c9",
    "wm": "ApccFt0MQeI72fjy"
   },
   "outputs": [],
   "source": [
    "\"\"\" TODO\n",
    "Augment the figure you created above to show the two newly-created\n",
    "class labels.  Make sure that the resulting figure is easy to read\n",
    "\"\"\"\n",
    "# TODO\n",
    "plt.figure()\n"
   ]
  },
  {
   "cell_type": "markdown",
   "metadata": {
    "id": "1GFZBuocYt2L",
    "wm": "ApccFt0MQeI72fjy"
   },
   "source": [
    "## First Classifier\n",
    "Create an instance of the SGDClassifier and fit our entire data set using this data.\n",
    "\n",
    "Details: Random_state=1138, max_iter=10000, tol=1e-3, and\n",
    "that uses the log_loss function. Fit the model using the position x, y, z\n",
    "and velocity x, y, z for all limbs as the input features to the model. Use\n",
    "the robot linear velocity labels as the desired output of the model."
   ]
  },
  {
   "cell_type": "code",
   "execution_count": null,
   "metadata": {
    "id": "1GFZBuocYt2L",
    "wm": "ApccFt0MQeI72fjy"
   },
   "outputs": [],
   "source": [
    "\"\"\" TODO\n",
    "\"\"\"\n",
    "# Input\n",
    "X = inputs_pos_vel\n",
    "\n",
    "# Desired output\n",
    "y = labels_linear\n",
    "\n",
    "# TODO: Create and fit the classifer\n",
    "clf = # TODO\n",
    "clf.fit(X, y)\n",
    "\n",
    "# TODO: extract the predictions and the decision function scores from the model for the \n",
    "#  entire data set\n",
    "preds = #TODO\n",
    "\n",
    "scores = #TODO"
   ]
  },
  {
   "cell_type": "code",
   "execution_count": null,
   "metadata": {
    "id": "Vk08FNU_Yt2P",
    "wm": "ApccFt0MQeI72fjy"
   },
   "outputs": [],
   "source": [
    "\"\"\" PROVIDED\n",
    "\"\"\"\n",
    "# Generate a color map plot for a confusion matrix\n",
    "def confusion_mtx_colormap(mtx, xnames, ynames, cbarlabel=\"\", FIGWIDTH=5, FIGHEIGHT=5, FONTSIZE=14):\n",
    "    ''' \n",
    "    Generate a figure that plots a colormap of a matrix\n",
    "    PARAMS:\n",
    "        mtx: matrix of values\n",
    "        xnames: list of x tick names\n",
    "        ynames: list of the y tick names\n",
    "        cbarlabel: label for the color bar\n",
    "    RETURNS:\n",
    "        fig, ax: the corresponding handles for the figure and axis\n",
    "    '''\n",
    "    nxvars = mtx.shape[1]\n",
    "    nyvars = mtx.shape[0]\n",
    "    \n",
    "    # create the figure and plot the correlation matrix\n",
    "    fig, ax = plt.subplots(figsize=(FIGWIDTH, FIGHEIGHT))\n",
    "    im = ax.imshow(mtx, cmap='summer')\n",
    "    if not cbarlabel == \"\":\n",
    "        cbar = ax.figure.colorbar(im, ax=ax)\n",
    "        cbar.ax.set_ylabel(cbarlabel, rotation=-90, va=\"bottom\")\n",
    "    \n",
    "    # Specify the row and column ticks and labels for the figure\n",
    "    ax.set_xticks(range(nxvars))\n",
    "    ax.set_yticks(range(nyvars))\n",
    "    ax.set_xticklabels(xnames)\n",
    "    ax.set_yticklabels(ynames)\n",
    "    ax.set_xlabel(\"Predicted Labels\")\n",
    "    ax.set_ylabel(\"Actual Labels\")\n",
    "\n",
    "    # Rotate the tick labels and set their alignment.\n",
    "    plt.setp(ax.get_xticklabels(), rotation=45, \n",
    "             ha=\"right\", rotation_mode=\"anchor\")\n",
    "\n",
    "    # Loop over data dimensions and create text annotations.\n",
    "    lbl = np.array([['TN', 'FP'], ['FN', 'TP']])\n",
    "    for i in range(nyvars):\n",
    "        for j in range(nxvars):\n",
    "            text = ax.text(j, i, \"%s = %.3f\" % (lbl[i,j], mtx[i, j]),\n",
    "                           ha=\"center\", va=\"center\", color=\"k\")\n",
    "            #text.set_path_effects([peffects.withStroke(linewidth=2, \n",
    "            #foreground='w')])\n",
    "\n",
    "    return fig, ax\n",
    "\n",
    "\n",
    "def display_confusion_matrix(y, preds, label_names):\n",
    "    \"\"\" \n",
    "    Compute the confusion matrix using sklearn's confusion_matrix() function and \n",
    "    generate a color map using the provided confusion_mtx_colormap() for the model \n",
    "    built using the distance labels.\n",
    "    \n",
    "    :params y: Ground truth labels\n",
    "    :params preds: Crisp predictions made by the model (i.e., after thresholding)\n",
    "    :return: Number of positive and negative examples (ground truth)\n",
    "    \"\"\"\n",
    "    dist_confusion_mtx = confusion_matrix(y, preds)\n",
    "    confusion_mtx_colormap(dist_confusion_mtx, label_names, label_names, cbarlabel=\"\") # TODO\n",
    "\n",
    "    nneg = dist_confusion_mtx[0].sum()\n",
    "    npos = dist_confusion_mtx[1].sum()\n",
    "    return npos, nneg"
   ]
  },
  {
   "cell_type": "code",
   "execution_count": null,
   "metadata": {
    "id": "1GFZBuocYt2L",
    "wm": "ApccFt0MQeI72fjy"
   },
   "outputs": [],
   "source": [
    "'''\n",
    "TODO: Complete the visualization implementations\n",
    "'''\n",
    "def visualize_model_output_timeseries(y, preds, scores, threshold=0, offset_pred=-2, offset_scores=-8):\n",
    "    '''\n",
    "    Plot timeseries on a single axis:\n",
    "    1. True class (y)\n",
    "    2. Predicted class (preds)\n",
    "    3. Prediction scores (scores)\n",
    "    \n",
    "    In addition, draw a horizontal line over the scores that shows the decision threshold \n",
    "    (by default the decision threshold is zero)\n",
    "    \n",
    "    Don't forget to supply a meaningful legend and to label the horizontal axis\n",
    "    '''\n",
    "    \n",
    "    plt.figure()\n",
    "    # TODO\n",
    "    \n",
    "    plt.xlabel(\"Time (s)\")\n",
    "    plt.legend()\n",
    "    \n",
    "    \n",
    "'''\n",
    "TODO\n",
    "\n",
    "Compute the ROC Curve and generate the KS plot\n",
    "'''\n",
    "def ks_roc_plot(targets, scores, FIGWIDTH=12, FIGHEIGHT=6, FONTSIZE=16):\n",
    "    ''' \n",
    "    Generate a figure with two plots:\n",
    "    1. Distributions of the TPR and FPR over a set of thresholds.  Include\n",
    "    a vertical line that shows the threshold that maximizes the difference \n",
    "    between TPR and FPR\n",
    "    2. ROC Curve.  Show the point on the curve that corresponds to the same\n",
    "    threshold\n",
    "    \n",
    "    PARAMS:\n",
    "        targets: list of true target labels\n",
    "        scores: list of predicted scores\n",
    "    RETURNS:\n",
    "        fpr: false positive rate\n",
    "        tpr: true positive rate\n",
    "        thresholds: thresholds used for the ROC curve\n",
    "        auc: Area under the ROC Curve\n",
    "        fig, axs: corresponding handles for the figure and axis\n",
    "    '''\n",
    "    fpr, tpr, thresholds =  # TODO\n",
    "    diff = tpr - fpr\n",
    "    auc_res =  # TODO\n",
    "    elem_max = np.argmax(diff)\n",
    "    thresh_max = # TODO\n",
    "    print('K-S Distance:', diff[elem_max])\n",
    "\n",
    "    # Generate figure with two axes\n",
    "    fig, ax = plt.subplots(1, 2, figsize=(FIGWIDTH,FIGHEIGHT))\n",
    "    axs = ax.ravel()  # Individual axes are ax[0] and ax[1]\n",
    "    \n",
    "    # TODO: plot TPR, FPR and difference\n",
    "    \n",
    "    ax[0].legend(['TPR', 'FPR', 'Difference'], fontsize=FONTSIZE)\n",
    "    \n",
    "    # TODO: Generate ROC Curve plot\n",
    "    \n",
    "    auc_text = ax[1].text(.05, .95, \"AUC = %.4f\" % auc_res, \n",
    "                          color=\"k\", fontsize=FONTSIZE)\n",
    "    print(\"AUC:\", auc_res)\n",
    "\n",
    "    return fpr, tpr, thresholds, thresh_max, auc_res, fig, axs\n",
    "\n",
    "\n",
    "\"\"\" \n",
    "TODO\n",
    "\n",
    "Plot histograms of the scores from the model.\n",
    "1. Histogram of all scores\n",
    "2. Overlapping histograms of the scores for the positive and negative examples\n",
    "\n",
    "Make sure to include a horizontal line at the best threshold (K-S threshold).\n",
    "\"\"\"\n",
    "\n",
    "def plot_score_histograms(scores, y, best_thresh=None, nbins = 41, FIGWIDTH=8, FIGHEIGHT=4):\n",
    "    '''\n",
    "    Generate two plots:\n",
    "    1. Histogram of all scores\n",
    "    2. Two histograms: one for positive examples and the other for negative examples\n",
    "    \n",
    "    :param scores: Model scores for all samples\n",
    "    :param y: Ground truth labels for all samples\n",
    "    '''\n",
    "\n",
    "    scores_pos = [s for (s, l) in zip(scores, y) if l]     # TODO\n",
    "    scores_neg = [s for (s, l) in zip(scores, y) if not l] # TODO\n",
    "\n",
    "    plt.figure(figsize=(FIGWIDTH, FIGHEIGHT))\n",
    "    plt.subplot(1,2,1)\n",
    "    # TODO\n",
    "    n, bins, patches = plt.hist(scores, bins=nbins)\n",
    "    if best_thresh is not None:\n",
    "        # TODO plot vertical line\n",
    "        \n",
    "    plt.xlabel('score')\n",
    "    plt.ylabel('count')\n",
    "\n",
    "    plt.subplot(1,2,2)\n",
    "    # TODO\n",
    "   \n",
    "        \n",
    "    plt.xlabel('score')\n",
    "    plt.legend(loc='upper right')"
   ]
  },
  {
   "cell_type": "code",
   "execution_count": null,
   "metadata": {
    "id": "1GFZBuocYt2L",
    "wm": "ApccFt0MQeI72fjy"
   },
   "outputs": [],
   "source": [
    "# EXECUTE CELL: Visualize the predictions made by the model in timeseries form\n",
    "visualize_model_output_timeseries(y, preds, scores)"
   ]
  },
  {
   "cell_type": "code",
   "execution_count": null,
   "metadata": {
    "id": "1GFZBuocYt2L",
    "wm": "ApccFt0MQeI72fjy"
   },
   "outputs": [],
   "source": [
    "# EXECUTE CELL\n",
    "display_confusion_matrix(y, preds, ['not', 'fast backward'])\n"
   ]
  },
  {
   "cell_type": "code",
   "execution_count": null,
   "metadata": {
    "id": "1GFZBuocYt2L",
    "wm": "ApccFt0MQeI72fjy"
   },
   "outputs": [],
   "source": [
    "# EXECUTE CELL: Generate the TPR/FPR and ROC plots\n",
    "fpr, tpr, thresholds, best_thresh, auc_res, fig, axs = ks_roc_plot(y, scores) "
   ]
  },
  {
   "cell_type": "code",
   "execution_count": null,
   "metadata": {
    "id": "1GFZBuocYt2L",
    "wm": "ApccFt0MQeI72fjy"
   },
   "outputs": [],
   "source": [
    "# EXECUTE CELL: Plot score histograms\n",
    "plot_score_histograms(scores, y, best_thresh)"
   ]
  },
  {
   "cell_type": "code",
   "execution_count": null,
   "metadata": {
    "id": "1GFZBuocYt2L",
    "wm": "ApccFt0MQeI72fjy"
   },
   "outputs": [],
   "source": []
  },
  {
   "cell_type": "markdown",
   "metadata": {
    "id": "1GFZBuocYt2L",
    "wm": "ApccFt0MQeI72fjy"
   },
   "source": [
    "## Rotational Velocity Classifier\n",
    "\n",
    "Create a new classifier that predicts the 'fast rightward velocity' label.  Use the same\n",
    "parameters for the classifier as above."
   ]
  },
  {
   "cell_type": "code",
   "execution_count": null,
   "metadata": {
    "id": "1GFZBuocYt2L",
    "wm": "ApccFt0MQeI72fjy"
   },
   "outputs": [],
   "source": [
    "\"\"\" TODO\n",
    "\"\"\"\n",
    "# Input\n",
    "X = inputs_pos_vel\n",
    "\n",
    "# Desired output\n",
    "y = labels_rotational\n",
    "\n",
    "# TODO: Create and fit the classifer\n",
    "clf =  # TODO\n",
    "\n",
    "\n",
    "# TODO: extract the predictions and the decision function scores from the model for the entire data set\n",
    "preds = # TODO\n",
    "\n",
    "scores = # TODO"
   ]
  },
  {
   "cell_type": "code",
   "execution_count": null,
   "metadata": {
    "id": "1GFZBuocYt2L",
    "wm": "ApccFt0MQeI72fjy"
   },
   "outputs": [],
   "source": [
    "# EXECUTE CELL: Visualize the predictions made by the model in timeseries form\n",
    "visualize_model_output_timeseries(y, preds, scores)"
   ]
  },
  {
   "cell_type": "code",
   "execution_count": null,
   "metadata": {
    "id": "1GFZBuocYt2L",
    "wm": "ApccFt0MQeI72fjy"
   },
   "outputs": [],
   "source": [
    "# EXECUTE CELL\n",
    "display_confusion_matrix(y, preds, ['not', 'fast right'])\n"
   ]
  },
  {
   "cell_type": "code",
   "execution_count": null,
   "metadata": {
    "id": "1GFZBuocYt2L",
    "wm": "ApccFt0MQeI72fjy"
   },
   "outputs": [],
   "source": [
    "# EXECUTE CELL: Generate the TPR/FPR and ROC plots\n",
    "fpr, tpr, thresholds, best_thresh, auc_res, fig, axs = ks_roc_plot(y, scores) "
   ]
  },
  {
   "cell_type": "code",
   "execution_count": null,
   "metadata": {
    "id": "1GFZBuocYt2L",
    "wm": "ApccFt0MQeI72fjy"
   },
   "outputs": [],
   "source": [
    "# EXECUTE CELL: Plot score histograms\n",
    "plot_score_histograms(scores, y, best_thresh)"
   ]
  },
  {
   "cell_type": "markdown",
   "metadata": {
    "id": "1GFZBuocYt2L",
    "wm": "ApccFt0MQeI72fjy"
   },
   "source": [
    "# Reflection\n",
    "Please provide short answers to each of the questions\n",
    "\n",
    "_Q1. Examining the two ground truth labels, to what degree do they overlap in time?  (i.e., how often is the robot backing up at the same time that it is turning to the right)?_\n",
    "\n",
    "**TODO**\n",
    "\n",
    "\n",
    "_Q2. Which of the two models exhibit the highest Kolmogorov-Schmirnov Distance?_\n",
    "\n",
    "**TODO**\n",
    "\n",
    "\n",
    "_Q3. Did your pre-processing stage eliminate all of the NaNs in your data?  How do you know?_\n",
    "\n",
    "**TODO**\n",
    "\n",
    "_Q4.  Which model exibits the best AUC?_\n",
    "\n",
    "**TODO**\n",
    "\n",
    "\n"
   ]
  },
  {
   "cell_type": "markdown",
   "metadata": {
    "id": "1GFZBuocYt2L",
    "wm": "ApccFt0MQeI72fjy"
   },
   "source": [
    "# Classification Using Cross-Validation\n",
    "\n",
    "So far, we have used the same data set for both training the model and testing it.  This can give us a very skewed picture of the model's capability to perform well with unused data.  Here, we will use simple Cross-Validation to simulate model performance on unseen data."
   ]
  },
  {
   "cell_type": "code",
   "execution_count": null,
   "metadata": {
    "id": "pBmsKH0nYt2M",
    "wm": "ApccFt0MQeI72fjy"
   },
   "outputs": [],
   "source": [
    "\"\"\" TODO\n",
    "LINEAR VELOCITY\n",
    "\n",
    "Create another SGDClassifier with the same parameters to predict the linear\n",
    "velocity label as a function of the kinematic positions and velocities.\n",
    "\n",
    "W will use cross_val_predict() to fit N models, and compute \n",
    "predictions for each sample and their corresponding scores. Use 30 cross \n",
    "validation splits (i.e. cv=30).\n",
    "\n",
    "\"\"\"\n",
    "# Model input\n",
    "X = inputs_pos_vel\n",
    "# Model output\n",
    "y = labels_linear\n",
    "\n",
    "# TODO: Create and fit the classifer\n",
    "clf3 =  # TODO\n",
    "\n",
    "# TODO: use cross_val_predict() to compute the scores by setting the 'method'\n",
    "#       parameter equal to 'decision_function'. Please see the reference \n",
    "#       links above\n",
    "scores = # TODO\n",
    "\n",
    "# TODO: use cross_val_predict() to compute the predicted labels by setting \n",
    "#       the 'method' parameter equal to 'predict'. Please see the reference \n",
    "#       links above\n",
    "preds = # TODO"
   ]
  },
  {
   "cell_type": "code",
   "execution_count": null,
   "metadata": {
    "colab": {
     "base_uri": "https://localhost:8080/",
     "height": 413
    },
    "id": "rJ2DjhpWYt2N",
    "outputId": "76c309bf-1c2a-45a7-a96e-92958e332416",
    "wm": "ApccFt0MQeI72fjy"
   },
   "outputs": [],
   "source": [
    "# EXECUTE CELL: Visualize the predictions made by the model in timeseries form\n",
    "visualize_model_output_timeseries(y, preds, scores)"
   ]
  },
  {
   "cell_type": "code",
   "execution_count": null,
   "metadata": {
    "colab": {
     "base_uri": "https://localhost:8080/",
     "height": 413
    },
    "id": "rJ2DjhpWYt2N",
    "outputId": "76c309bf-1c2a-45a7-a96e-92958e332416",
    "wm": "ApccFt0MQeI72fjy"
   },
   "outputs": [],
   "source": [
    "# EXECUTE CELL\n",
    "display_confusion_matrix(y, preds, ['not', 'fast backward'])\n"
   ]
  },
  {
   "cell_type": "code",
   "execution_count": null,
   "metadata": {
    "colab": {
     "base_uri": "https://localhost:8080/",
     "height": 413
    },
    "id": "rJ2DjhpWYt2N",
    "outputId": "76c309bf-1c2a-45a7-a96e-92958e332416",
    "wm": "ApccFt0MQeI72fjy"
   },
   "outputs": [],
   "source": [
    "# EXECUTE CELL: Generate the TPR/FPR and ROC plots\n",
    "fpr, tpr, thresholds, best_thresh, auc_res, fig, axs = ks_roc_plot(y, scores) \n",
    "x = np.argmax(tpr-fpr)\n",
    "print(\"Best:\", x, best_thresh)"
   ]
  },
  {
   "cell_type": "code",
   "execution_count": null,
   "metadata": {
    "colab": {
     "base_uri": "https://localhost:8080/",
     "height": 413
    },
    "id": "rJ2DjhpWYt2N",
    "outputId": "76c309bf-1c2a-45a7-a96e-92958e332416",
    "wm": "ApccFt0MQeI72fjy"
   },
   "outputs": [],
   "source": [
    "# Plot score histograms\n",
    "plot_score_histograms(scores, y, best_thresh)"
   ]
  },
  {
   "cell_type": "markdown",
   "metadata": {
    "id": "tIunQRrYYt2O",
    "wm": "ApccFt0MQeI72fjy"
   },
   "source": [
    "## Cross-validation for Rotational Velocity"
   ]
  },
  {
   "cell_type": "code",
   "execution_count": null,
   "metadata": {
    "id": "tIunQRrYYt2O",
    "wm": "ApccFt0MQeI72fjy"
   },
   "outputs": [],
   "source": [
    "\"\"\" TODO\n",
    "ROTATIONAL VELOCITY\n",
    "\n",
    "Take the same cross-validation approach for the rotational velocity label\n",
    "\n",
    "\"\"\" \n",
    "# Model input\n",
    "X = inputs_pos_vel\n",
    "# Model output\n",
    "y = labels_rotational\n",
    "\n",
    "# TODO: Create and fit the classifer\n",
    "clf4 = # TODO\n",
    "#clf.fit(X, y)\n",
    "\n",
    "# TODO: use cross_val_predict() to compute the scores by setting the 'method'\n",
    "#       parameter equal to 'decision_function'. Please see the reference \n",
    "#       links above\n",
    "scores = # TODO\n",
    "    \n",
    "# TODO: use cross_val_predict() to compute the predicted labels by setting \n",
    "#       the 'method' parameter equal to 'predict'. Please see the reference \n",
    "#       links above (unfortunately, we have to refit the models)\n",
    "preds = # TODO"
   ]
  },
  {
   "cell_type": "code",
   "execution_count": null,
   "metadata": {
    "id": "tIunQRrYYt2O",
    "wm": "ApccFt0MQeI72fjy"
   },
   "outputs": [],
   "source": [
    "# EXECUTE CELL: Visualize the predictions made by the model in timeseries form\n",
    "visualize_model_output_timeseries(y, preds, scores)"
   ]
  },
  {
   "cell_type": "code",
   "execution_count": null,
   "metadata": {
    "id": "tIunQRrYYt2O",
    "wm": "ApccFt0MQeI72fjy"
   },
   "outputs": [],
   "source": [
    "# EXECUTE CELL\n",
    "display_confusion_matrix(y, preds, ['not', 'fast right'])\n"
   ]
  },
  {
   "cell_type": "code",
   "execution_count": null,
   "metadata": {
    "id": "tIunQRrYYt2O",
    "wm": "ApccFt0MQeI72fjy"
   },
   "outputs": [],
   "source": [
    "# EXECUTE CELL: Generate the TPR/FPR and ROC plots\n",
    "fpr, tpr, thresholds, best_thresh, auc_res, fig, axs = ks_roc_plot(y, scores) \n",
    "x = np.argmax(tpr-fpr)\n",
    "print(\"Best:\", x, best_thresh)"
   ]
  },
  {
   "cell_type": "code",
   "execution_count": null,
   "metadata": {
    "id": "tIunQRrYYt2O",
    "wm": "ApccFt0MQeI72fjy"
   },
   "outputs": [],
   "source": [
    "# Plot score histograms\n",
    "plot_score_histograms(scores, y, best_thresh)"
   ]
  },
  {
   "cell_type": "code",
   "execution_count": null,
   "metadata": {
    "id": "tIunQRrYYt2O",
    "wm": "ApccFt0MQeI72fjy"
   },
   "outputs": [],
   "source": []
  },
  {
   "cell_type": "markdown",
   "metadata": {
    "id": "tIunQRrYYt2O",
    "wm": "ApccFt0MQeI72fjy"
   },
   "source": [
    "# Reflection, Part 2\n",
    "\n",
    "Write a short answer to each of the following questions:\n",
    "\n",
    "_Q5. Looking at the results from the first and second linear velocity models:  What is the difference in their performance and how do you explain this difference?_\n",
    "\n",
    "**TODO**\n",
    "\n",
    "_Q6. Looking at the results from the first and second rotational velocity models: which performance results are best to report when discussing model performance?_\n",
    "\n",
    "**TODO**\n",
    "\n",
    "\n",
    "_Q7.  Looking at the linear velocity cross-validation TPR/FPR curves: what is the ideal threshold to use that distinquishes between the two classes?  Which threshold is used for the corresponding confusion matrix plot?_\n",
    "\n",
    "**TODO**\n",
    "\n",
    "\n",
    "_Q8. What is the False Positive Rate for the rotational velocity cross-validated model at the threshold that maximizes the difference between TPR and FPR?_\n",
    "\n",
    "**TODO**\n",
    "\n",
    "\n",
    "\n"
   ]
  },
  {
   "cell_type": "code",
   "execution_count": null,
   "metadata": {
    "id": "tIunQRrYYt2O",
    "wm": "ApccFt0MQeI72fjy"
   },
   "outputs": [],
   "source": []
  },
  {
   "cell_type": "code",
   "execution_count": null,
   "metadata": {
    "id": "FmJluw_WYt2d",
    "wm": "ApccFt0MQeI72fjy"
   },
   "outputs": [],
   "source": []
  }
 ],
 "metadata": {
  "colab": {
   "provenance": []
  },
  "kernelspec": {
   "display_name": "Python 3 (ipykernel)",
   "language": "python",
   "name": "python3"
  },
  "language_info": {
   "codemirror_mode": {
    "name": "ipython",
    "version": 3
   },
   "file_extension": ".py",
   "mimetype": "text/x-python",
   "name": "python",
   "nbconvert_exporter": "python",
   "pygments_lexer": "ipython3",
   "version": "3.9.16"
  },
  "toc": {
   "base_numbering": 1,
   "nav_menu": {},
   "number_sections": true,
   "sideBar": true,
   "skip_h1_title": false,
   "title_cell": "Table of Contents",
   "title_sidebar": "Contents",
   "toc_cell": false,
   "toc_position": {},
   "toc_section_display": true,
   "toc_window_display": false
  }
 },
 "nbformat": 4,
 "nbformat_minor": 4
}
