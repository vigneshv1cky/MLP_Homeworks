{
 "cells": [
  {
   "cell_type": "markdown",
   "id": "08c6f1e5-349b-41a6-aefa-3007b5a8817c",
   "metadata": {},
   "source": [
    "# Recommending songs by embeddings\n",
    "\n",
    "**NOTE:** This notebook is based on the tutorial in Chapter 2 of *[Hands-On Large Language Models](https://www.oreilly.com/library/view/hands-on-large-language/9781098150952/)* by [Jay Alammar](https://www.linkedin.com/in/jalammar/) and [Maarten Grootendorst](https://www.linkedin.com/in/mgrootendorst/).\n",
    "\n",
    "The idea here is that we have a bunch of song playlists like this...\n",
    "\n",
    "- Rossana * Billy Jean * Let's go crazy * etc.\n",
    "- Fack to black * Between the lines * One * etc.\n",
    "\n",
    "...and the word embedding model will cluster songs that appear next to each other in a bunch of playlists. We can then use those similarities to generate new playlists based on individual songs."
   ]
  },
  {
   "cell_type": "code",
   "id": "da0657da-b051-4db2-aad6-19b02f99fa0c",
   "metadata": {
    "ExecuteTime": {
     "end_time": "2024-10-31T16:46:17.927343Z",
     "start_time": "2024-10-31T16:46:13.724416Z"
    }
   },
   "source": [
    "%%capture \n",
    "# %%capture prevents this cell from printing a ton of STDERR stuff to the screen\n",
    "\n",
    "## NOTE: Uncomment the next line to install stuff if you need to.\n",
    "##       Also, installing can take a few minutes...\n",
    "\n",
    "# !pip install gensim # we use gensim to download a word2vec model"
   ],
   "outputs": [],
   "execution_count": 3
  },
  {
   "cell_type": "code",
   "id": "bf7d5a1b-b3a7-45b4-8160-35d66c6658f8",
   "metadata": {
    "ExecuteTime": {
     "end_time": "2024-10-31T16:46:36.348333Z",
     "start_time": "2024-10-31T16:46:34.193372Z"
    }
   },
   "source": [
    "## Import modules we'll need\n",
    "import urllib.request\n",
    "from gensim.models import word2vec # We will train a word2vec model with playlist data\n",
    "import pandas as pd # we'll use pandas to format data"
   ],
   "outputs": [],
   "execution_count": 4
  },
  {
   "cell_type": "code",
   "id": "e880ecf7-ddf1-448c-8606-c934bb4fcfd6",
   "metadata": {
    "ExecuteTime": {
     "end_time": "2024-10-31T16:46:38.708551Z",
     "start_time": "2024-10-31T16:46:37.905184Z"
    }
   },
   "source": [
    "## Read in a tab-delimited file that contains song id numbers\n",
    "## paired with song names and artists.\n",
    "# id_to_title = pd.read_csv(\"song_hash.txt\", sep=\"\\t\", \n",
    "#                           header=None, \n",
    "#                           names=[\"id\", \"title\", \"artist\"])\n",
    "id_to_title = pd.read_csv(\"https://raw.githubusercontent.com/StatQuest/embeddings_for_recommendations/main/song_hash.txt\", \n",
    "                          sep=\"\\t\", \n",
    "                          header=None, \n",
    "                          names=[\"id\", \"title\", \"artist\"])\n",
    "id_to_title.head() # print out the first few rows"
   ],
   "outputs": [
    {
     "data": {
      "text/plain": [
       "   id                                              title      artist\n",
       "0   0                       Gucci Time (w\\/ Swizz Beatz)  Gucci Mane\n",
       "1   1  Aston Martin Music (w\\/ Drake & Chrisette Mich...   Rick Ross\n",
       "2   2                      Get Back Up (w\\/ Chris Brown)        T.I.\n",
       "3   3                 Hot Toddy (w\\/ Jay-Z & Ester Dean)       Usher\n",
       "4   4                                       Whip My Hair      Willow"
      ],
      "text/html": [
       "<div>\n",
       "<style scoped>\n",
       "    .dataframe tbody tr th:only-of-type {\n",
       "        vertical-align: middle;\n",
       "    }\n",
       "\n",
       "    .dataframe tbody tr th {\n",
       "        vertical-align: top;\n",
       "    }\n",
       "\n",
       "    .dataframe thead th {\n",
       "        text-align: right;\n",
       "    }\n",
       "</style>\n",
       "<table border=\"1\" class=\"dataframe\">\n",
       "  <thead>\n",
       "    <tr style=\"text-align: right;\">\n",
       "      <th></th>\n",
       "      <th>id</th>\n",
       "      <th>title</th>\n",
       "      <th>artist</th>\n",
       "    </tr>\n",
       "  </thead>\n",
       "  <tbody>\n",
       "    <tr>\n",
       "      <th>0</th>\n",
       "      <td>0</td>\n",
       "      <td>Gucci Time (w\\/ Swizz Beatz)</td>\n",
       "      <td>Gucci Mane</td>\n",
       "    </tr>\n",
       "    <tr>\n",
       "      <th>1</th>\n",
       "      <td>1</td>\n",
       "      <td>Aston Martin Music (w\\/ Drake &amp; Chrisette Mich...</td>\n",
       "      <td>Rick Ross</td>\n",
       "    </tr>\n",
       "    <tr>\n",
       "      <th>2</th>\n",
       "      <td>2</td>\n",
       "      <td>Get Back Up (w\\/ Chris Brown)</td>\n",
       "      <td>T.I.</td>\n",
       "    </tr>\n",
       "    <tr>\n",
       "      <th>3</th>\n",
       "      <td>3</td>\n",
       "      <td>Hot Toddy (w\\/ Jay-Z &amp; Ester Dean)</td>\n",
       "      <td>Usher</td>\n",
       "    </tr>\n",
       "    <tr>\n",
       "      <th>4</th>\n",
       "      <td>4</td>\n",
       "      <td>Whip My Hair</td>\n",
       "      <td>Willow</td>\n",
       "    </tr>\n",
       "  </tbody>\n",
       "</table>\n",
       "</div>"
      ]
     },
     "execution_count": 5,
     "metadata": {},
     "output_type": "execute_result"
    }
   ],
   "execution_count": 5
  },
  {
   "cell_type": "markdown",
   "id": "a5246193-5a53-45ca-bb0a-8a194a23c5eb",
   "metadata": {},
   "source": [
    "----"
   ]
  },
  {
   "cell_type": "markdown",
   "id": "5d5b4cbe-3c25-46d9-b6fd-382ba74cea40",
   "metadata": {},
   "source": [
    "# Import the playlist data"
   ]
  },
  {
   "cell_type": "code",
   "id": "374260cc-e31e-4299-96a5-b27e39af4e10",
   "metadata": {
    "ExecuteTime": {
     "end_time": "2024-10-31T16:47:28.730968Z",
     "start_time": "2024-10-31T16:47:27.846256Z"
    }
   },
   "source": [
    "## NOTE: The data files were originally created by Shuo Chen (shuochen@cs.cornell.edu) \n",
    "##       in the Dept. of Computer Science, Cornell University.\n",
    "## I downloaded them from here: https://www.cs.cornell.edu/~shuochen/lme/data_page.html\n",
    "##\n",
    "## open() opens the file...\n",
    "## read() reads it in...\n",
    "## split('\\n') makes it legible\n",
    "## [2:] skips the first to lines of metadata\n",
    "# data = open(\"train.txt\", \"r\").read().split('\\n')[2:]\n",
    "\n",
    "data = urllib.request.urlopen('https://raw.githubusercontent.com/StatQuest/embeddings_for_recommendations/main/train.txt')\n",
    "data = data.read().decode(\"utf-8\").split('\\n')[2:]"
   ],
   "outputs": [],
   "execution_count": 6
  },
  {
   "cell_type": "code",
   "id": "3fb63b0f-819c-4170-b0f2-e40b3e9b2b41",
   "metadata": {
    "ExecuteTime": {
     "end_time": "2024-10-31T16:47:30.712402Z",
     "start_time": "2024-10-31T16:47:30.569695Z"
    }
   },
   "source": [
    "## Remove playlists with only one song\n",
    "playlists = [s.rstrip().split() for s in data if len(s.split()) > 1]"
   ],
   "outputs": [],
   "execution_count": 7
  },
  {
   "cell_type": "code",
   "id": "314ac37e-039f-476e-b088-e221056c0936",
   "metadata": {
    "ExecuteTime": {
     "end_time": "2024-10-31T16:47:34.103706Z",
     "start_time": "2024-10-31T16:47:34.098197Z"
    }
   },
   "source": [
    "print( 'Playlist #1:\\n ', playlists[0], '\\n')\n",
    "print( 'Playlist #2:\\n ', playlists[1])"
   ],
   "outputs": [
    {
     "name": "stdout",
     "output_type": "stream",
     "text": [
      "Playlist #1:\n",
      "  ['0', '1', '2', '3', '4', '5', '6', '7', '8', '9', '10', '11', '12', '13', '14', '15', '16', '17', '18', '19', '20', '21', '22', '23', '24', '25', '26', '27', '28', '29', '30', '31', '32', '33', '34', '35', '36', '37', '38', '39', '40', '41', '2', '42', '43', '44', '45', '46', '47', '48', '20', '49', '8', '50', '51', '52', '53', '54', '55', '56', '57', '25', '58', '59', '60', '61', '62', '3', '63', '64', '65', '66', '46', '47', '67', '2', '48', '68', '69', '70', '57', '50', '71', '72', '53', '73', '25', '74', '59', '20', '46', '75', '76', '77', '59', '20', '43'] \n",
      "\n",
      "Playlist #2:\n",
      "  ['78', '79', '80', '3', '62', '81', '14', '82', '48', '83', '84', '17', '85', '86', '87', '88', '74', '89', '90', '91', '4', '73', '62', '92', '17', '53', '59', '93', '94', '51', '50', '27', '95', '48', '96', '97', '98', '99', '100', '57', '101', '102', '25', '103', '3', '104', '105', '106', '107', '47', '108', '109', '110', '111', '112', '113', '25', '63', '62', '114', '115', '84', '116', '117', '118', '119', '120', '121', '122', '123', '50', '70', '71', '124', '17', '85', '14', '82', '48', '125', '47', '46', '72', '53', '25', '73', '4', '126', '59', '74', '20', '43', '127', '128', '129', '13', '82', '48', '130', '131', '132', '133', '134', '135', '136', '137', '59', '46', '138', '43', '20', '139', '140', '73', '57', '70', '141', '3', '1', '74', '142', '143', '144', '145', '48', '13', '25', '146', '50', '147', '126', '59', '20', '148', '149', '150', '151', '152', '56', '153', '154', '155', '156', '157', '158', '159', '160', '161', '162', '163', '164', '165', '166', '167', '168', '169', '170', '171', '172', '173', '174', '175', '60', '176', '51', '177', '178', '179', '180', '181', '182', '183', '184', '185', '57', '186', '187', '188', '189', '190', '191', '46', '192', '193', '194', '195', '196', '197', '198', '25', '199', '200', '49', '201', '100', '202', '203', '204', '205', '206', '207', '32', '208', '209', '210']\n"
     ]
    }
   ],
   "execution_count": 8
  },
  {
   "cell_type": "code",
   "id": "23ed1d22-06b5-4b3d-a278-5de59874c864",
   "metadata": {
    "ExecuteTime": {
     "end_time": "2024-10-31T16:48:07.403831Z",
     "start_time": "2024-10-31T16:48:03.643913Z"
    }
   },
   "source": [
    "## Train a word embedding model with our playlists\n",
    "## NOTE: By default Word2Vec uses the \"CBOW\" (continuous bag of words) method for \n",
    "##       training. CBOW uses surrounding words to predict a word in the middle.\n",
    "##       For example, if the training set was \"Troll2 is great\", then\n",
    "##       CBOW would use \"Troll2\" and \"great\" to predicet \"is\".\n",
    "## vector_size : dimensionality of the word vectors.\n",
    "## negative : If > 0, negative sampling will be used, \n",
    "##            and specifies how many “noise words” should be drawn (usually between 5-20).\n",
    "## min_count : Ignores all words with total frequency lower than this.\n",
    "## workers : Use these many worker threads to train the model\n",
    "## NOTE: The value I selected for the arguments allowed for relatively fast training and \n",
    "##       worked well enough.\n",
    "model = word2vec.Word2Vec(playlists, vector_size=32, negative=10, min_count=1, workers=4) #"
   ],
   "outputs": [],
   "execution_count": 9
  },
  {
   "cell_type": "code",
   "id": "c8162466-fced-4cfc-836a-e076b44b4e5f",
   "metadata": {
    "ExecuteTime": {
     "end_time": "2024-10-31T16:48:08.827053Z",
     "start_time": "2024-10-31T16:48:08.823908Z"
    }
   },
   "source": [
    "song_id = 3822 # Billie Jean - Michael Jackson\n",
    "# song_id = 2172 # Fade To Black - Metallica\n",
    "# song_id = 842 # California Love - 2Pac"
   ],
   "outputs": [],
   "execution_count": 10
  },
  {
   "cell_type": "code",
   "id": "bc27817b-dfe0-4f23-af12-3a9a1dc31600",
   "metadata": {
    "ExecuteTime": {
     "end_time": "2024-10-31T16:48:10.282562Z",
     "start_time": "2024-10-31T16:48:10.273828Z"
    }
   },
   "source": [
    "id_to_title.iloc[song_id]"
   ],
   "outputs": [
    {
     "data": {
      "text/plain": [
       "id                   3822\n",
       "title         Billie Jean\n",
       "artist    Michael Jackson\n",
       "Name: 3822, dtype: object"
      ]
     },
     "execution_count": 11,
     "metadata": {},
     "output_type": "execute_result"
    }
   ],
   "execution_count": 11
  },
  {
   "cell_type": "code",
   "id": "c9d560ee-fd07-41bb-87af-221241b89c82",
   "metadata": {
    "ExecuteTime": {
     "end_time": "2024-10-31T16:48:15.593352Z",
     "start_time": "2024-10-31T16:48:15.548985Z"
    }
   },
   "source": [
    "## find the most similar songs\n",
    "new_playlist = pd.DataFrame(model.wv.most_similar(positive=str(song_id)),\n",
    "                            columns=[\"id\", \"sim\"])  "
   ],
   "outputs": [],
   "execution_count": 12
  },
  {
   "cell_type": "code",
   "id": "15d783e5-5373-4584-ad8d-bfa3afcdf28b",
   "metadata": {
    "ExecuteTime": {
     "end_time": "2024-10-31T16:48:17.534965Z",
     "start_time": "2024-10-31T16:48:17.527831Z"
    }
   },
   "source": [
    "new_playlist"
   ],
   "outputs": [
    {
     "data": {
      "text/plain": [
       "      id       sim\n",
       "0   4111  0.985519\n",
       "1  11622  0.981036\n",
       "2    500  0.977418\n",
       "3   4181  0.975966\n",
       "4  19162  0.971487\n",
       "5   3809  0.969897\n",
       "6   3791  0.966917\n",
       "7   3381  0.966449\n",
       "8   3893  0.965715\n",
       "9   3385  0.965069"
      ],
      "text/html": [
       "<div>\n",
       "<style scoped>\n",
       "    .dataframe tbody tr th:only-of-type {\n",
       "        vertical-align: middle;\n",
       "    }\n",
       "\n",
       "    .dataframe tbody tr th {\n",
       "        vertical-align: top;\n",
       "    }\n",
       "\n",
       "    .dataframe thead th {\n",
       "        text-align: right;\n",
       "    }\n",
       "</style>\n",
       "<table border=\"1\" class=\"dataframe\">\n",
       "  <thead>\n",
       "    <tr style=\"text-align: right;\">\n",
       "      <th></th>\n",
       "      <th>id</th>\n",
       "      <th>sim</th>\n",
       "    </tr>\n",
       "  </thead>\n",
       "  <tbody>\n",
       "    <tr>\n",
       "      <th>0</th>\n",
       "      <td>4111</td>\n",
       "      <td>0.985519</td>\n",
       "    </tr>\n",
       "    <tr>\n",
       "      <th>1</th>\n",
       "      <td>11622</td>\n",
       "      <td>0.981036</td>\n",
       "    </tr>\n",
       "    <tr>\n",
       "      <th>2</th>\n",
       "      <td>500</td>\n",
       "      <td>0.977418</td>\n",
       "    </tr>\n",
       "    <tr>\n",
       "      <th>3</th>\n",
       "      <td>4181</td>\n",
       "      <td>0.975966</td>\n",
       "    </tr>\n",
       "    <tr>\n",
       "      <th>4</th>\n",
       "      <td>19162</td>\n",
       "      <td>0.971487</td>\n",
       "    </tr>\n",
       "    <tr>\n",
       "      <th>5</th>\n",
       "      <td>3809</td>\n",
       "      <td>0.969897</td>\n",
       "    </tr>\n",
       "    <tr>\n",
       "      <th>6</th>\n",
       "      <td>3791</td>\n",
       "      <td>0.966917</td>\n",
       "    </tr>\n",
       "    <tr>\n",
       "      <th>7</th>\n",
       "      <td>3381</td>\n",
       "      <td>0.966449</td>\n",
       "    </tr>\n",
       "    <tr>\n",
       "      <th>8</th>\n",
       "      <td>3893</td>\n",
       "      <td>0.965715</td>\n",
       "    </tr>\n",
       "    <tr>\n",
       "      <th>9</th>\n",
       "      <td>3385</td>\n",
       "      <td>0.965069</td>\n",
       "    </tr>\n",
       "  </tbody>\n",
       "</table>\n",
       "</div>"
      ]
     },
     "execution_count": 13,
     "metadata": {},
     "output_type": "execute_result"
    }
   ],
   "execution_count": 13
  },
  {
   "cell_type": "code",
   "id": "5fd5559b-5f06-4127-aff4-bb41a51437ab",
   "metadata": {
    "ExecuteTime": {
     "end_time": "2024-10-31T16:48:18.850594Z",
     "start_time": "2024-10-31T16:48:18.839813Z"
    }
   },
   "source": [
    "## Print out the song names and artists for the new\n",
    "id_to_title.iloc[new_playlist[\"id\"]]"
   ],
   "outputs": [
    {
     "data": {
      "text/plain": [
       "          id                           title                     artist\n",
       "4111    4111                         Rosanna                       Toto\n",
       "11622  11622                   Mandolin Rain  Bruce Hornsby & The Range\n",
       "500      500  Don't Stop 'Til You Get Enough            Michael Jackson\n",
       "4181    4181                            Kiss    Prince & The Revolution\n",
       "19162  19162                    I Can't Wait                   Nu Shooz\n",
       "3809    3809                     Super Freak                 Rick James\n",
       "3791    3791                  When Doves Cry    Prince & The Revolution\n",
       "3381    3381                  Let's Go Crazy    Prince & The Revolution\n",
       "3893    3893                         Word Up                      Cameo\n",
       "3385    3385                   She's So High                Tal Bachman"
      ],
      "text/html": [
       "<div>\n",
       "<style scoped>\n",
       "    .dataframe tbody tr th:only-of-type {\n",
       "        vertical-align: middle;\n",
       "    }\n",
       "\n",
       "    .dataframe tbody tr th {\n",
       "        vertical-align: top;\n",
       "    }\n",
       "\n",
       "    .dataframe thead th {\n",
       "        text-align: right;\n",
       "    }\n",
       "</style>\n",
       "<table border=\"1\" class=\"dataframe\">\n",
       "  <thead>\n",
       "    <tr style=\"text-align: right;\">\n",
       "      <th></th>\n",
       "      <th>id</th>\n",
       "      <th>title</th>\n",
       "      <th>artist</th>\n",
       "    </tr>\n",
       "  </thead>\n",
       "  <tbody>\n",
       "    <tr>\n",
       "      <th>4111</th>\n",
       "      <td>4111</td>\n",
       "      <td>Rosanna</td>\n",
       "      <td>Toto</td>\n",
       "    </tr>\n",
       "    <tr>\n",
       "      <th>11622</th>\n",
       "      <td>11622</td>\n",
       "      <td>Mandolin Rain</td>\n",
       "      <td>Bruce Hornsby &amp; The Range</td>\n",
       "    </tr>\n",
       "    <tr>\n",
       "      <th>500</th>\n",
       "      <td>500</td>\n",
       "      <td>Don't Stop 'Til You Get Enough</td>\n",
       "      <td>Michael Jackson</td>\n",
       "    </tr>\n",
       "    <tr>\n",
       "      <th>4181</th>\n",
       "      <td>4181</td>\n",
       "      <td>Kiss</td>\n",
       "      <td>Prince &amp; The Revolution</td>\n",
       "    </tr>\n",
       "    <tr>\n",
       "      <th>19162</th>\n",
       "      <td>19162</td>\n",
       "      <td>I Can't Wait</td>\n",
       "      <td>Nu Shooz</td>\n",
       "    </tr>\n",
       "    <tr>\n",
       "      <th>3809</th>\n",
       "      <td>3809</td>\n",
       "      <td>Super Freak</td>\n",
       "      <td>Rick James</td>\n",
       "    </tr>\n",
       "    <tr>\n",
       "      <th>3791</th>\n",
       "      <td>3791</td>\n",
       "      <td>When Doves Cry</td>\n",
       "      <td>Prince &amp; The Revolution</td>\n",
       "    </tr>\n",
       "    <tr>\n",
       "      <th>3381</th>\n",
       "      <td>3381</td>\n",
       "      <td>Let's Go Crazy</td>\n",
       "      <td>Prince &amp; The Revolution</td>\n",
       "    </tr>\n",
       "    <tr>\n",
       "      <th>3893</th>\n",
       "      <td>3893</td>\n",
       "      <td>Word Up</td>\n",
       "      <td>Cameo</td>\n",
       "    </tr>\n",
       "    <tr>\n",
       "      <th>3385</th>\n",
       "      <td>3385</td>\n",
       "      <td>She's So High</td>\n",
       "      <td>Tal Bachman</td>\n",
       "    </tr>\n",
       "  </tbody>\n",
       "</table>\n",
       "</div>"
      ]
     },
     "execution_count": 14,
     "metadata": {},
     "output_type": "execute_result"
    }
   ],
   "execution_count": 14
  },
  {
   "cell_type": "markdown",
   "id": "08c396c0-7c08-4eab-8377-3425af2612f1",
   "metadata": {},
   "source": [
    "# Bam!!!"
   ]
  }
 ],
 "metadata": {
  "kernelspec": {
   "display_name": "Python 3 (ipykernel)",
   "language": "python",
   "name": "python3"
  },
  "language_info": {
   "codemirror_mode": {
    "name": "ipython",
    "version": 3
   },
   "file_extension": ".py",
   "mimetype": "text/x-python",
   "name": "python",
   "nbconvert_exporter": "python",
   "pygments_lexer": "ipython3",
   "version": "3.9.6"
  }
 },
 "nbformat": 4,
 "nbformat_minor": 5
}
