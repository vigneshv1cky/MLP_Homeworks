{
 "cells": [
  {
   "cell_type": "code",
   "execution_count": 41,
   "id": "initial_id",
   "metadata": {
    "ExecuteTime": {
     "end_time": "2024-10-09T18:33:52.552348Z",
     "start_time": "2024-10-09T18:33:52.549469Z"
    },
    "collapsed": true
   },
   "outputs": [],
   "source": [
    "# Import necessary libraries\n",
    "import pandas as pd\n",
    "import numpy as np\n",
    "from sklearn.ensemble import RandomForestClassifier\n",
    "from sklearn.preprocessing import LabelEncoder\n",
    "from sklearn.model_selection import train_test_split\n",
    "from sklearn.metrics import classification_report, accuracy_score\n",
    "from imblearn.over_sampling import RandomOverSampler\n",
    "import matplotlib.pyplot as plt\n",
    "import seaborn as sns\n",
    "from scipy.stats import rankdata, kruskal\n",
    "from scikit_posthocs import posthoc_dunn\n",
    "from sklearn.feature_selection import RFE\n",
    "from sklearn.decomposition import PCA"
   ]
  },
  {
   "cell_type": "code",
   "execution_count": 42,
   "id": "41217ebee6eb94e8",
   "metadata": {
    "ExecuteTime": {
     "end_time": "2024-10-09T18:35:43.884521Z",
     "start_time": "2024-10-09T18:35:43.877792Z"
    }
   },
   "outputs": [],
   "source": [
    "# Function to preprocess the dataset (remove alternate columns, convert types, etc.)\n",
    "def preprocess_dataset(file_path):\n",
    "    \"\"\"\n",
    "    Preprocess the dataset by removing alternate columns, converting types, and setting factor levels.\n",
    "\n",
    "    Parameters:\n",
    "    - file_path (str): Path to the CSV file containing the dataset.\n",
    "\n",
    "    Returns:\n",
    "    - dataset (DataFrame): Preprocessed dataset with selected columns, appropriate types, and categorical encoding.\n",
    "    \"\"\"\n",
    "    # Load dataset\n",
    "    dataset = pd.read_csv(file_path)\n",
    "\n",
    "    # Remove every other column from column 4 to 1122\n",
    "    cols_to_remove = [col for i, col in enumerate(dataset.columns[3:], start=4) if i % 2 == 0]\n",
    "    dataset.drop(columns=cols_to_remove, inplace=True)\n",
    "\n",
    "    # Remove the first row\n",
    "    dataset = dataset.iloc[1:, :]\n",
    "\n",
    "    # Remove Sampes Column\n",
    "    dataset = dataset.drop(columns=['Samples'])\n",
    "\n",
    "    # Convert Pos_Neg to categorical and set specific levels\n",
    "    pos_neg_order = [\"Healthy\", \"Flu\", \"RSV\", \"Covid\", \"Cancer\"]\n",
    "    dataset['Pos_Neg'] = pd.Categorical(dataset['Pos_Neg'], categories=pos_neg_order, ordered=False)\n",
    "\n",
    "    # Filter the dataset to include only 'Healthy' and 'Covid' samples\n",
    "    dataset = dataset[dataset['Pos_Neg'].isin(['Cancer', 'Covid'])]\n",
    "\n",
    "    # Remove unused categories in the 'Pos_Neg' column\n",
    "    dataset['Pos_Neg'] = dataset['Pos_Neg'].cat.remove_unused_categories()\n",
    "\n",
    "    # Convert all columns (except first two) to numeric\n",
    "    dataset.iloc[:, 2:] = dataset.iloc[:, 2:].apply(pd.to_numeric, errors='coerce')\n",
    "\n",
    "    return dataset\n"
   ]
  },
  {
   "cell_type": "code",
   "execution_count": 43,
   "id": "5cd8f82e4c418123",
   "metadata": {
    "ExecuteTime": {
     "end_time": "2024-10-09T18:35:53.423200Z",
     "start_time": "2024-10-09T18:35:53.418066Z"
    }
   },
   "outputs": [],
   "source": [
    "# Function to balance the dataset using oversampling\n",
    "def balance_dataset(dataset):\n",
    "    \"\"\"\n",
    "    Balance the dataset using random oversampling.\n",
    "\n",
    "    Parameters:\n",
    "    - dataset (DataFrame): Input dataset with features and a target column named 'Pos_Neg'.\n",
    "\n",
    "    Returns:\n",
    "    - balanced_dataset (DataFrame): Dataset with balanced classes by oversampling the minority classes.\n",
    "    \"\"\"\n",
    "    # Split features and target\n",
    "    X = dataset.drop(columns=['Pos_Neg'])\n",
    "    y = dataset['Pos_Neg']\n",
    "\n",
    "    # Perform random oversampling\n",
    "    ros = RandomOverSampler(random_state=42)\n",
    "    X_res, y_res = ros.fit_resample(X, y)\n",
    "\n",
    "    # Combine the resampled dataset\n",
    "    balanced_dataset = pd.concat([pd.Series(y_res, name='Pos_Neg'), pd.DataFrame(X_res, columns=X.columns)], axis=1)\n",
    "    return balanced_dataset\n"
   ]
  },
  {
   "cell_type": "code",
   "execution_count": 44,
   "id": "f91f4788369022bd",
   "metadata": {},
   "outputs": [],
   "source": [
    "# Function to train a random forest model and extract important features\n",
    "def train_random_forest(dataset, target_col):\n",
    "    \"\"\"\n",
    "    Train a random forest model and extract important features.\n",
    "\n",
    "    Parameters:\n",
    "    - dataset (DataFrame): Input dataset with features and target column.\n",
    "    - target_col (str): Name of the target column in the dataset.\n",
    "\n",
    "    Returns:\n",
    "    - rf_model (RandomForestClassifier): Trained random forest model.\n",
    "    - feature_importances (DataFrame): DataFrame with features and their importance scores.\n",
    "    \"\"\"\n",
    "    # Split the dataset into features and target\n",
    "    X = dataset.drop(columns=[target_col])\n",
    "    y = dataset[target_col]\n",
    "\n",
    "    # Encode target labels\n",
    "    le = LabelEncoder()\n",
    "    y_encoded = le.fit_transform(y)\n",
    "\n",
    "    # Train a random forest model\n",
    "    rf_model = RandomForestClassifier(random_state=42)\n",
    "    rf_model.fit(X, y_encoded)\n",
    "\n",
    "    # Extract feature importances\n",
    "    feature_importances = pd.DataFrame({'Feature': X.columns, 'Importance': rf_model.feature_importances_})\n",
    "    feature_importances = feature_importances.sort_values(by='Importance', ascending=False)\n",
    "\n",
    "    return rf_model, feature_importances"
   ]
  },
  {
   "cell_type": "code",
   "execution_count": 79,
   "id": "e4b01601",
   "metadata": {},
   "outputs": [],
   "source": [
    "# Function to plot a feature by category\n",
    "def plot_feature_by_category(dataset, feature_col, target_col):\n",
    "    \"\"\"\n",
    "    Plot a feature distribution by category using boxplot and stripplot.\n",
    "\n",
    "    Parameters:\n",
    "    - dataset (DataFrame): Input dataset containing the features and target.\n",
    "    - feature_col (str): Name of the feature column to plot.\n",
    "    - target_col (str): Name of the target column to group the feature values.\n",
    "\n",
    "    Returns:\n",
    "    - None\n",
    "    \"\"\"\n",
    "    \n",
    "    plt.figure(figsize=(8, 6))\n",
    "    sns.boxplot(x=target_col, y=feature_col, data=dataset, palette='pastel6')\n",
    "    sns.stripplot(x=target_col, y=feature_col, data=dataset, color='black', alpha=0.5)\n",
    "    plt.title(f'{feature_col} by {target_col}')\n",
    "    plt.show()"
   ]
  },
  {
   "cell_type": "code",
   "execution_count": 80,
   "id": "f545d7d4",
   "metadata": {},
   "outputs": [],
   "source": [
    "# Function to perform Dunn's test\n",
    "def perform_dunn_test(dataset, feature_col, target_col):\n",
    "    \"\"\"\n",
    "    Perform Dunn's test to compare multiple groups using the specified feature.\n",
    "\n",
    "    Parameters:\n",
    "    - dataset (DataFrame): Input dataset containing the feature and target columns.\n",
    "    - feature_col (str): Name of the feature column to analyze.\n",
    "    - target_col (str): Name of the target column that defines the groups.\n",
    "\n",
    "    Returns:\n",
    "    - dunn_result (DataFrame): Result of the Dunn's test, showing p-values for pairwise comparisons.\n",
    "    \"\"\"\n",
    "    dunn_result = posthoc_dunn(dataset, val_col=feature_col, group_col=target_col, p_adjust='bonferroni')\n",
    "    return dunn_result\n"
   ]
  },
  {
   "cell_type": "code",
   "execution_count": 81,
   "id": "0af61f14",
   "metadata": {},
   "outputs": [],
   "source": [
    "# Function to perform Recursive Feature Elimination (RFE)\n",
    "def perform_rfe(dataset, target_col):\n",
    "    \"\"\"\n",
    "    Perform Recursive Feature Elimination (RFE) to identify important features.\n",
    "\n",
    "    Parameters:\n",
    "    - dataset (DataFrame): Input dataset with features and target.\n",
    "    - target_col (str): Name of the target column.\n",
    "\n",
    "    Returns:\n",
    "    - rfe (RFE): Trained RFE model with support and ranking of features.\n",
    "    \"\"\"\n",
    "    # Split the dataset into features and target\n",
    "    X = dataset.drop(columns=[target_col])\n",
    "    y = dataset[target_col]\n",
    "\n",
    "    # Encode target labels\n",
    "    le = LabelEncoder()\n",
    "    y_encoded = le.fit_transform(y)\n",
    "\n",
    "    # Train a random forest model and perform RFE\n",
    "    rf_model = RandomForestClassifier(random_state=42)\n",
    "    rfe = RFE(rf_model, n_features_to_select=10)\n",
    "    rfe.fit(X, y_encoded)\n",
    "    return rfe\n"
   ]
  },
  {
   "cell_type": "code",
   "execution_count": 82,
   "id": "eff17390",
   "metadata": {},
   "outputs": [],
   "source": [
    "def perform_pca(dataset, exclude_cols):\n",
    "    \"\"\"\n",
    "    Perform Principal Component Analysis (PCA) on the dataset, excluding specified columns.\n",
    "\n",
    "    Parameters:\n",
    "    - dataset (DataFrame): Input dataset with features.\n",
    "    - exclude_cols (list): List of columns to exclude before performing PCA.\n",
    "\n",
    "    Returns:\n",
    "    - pca (PCA): Fitted PCA model.\n",
    "    - pca_result (ndarray): Transformed dataset using the first principal component.\n",
    "    \"\"\"\n",
    "    # Remove specified columns and perform PCA\n",
    "    pca_dataset = dataset.drop(columns=exclude_cols)\n",
    "    pca = PCA(n_components=1)\n",
    "    pca_result = pca.fit_transform(pca_dataset)\n",
    "    return pca, pca_result"
   ]
  },
  {
   "cell_type": "code",
   "execution_count": 83,
   "id": "0fa0696c",
   "metadata": {},
   "outputs": [],
   "source": [
    "# 1. Preprocess the dataset\n",
    "dataset = preprocess_dataset(\"/Users/vignesh/Documents/Data science/Machine Learning/NEW EDA TRIAL 1/Breathonix All data.csv\")"
   ]
  },
  {
   "cell_type": "code",
   "execution_count": 84,
   "id": "61f093e0",
   "metadata": {},
   "outputs": [],
   "source": [
    "# 2. Balance the dataset\n",
    "balanced_dataset = balance_dataset(dataset)\n"
   ]
  },
  {
   "cell_type": "code",
   "execution_count": 24,
   "id": "39ff68ca",
   "metadata": {},
   "outputs": [],
   "source": []
  },
  {
   "cell_type": "code",
   "execution_count": 85,
   "id": "23fe2f0c",
   "metadata": {},
   "outputs": [
    {
     "name": "stdout",
     "output_type": "stream",
     "text": [
      "Random Forest Model:\n",
      " RandomForestClassifier(random_state=42)\n",
      "Feature Importance:\n",
      "       Feature  Importance\n",
      "179  m143.900    0.050000\n",
      "229      m193    0.050000\n",
      "26      r_N2H    0.050000\n",
      "6    m016.450    0.040998\n",
      "52      r_NO2    0.040000\n",
      "..        ...         ...\n",
      "207      m171    0.000000\n",
      "206      m170    0.000000\n",
      "205      m169    0.000000\n",
      "204      m168    0.000000\n",
      "559      m500    0.000000\n",
      "\n",
      "[560 rows x 2 columns]\n"
     ]
    }
   ],
   "source": [
    "# 3. Train a random forest model\n",
    "rf_model, rf_importance = train_random_forest(balanced_dataset, \"Pos_Neg\")\n",
    "\n",
    "# Display the random forest model output and feature importance\n",
    "print(\"Random Forest Model:\\n\", rf_model)\n",
    "print(\"Feature Importance:\\n\", rf_importance)"
   ]
  },
  {
   "cell_type": "code",
   "execution_count": 86,
   "id": "11a14a1a",
   "metadata": {},
   "outputs": [
    {
     "name": "stderr",
     "output_type": "stream",
     "text": [
      "<ipython-input-79-381ec34ad73a>:16: FutureWarning: \n",
      "\n",
      "Passing `palette` without assigning `hue` is deprecated and will be removed in v0.14.0. Assign the `x` variable to `hue` and set `legend=False` for the same effect.\n",
      "\n",
      "  sns.boxplot(x=target_col, y=feature_col, data=dataset, palette='pastel6')\n"
     ]
    },
    {
     "data": {
      "image/png": "[encoded data removed]",
      "text/plain": [
       "<Figure size 800x600 with 1 Axes>"
      ]
     },
     "metadata": {},
     "output_type": "display_data"
    }
   ],
   "source": [
    "plot_feature_by_category(balanced_dataset, \"m076\", \"Pos_Neg\")"
   ]
  },
  {
   "cell_type": "code",
   "execution_count": null,
   "id": "0a23cda9",
   "metadata": {},
   "outputs": [],
   "source": []
  }
 ],
 "metadata": {
  "kernelspec": {
   "display_name": "MLP_env",
   "language": "python",
   "name": "python3"
  },
  "language_info": {
   "codemirror_mode": {
    "name": "ipython",
    "version": 3
   },
   "file_extension": ".py",
   "mimetype": "text/x-python",
   "name": "python",
   "nbconvert_exporter": "python",
   "pygments_lexer": "ipython3",
   "version": "3.11.9"
  }
 },
 "nbformat": 4,
 "nbformat_minor": 5
}
