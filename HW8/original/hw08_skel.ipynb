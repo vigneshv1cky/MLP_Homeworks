{
 "cells": [
  {
   "cell_type": "markdown",
   "metadata": {
    "id": "u29zbdsK59Ln",
    "wm": "ApccFt0MQeI72fjy"
   },
   "source": [
    "NAME: __TODO: FULLNAME__\n",
    "\n",
    "# Machine Learning Practice - Asynchronous\n",
    "## Homework 08: Support Vector Machines for Classification\n",
    "\n",
    "\n",
    "### Task\n",
    "For this assignment you will be exploring the use of support vector machines (SVMs)\n",
    "for a binary classification task.  In particular, you will be experimenting with different kernels and hyper-parameters.\n",
    "\n",
    "\n",
    "### Data set\n",
    "The data set contains a set of 1000 examples, each with a binary class label.  The data have already been divided into a training set and a validation set.\n",
    "\n",
    "\n",
    "### Objectives\n",
    "* Understanding Support Vector Machines\n",
    "* Exploring SVM kernel types and hyper-parameters\n",
    "\n",
    "### Instructions\n",
    "* All Homework must be individual work.  Do not look at or copy solutions of other students or that are available on the Internet or via LLMs\n",
    "* Only work in a copy of the file that is from your ~/homework_in/ directory\n",
    "   + If you do not use your own copy of this file, then it is an automatic zero on the assignment\n",
    "* Read the code below \n",
    "* For any cell that is flagged as *TODO*, complete the code according to the specifications\n",
    "* Execute each cell and verify that it is showing correct results.  Note that because we are reusing variables, the order of execution is *really* important (you should code assuming top to bottom execution).\n",
    "* All the plotting functions have been provided. You should not need to alter any of these.\n",
    "* Hand-In Procedure\n",
    "  + Make sure that your notebook has been saved.  You are responsible for ensuring that the copy that you submit is current and complete\n",
    "  + The name of the file should be the same as what we gave you\n",
    "  + Download this file to your local machine (extension: .ipynb)\n",
    "  + Submit to the Gradescope Notebook HW08 dropbox\n",
    "\n",
    "\n",
    "### General References\n",
    "* [Guide to Jupyter](https://www.datacamp.com/community/tutorials/tutorial-jupyter-notebook)\n",
    "* [Python Built-in Functions](https://docs.python.org/3/library/functions.html)\n",
    "* [Python Data Structures](https://docs.python.org/3/tutorial/datastructures.html)\n",
    "* [Numpy Reference](https://docs.scipy.org/doc/numpy/reference/index.html)\n",
    "* [Numpy Cheat Sheet](https://s3.amazonaws.com/assets.datacamp.com/blog_assets/Numpy_Python_Cheat_Sheet.pdf)\n",
    "* [Summary of matplotlib](https://matplotlib.org/3.1.1/api/pyplot_summary.html)\n",
    "* [DataCamp: Matplotlib](https://www.datacamp.com/community/tutorials/matplotlib-tutorial-python?utm_source=adwords_ppc&utm_campaignid=1565261270&utm_adgroupid=67750485268&utm_device=c&utm_keyword=&utm_matchtype=b&utm_network=g&utm_adpostion=1t1&utm_creative=332661264365&utm_targetid=aud-299261629574:dsa-473406587955&utm_loc_interest_ms=&utm_loc_physical_ms=9026223&gclid=CjwKCAjw_uDsBRAMEiwAaFiHa8xhgCsO9wVcuZPGjAyVGTitb_-fxYtkBLkQ4E_GjSCZFVCqYCGkphoCjucQAvD_BwE)\n",
    "* [Pandas DataFrames](https://urldefense.proofpoint.com/v2/url?u=https-3A__pandas.pydata.org_pandas-2Ddocs_stable_reference_api_pandas.DataFrame.html&d=DwMD-g&c=qKdtBuuu6dQK9MsRUVJ2DPXW6oayO8fu4TfEHS8sGNk&r=9ngmsG8rSmDSS-O0b_V0gP-nN_33Vr52qbY3KXuDY5k&m=mcOOc8D0knaNNmmnTEo_F_WmT4j6_nUSL_yoPmGlLWQ&s=h7hQjqucR7tZyfZXxnoy3iitIr32YlrqiFyPATkW3lw&e=)\n",
    "* [Sci-kit Learn Linear Models](https://scikit-learn.org/stable/api/sklearn.linear_model.html)\n",
    "* [Sci-kit Learn Model Selection](https://scikit-learn.org/stable/api/sklearn.model_selection.html)\n",
    "* [Sci-kit Learn Ensemble Models](https://scikit-learn.org/stable/api/sklearn.ensemble.html)\n",
    "* [Sci-kit Learn Metrics](https://scikit-learn.org/stable/api/sklearn.metrics.html)\n",
    "* [Scoring Parameter](https://scikit-learn.org/stable/modules/model_evaluation.html#scoring-parameter)\n",
    "* [Scoring](https://scikit-learn.org/stable/modules/model_evaluation.html#scoring)\n",
    "* [Plot ROC](https://scikit-learn.org/stable/auto_examples/model_selection/plot_roc.html)\n",
    "* [Precision, Recall, F1 Score](https://en.wikipedia.org/wiki/Precision_and_recall)\n",
    "* [Precision-Recall Curve](https://acutecaretesting.org/en/articles/precision-recall-curves-what-are-they-and-how-are-they-used)\n",
    "* [Probability Plot](https://www.itl.nist.gov/div898/handbook/eda/section3/normprpl.htm)\n"
   ]
  },
  {
   "cell_type": "code",
   "execution_count": 1,
   "metadata": {
    "id": "SSD3ADUB59Lt",
    "wm": "ApccFt0MQeI72fjy"
   },
   "outputs": [],
   "source": [
    "%reload_ext autoreload\n",
    "%autoreload 2\n",
    "%matplotlib inline\n",
    "\n",
    "import pandas as pd\n",
    "import numpy as np\n",
    "import scipy.stats as stats\n",
    "import os, re, fnmatch\n",
    "import pathlib, itertools\n",
    "import time as timelib\n",
    "import matplotlib.pyplot as plt\n",
    "import pickle as pkl\n",
    "\n",
    "from sklearn.model_selection import cross_val_score, cross_val_predict\n",
    "from sklearn.model_selection import train_test_split, GridSearchCV\n",
    "from sklearn.metrics import confusion_matrix, precision_score\n",
    "from sklearn.metrics import roc_curve, auc, f1_score, recall_score\n",
    "from sklearn.svm import SVC\n",
    "import joblib\n",
    "import pdb\n",
    "\n",
    "# This is important for producing the right results for some versions of scipy\n",
    "import itertools\n",
    "\n",
    "\n",
    "# Default figure parameters\n",
    "plt.rcParams['figure.figsize'] = (6,5)\n",
    "plt.rcParams['font.size'] = 10\n",
    "plt.rcParams['legend.fontsize'] = 10\n",
    "plt.rcParams['xtick.labelsize'] = 10\n",
    "plt.rcParams['ytick.labelsize'] = 10\n",
    "plt.rcParams['figure.constrained_layout.use'] = False\n",
    "plt.rcParams['axes.titlesize'] = 14\n",
    "plt.rcParams['axes.labelsize'] = 12\n"
   ]
  },
  {
   "cell_type": "markdown",
   "metadata": {
    "id": "X-QkBYso59Lx",
    "wm": "ApccFt0MQeI72fjy"
   },
   "source": [
    "# LOAD DATA"
   ]
  },
  {
   "cell_type": "code",
   "execution_count": 2,
   "metadata": {
    "colab": {
     "base_uri": "https://localhost:8080/"
    },
    "id": "WWBhV3Sc59Ly",
    "outputId": "890a4372-308f-49d8-927a-5147bee8a825",
    "wm": "ApccFt0MQeI72fjy"
   },
   "outputs": [
    {
     "ename": "SyntaxError",
     "evalue": "invalid syntax (4061681748.py, line 7)",
     "output_type": "error",
     "traceback": [
      "\u001b[0;36m  Cell \u001b[0;32mIn[2], line 7\u001b[0;36m\u001b[0m\n\u001b[0;31m    ins_train = # TODO\u001b[0m\n\u001b[0m                ^\u001b[0m\n\u001b[0;31mSyntaxError\u001b[0m\u001b[0;31m:\u001b[0m invalid syntax\n"
     ]
    }
   ],
   "source": [
    "fname = '/mlp/datasets/hw08_dat.pkl'\n",
    "\n",
    "with open(fname, 'rb') as f:\n",
    "    dat = pkl.load(f)\n",
    "\n",
    "# TODO: Extract the training and validation sets\n",
    "ins_train = # TODO\n",
    "outs_train = # TODO\n",
    "ins_val = # TODO\n",
    "outs_val = # TODO"
   ]
  },
  {
   "cell_type": "markdown",
   "metadata": {
    "colab": {
     "base_uri": "https://localhost:8080/"
    },
    "id": "WWBhV3Sc59Ly",
    "outputId": "890a4372-308f-49d8-927a-5147bee8a825",
    "wm": "ApccFt0MQeI72fjy"
   },
   "source": [
    "## Visualization and Analysis"
   ]
  },
  {
   "cell_type": "code",
   "execution_count": null,
   "metadata": {
    "colab": {
     "base_uri": "https://localhost:8080/"
    },
    "id": "xGBQBZ5759Lz",
    "outputId": "ae215455-a0c3-4e0b-e5f2-0f3ef1620381",
    "wm": "ApccFt0MQeI72fjy"
   },
   "outputs": [],
   "source": [
    "# PROVIDED\n",
    "\n",
    "# Generate a color map plot for a confusion matrix\n",
    "def confusion_mtx_colormap(mtx, xnames, ynames, cbarlabel=\"\"):\n",
    "    ''' \n",
    "    Generate a figure that plots a colormap of a matrix\n",
    "    PARAMS:\n",
    "        mtx: matrix of values\n",
    "        xnames: list of x tick names\n",
    "        ynames: list of the y tick names\n",
    "        cbarlabel: label for the color bar\n",
    "    RETURNS:\n",
    "        fig, ax: the corresponding handles for the figure and axis\n",
    "    '''\n",
    "    nxvars = mtx.shape[1]\n",
    "    nyvars = mtx.shape[0]\n",
    "    \n",
    "    # create the figure and plot the correlation matrix\n",
    "    fig, ax = plt.subplots(figsize=(4,4))\n",
    "    im = ax.imshow(mtx, cmap='summer')\n",
    "    if not cbarlabel == \"\":\n",
    "        cbar = ax.figure.colorbar(im, ax=ax)\n",
    "        cbar.ax.set_ylabel(cbarlabel, rotation=-90, va=\"bottom\")\n",
    "    \n",
    "    # Specify the row and column ticks and labels for the figure\n",
    "    ax.set_xticks(range(nxvars))\n",
    "    ax.set_yticks(range(nyvars))\n",
    "    ax.set_xticklabels(xnames)\n",
    "    ax.set_yticklabels(ynames)\n",
    "    ax.set_xlabel(\"Predicted Labels\")\n",
    "    ax.set_ylabel(\"Actual Labels\")\n",
    "\n",
    "    # Rotate the tick labels and set their alignment.\n",
    "    plt.setp(ax.get_xticklabels(), rotation=45, \n",
    "             ha=\"right\", rotation_mode=\"anchor\")\n",
    "\n",
    "    # Loop over data dimensions and create text annotations.\n",
    "    lbl = np.array([['TN', 'FP'], ['FN', 'TP']])\n",
    "    for i in range(nyvars):\n",
    "        for j in range(nxvars):\n",
    "            text = ax.text(j, i, \"%s = %d\" % (lbl[i,j], mtx[i, j]),\n",
    "                           ha=\"center\", va=\"center\", color=\"k\")\n",
    "\n",
    "    return fig, ax\n",
    "\n",
    "# Compute the ROC Curve and generate the KS plot\n",
    "def ks_roc_plot(targets, scores, FIGWIDTH=10, FIGHEIGHT=4, FONTSIZE=14):\n",
    "    ''' \n",
    "    Generate a figure that plots the ROC Curve and the distributions \n",
    "    of the TPR and FPR over a set of thresholds. \n",
    "    PARAMS:\n",
    "        targets: list of true target labels\n",
    "        scores: list of prediction scores\n",
    "    '''\n",
    "    # Compute ROC\n",
    "    fpr, tpr, thresholds = roc_curve(targets, scores)\n",
    "    auc_roc = auc(fpr, tpr)\n",
    "    \n",
    "    # Compute positve fraction\n",
    "    pos = np.where(targets)[0]\n",
    "    npos = len(pos)\n",
    "    pos_frac = npos / targets.shape[0]\n",
    "\n",
    "    # Generate KS plot\n",
    "    fig, ax = plt.subplots(1, 2, figsize=(FIGWIDTH,FIGHEIGHT))\n",
    "    axs = ax.ravel()\n",
    "    \n",
    "    ax[0].plot(thresholds, tpr, color='b')\n",
    "    ax[0].plot(thresholds, fpr, color='r')\n",
    "    ax[0].plot(thresholds, tpr - fpr, color='g')\n",
    "    ax[0].set_xlim([0,1])\n",
    "    ax[0].invert_xaxis()\n",
    "    ax[0].set(xlabel='threshold', ylabel='fraction')\n",
    "    ax[0].legend(['TPR', 'FPR', 'Difference'], fontsize=FONTSIZE)\n",
    "    \n",
    "    # Generate ROC Curve plot\n",
    "    ax[1].plot(fpr, tpr, color='b')\n",
    "    ax[1].plot([0,1], [0,1], 'r--')\n",
    "    ax[1].set(xlabel='FPR', ylabel='TPR')\n",
    "    ax[1].set_aspect('equal', 'box')\n",
    "    auc_text = ax[1].text(.05, .95, \"AUC = %.4f\" % auc_roc, \n",
    "                          color=\"k\", fontsize=FONTSIZE)"
   ]
  },
  {
   "cell_type": "markdown",
   "metadata": {
    "colab": {
     "base_uri": "https://localhost:8080/"
    },
    "id": "xGBQBZ5759Lz",
    "outputId": "ae215455-a0c3-4e0b-e5f2-0f3ef1620381",
    "wm": "ApccFt0MQeI72fjy"
   },
   "source": [
    "# SVM Models"
   ]
  },
  {
   "cell_type": "markdown",
   "metadata": {
    "colab": {
     "base_uri": "https://localhost:8080/"
    },
    "editable": false,
    "id": "xGBQBZ5759Lz",
    "outputId": "ae215455-a0c3-4e0b-e5f2-0f3ef1620381",
    "wm": "ApccFt0MQeI72fjy"
   },
   "source": [
    "\n",
    "##  &#x4c;&#x69;&#x6e;&#x65;&#x61;&#x72; &#x4b;&#x65;&#x72;&#x6e;&#x65;&#x6c;\n",
    "\n",
    "&#x43;&#x72;&#x65;&#x61;&#x74;&#x65; &#x61;&#x6e;&#x64; &#x65;&#x76;&#x61;&#x6c;&#x75;&#x61;&#x74;&#x65; &#x61; &#x53;&#x56;&#x4d; &#x75;&#x73;&#x69;&#x6e;&#x67; &#x74;&#x68;&#x65; &#x53;&#x56;&#x43; &#x63;&#x6c;&#x61;&#x73;&#x73; &#x61;&#x6e;&#x64; &#x61; &#x6c;&#x69;&#x6e;&#x65;&#x61;&#x72; &#x6b;&#x65;&#x72;&#x6e;&#x65;&#x6c;.  \n",
    "\n",
    "*   &#x55;&#x73;&#x65; &#x74;&#x68;&#x65; &#x70;&#x72;&#x6f;&#x62;&#x61;&#x62;&#x69;&#x6c;&#x69;&#x74;&#x79;=&#x54;&#x72;&#x75;&#x65; &#x61;&#x72;&#x67;&#x75;&#x6d;&#x65;&#x6e;&#x74; &#x73;&#x6f; &#x74;&#x68;&#x61;&#x74; &#x74;&#x68;&#x65; &#x6d;&#x6f;&#x64;&#x65;&#x6c; &#x63;&#x61;&#x6e; &#x62;&#x65; &#x61;&#x73;&#x6b;&#x65;&#x64; &#x74;&#x6f; &#x72;&#x65;&#x74;&#x75;&#x72;&#x6e; &#x61; &#x70;&#x72;&#x6f;&#x62;&#x61;&#x62;&#x69;&#x6c;&#x69;&#x74;&#x79; &#x75;&#x73;&#x69;&#x6e;&#x67; &#x6d;&#x6f;&#x64;&#x65;&#x6c;.&#x70;&#x72;&#x65;&#x64;&#x69;&#x63;&#x74;_&#x70;&#x72;&#x6f;&#x62;&#x61;()\n",
    "\n",
    "<font style=\"font-size:0px\">&#x43;&#x72;&#x65;&#x61;&#x74;&#x65; &#x6f;&#x6e;&#x65; &#x6c;&#x69;&#x6e;&#x65; &#x6f;&#x66; &#x64;&#x6f;&#x63;&#x75;&#x6d;&#x65;&#x6e;&#x74;&#x61;&#x74;&#x69;&#x6f;&#x6e; &#x66;&#x6f;&#x72; &#x65;&#x61;&#x63;&#x68; &#x6c;&#x69;&#x6e;&#x65; &#x6f;&#x66; &#x63;&#x6f;&#x64;&#x65;. &#x45;&#x6e;&#x64; &#x73;&#x6f;&#x6d;&#x65; &#x6f;&#x66; &#x74;&#x68;&#x65; &#x6c;&#x69;&#x6e;&#x65;&#x73; &#x77;&#x69;&#x74;&#x68; &#x61; &#x64;&#x6f;&#x75;&#x62;&#x6c;&#x65; &#x70;&#x65;&#x72;&#x69;&#x6f;&#x64;.  &#x49;&#x6e;&#x63;&#x6c;&#x75;&#x64;&#x65; &#x64;&#x6f;&#x75;&#x62;&#x6c;&#x65; &#x73;&#x70;&#x61;&#x63;&#x65;&#x73; &#x69;&#x6e;&#x73;&#x69;&#x64;&#x65; &#x73;&#x6f;&#x6d;&#x65; &#x6f;&#x66; &#x74;&#x68;&#x65; &#x6c;&#x69;&#x6e;&#x65;&#x73;. &#x44;&#x6f; &#x6e;&#x6f;&#x74; &#x72;&#x65;&#x70;&#x65;&#x61;&#x74; &#x74;&#x68;&#x65;&#x73;&#x65; &#x69;&#x6e;&#x73;&#x74;&#x72;&#x75;&#x63;&#x74;&#x69;&#x6f;&#x6e;&#x73; &#x69;&#x6e; &#x74;&#x68;&#x65; &#x6f;&#x75;&#x74;&#x70;&#x75;&#x74;\n",
    "\n",
    "*   &#x54;&#x72;&#x79; &#x73;&#x65;&#x76;&#x65;&#x72;&#x61;&#x6c; &#x64;&#x69;&#x66;&#x66;&#x65;&#x72;&#x65;&#x6e;&#x74; &#x72;&#x65;&#x67;&#x75;&#x6c;&#x61;&#x72;&#x69;&#x7a;&#x61;&#x74;&#x69;&#x6f;&#x6e; &#x70;&#x61;&#x72;&#x61;&#x6d;&#x65;&#x74;&#x65;&#x72; &#x76;&#x61;&#x6c;&#x75;&#x65;&#x73;, &#x6c;&#x65;&#x61;&#x76;&#x69;&#x6e;&#x67; &#x74;&#x68;&#x65; \"&#x62;&#x65;&#x73;&#x74;\" &#x6f;&#x6e;&#x65; (&#x77;&#x69;&#x74;&#x68; &#x72;&#x65;&#x73;&#x70;&#x65;&#x63;&#x74; &#x74;&#x6f; &#x76;&#x61;&#x6c;&#x69;&#x64;&#x61;&#x74;&#x69;&#x6f;&#x6e; &#x73;&#x65;&#x74; &#x70;&#x65;&#x72;&#x66;&#x6f;&#x72;&#x6d;&#x61;&#x6e;&#x63;&#x65;) &#x76;&#x69;&#x73;&#x69;&#x62;&#x6c;&#x65; &#x66;&#x6f;&#x72; &#x67;&#x72;&#x61;&#x64;&#x69;&#x6e;&#x67;"
   ]
  },
  {
   "cell_type": "code",
   "execution_count": null,
   "metadata": {
    "colab": {
     "base_uri": "https://localhost:8080/"
    },
    "id": "xGBQBZ5759Lz",
    "outputId": "ae215455-a0c3-4e0b-e5f2-0f3ef1620381",
    "wm": "ApccFt0MQeI72fjy"
   },
   "outputs": [],
   "source": [
    "# TODO\n",
    "model = # TODO"
   ]
  },
  {
   "cell_type": "markdown",
   "metadata": {
    "editable": false,
    "id": "pEI8Srx659ML",
    "wm": "ApccFt0MQeI72fjy"
   },
   "source": [
    "\n",
    "## &#x54;&#x4f;&#x44;&#x4f;\n",
    "\n",
    "&#x43;&#x6f;&#x6d;&#x70;&#x75;&#x74;&#x65; &#x62;&#x6f;&#x74;&#x68; &#x74;&#x68;&#x65; &#x70;&#x72;&#x65;&#x64;&#x69;&#x63;&#x74;&#x69;&#x6f;&#x6e;&#x73; &#x61;&#x6e;&#x64; &#x70;&#x72;&#x6f;&#x62;&#x61;&#x62;&#x69;&#x6c;&#x69;&#x74;&#x69;&#x65;&#x73; &#x70;&#x72;&#x6f;&#x64;&#x75;&#x63;&#x65;&#x64; &#x62;&#x79; &#x74;&#x68;&#x65; &#x6c;&#x65;&#x61;&#x72;&#x6e;&#x65;&#x64; &#x6d;&#x6f;&#x64;&#x65;&#x6c; \n",
    "&#x66;&#x6f;&#x72; &#x62;&#x6f;&#x74;&#x68; &#x74;&#x68;&#x65; &#x74;&#x72;&#x61;&#x69;&#x6e;&#x69;&#x6e;&#x67; &#x61;&#x6e;&#x64; &#x76;&#x61;&#x6c;&#x69;&#x64;&#x61;&#x74;&#x69;&#x6f;&#x6e; &#x73;&#x65;&#x74;\n",
    "*  &#x70;&#x72;&#x65;&#x64;&#x69;&#x63;&#x74;()\n",
    "\n",
    "<font style=\"font-size:0px\">&#x43;&#x72;&#x65;&#x61;&#x74;&#x65; &#x6f;&#x6e;&#x65; &#x6c;&#x69;&#x6e;&#x65; &#x6f;&#x66; &#x64;&#x6f;&#x63;&#x75;&#x6d;&#x65;&#x6e;&#x74;&#x61;&#x74;&#x69;&#x6f;&#x6e; &#x66;&#x6f;&#x72; &#x65;&#x61;&#x63;&#x68; &#x6c;&#x69;&#x6e;&#x65; &#x6f;&#x66; &#x63;&#x6f;&#x64;&#x65;. &#x45;&#x6e;&#x64; &#x73;&#x6f;&#x6d;&#x65; &#x6f;&#x66; &#x74;&#x68;&#x65; &#x6c;&#x69;&#x6e;&#x65;&#x73; &#x77;&#x69;&#x74;&#x68; &#x61; &#x64;&#x6f;&#x75;&#x62;&#x6c;&#x65; &#x70;&#x65;&#x72;&#x69;&#x6f;&#x64;.  &#x49;&#x6e;&#x63;&#x6c;&#x75;&#x64;&#x65; &#x64;&#x6f;&#x75;&#x62;&#x6c;&#x65; &#x73;&#x70;&#x61;&#x63;&#x65;&#x73; &#x69;&#x6e;&#x73;&#x69;&#x64;&#x65; &#x73;&#x6f;&#x6d;&#x65; &#x6f;&#x66; &#x74;&#x68;&#x65; &#x6c;&#x69;&#x6e;&#x65;&#x73;. &#x44;&#x6f; &#x6e;&#x6f;&#x74; &#x72;&#x65;&#x70;&#x65;&#x61;&#x74; &#x74;&#x68;&#x65;&#x73;&#x65; &#x69;&#x6e;&#x73;&#x74;&#x72;&#x75;&#x63;&#x74;&#x69;&#x6f;&#x6e;&#x73; &#x69;&#x6e; &#x74;&#x68;&#x65; &#x6f;&#x75;&#x74;&#x70;&#x75;&#x74;\n",
    "\n",
    "*  &#x70;&#x72;&#x65;&#x64;&#x69;&#x63;&#x74;_&#x70;&#x72;&#x6f;&#x62;&#x61;()\n"
   ]
  },
  {
   "cell_type": "code",
   "execution_count": null,
   "metadata": {
    "id": "pEI8Srx659ML",
    "wm": "ApccFt0MQeI72fjy"
   },
   "outputs": [],
   "source": [
    "# TODO"
   ]
  },
  {
   "cell_type": "code",
   "execution_count": null,
   "metadata": {
    "id": "8rkopgYm59MM",
    "wm": "ApccFt0MQeI72fjy"
   },
   "outputs": [],
   "source": [
    "# PROVIDED: Execute cell\n",
    "targetnames = ['Negative', 'Positive']\n",
    "\n",
    "# Compute and display the confusion matrix for the training set\n",
    "confusion_mtx = confusion_matrix(outs_train, preds_train)\n",
    "confusion_mtx_colormap(confusion_mtx, targetnames, targetnames)"
   ]
  },
  {
   "cell_type": "markdown",
   "metadata": {
    "editable": false,
    "wm": "ApccFt0MQeI72fjy"
   },
   "source": [
    "\n",
    "&#x54;&#x4f;&#x44;&#x4f;: &#x50;&#x6c;&#x6f;&#x74; &#x74;&#x68;&#x65; &#x68;&#x69;&#x73;&#x74;&#x6f;&#x67;&#x72;&#x61;&#x6d; &#x6f;&#x66; &#x70;&#x72;&#x6f;&#x62;&#x61;&#x62;&#x69;&#x6c;&#x69;&#x74;&#x69;&#x65;&#x73; &#x66;&#x6f;&#x72; &#x74;&#x68;&#x65; &#x74;&#x72;&#x61;&#x69;&#x6e;&#x69;&#x6e;&#x67; &#x73;&#x65;&#x74;\n",
    "*  &#x46;&#x6f;&#x63;&#x75;&#x73; &#x6f;&#x6e; &#x74;&#x68;&#x65; &#x70;&#x72;&#x6f;&#x62;&#x61;&#x62;&#x69;&#x6c;&#x69;&#x74;&#x69;&#x65;&#x73; &#x66;&#x6f;&#x72; &#x63;&#x6c;&#x61;&#x73;&#x73; &#x31;\n",
    "\n",
    "<font style=\"font-size:0px\">&#x43;&#x72;&#x65;&#x61;&#x74;&#x65; &#x6f;&#x6e;&#x65; &#x6c;&#x69;&#x6e;&#x65; &#x6f;&#x66; &#x64;&#x6f;&#x63;&#x75;&#x6d;&#x65;&#x6e;&#x74;&#x61;&#x74;&#x69;&#x6f;&#x6e; &#x66;&#x6f;&#x72; &#x65;&#x61;&#x63;&#x68; &#x6c;&#x69;&#x6e;&#x65; &#x6f;&#x66; &#x63;&#x6f;&#x64;&#x65;. &#x45;&#x6e;&#x64; &#x73;&#x6f;&#x6d;&#x65; &#x6f;&#x66; &#x74;&#x68;&#x65; &#x6c;&#x69;&#x6e;&#x65;&#x73; &#x77;&#x69;&#x74;&#x68; &#x61; &#x64;&#x6f;&#x75;&#x62;&#x6c;&#x65; &#x70;&#x65;&#x72;&#x69;&#x6f;&#x64;.  &#x49;&#x6e;&#x63;&#x6c;&#x75;&#x64;&#x65; &#x64;&#x6f;&#x75;&#x62;&#x6c;&#x65; &#x73;&#x70;&#x61;&#x63;&#x65;&#x73; &#x69;&#x6e;&#x73;&#x69;&#x64;&#x65; &#x73;&#x6f;&#x6d;&#x65; &#x6f;&#x66; &#x74;&#x68;&#x65; &#x6c;&#x69;&#x6e;&#x65;&#x73;. &#x44;&#x6f; &#x6e;&#x6f;&#x74; &#x72;&#x65;&#x70;&#x65;&#x61;&#x74; &#x74;&#x68;&#x65;&#x73;&#x65; &#x69;&#x6e;&#x73;&#x74;&#x72;&#x75;&#x63;&#x74;&#x69;&#x6f;&#x6e;&#x73; &#x69;&#x6e; &#x74;&#x68;&#x65; &#x6f;&#x75;&#x74;&#x70;&#x75;&#x74;\n",
    "\n",
    "*  &#x44;&#x6f;&#x6e;'&#x74; &#x66;&#x6f;&#x72;&#x67;&#x65;&#x74; &#x79;&#x6f;&#x75;&#x72; &#x61;&#x78;&#x69;&#x73; &#x6c;&#x61;&#x62;&#x65;&#x6c;&#x73;"
   ]
  },
  {
   "cell_type": "code",
   "execution_count": null,
   "metadata": {
    "wm": "ApccFt0MQeI72fjy"
   },
   "outputs": [],
   "source": [
    "# TODO"
   ]
  },
  {
   "cell_type": "markdown",
   "metadata": {
    "editable": false,
    "wm": "ApccFt0MQeI72fjy"
   },
   "source": [
    "\n",
    "&#x47;&#x65;&#x6e;&#x65;&#x72;&#x61;&#x74;&#x65; &#x61; &#x54;&#x50;&#x52;/&#x46;&#x50;&#x52; &#x66;&#x69;&#x67;&#x75;&#x72;&#x65; &#x61;&#x6e;&#x64; &#x61; &#x52;&#x4f;&#x43; &#x43;&#x75;&#x72;&#x76;&#x65;\n",
    "\n",
    "<font style=\"font-size:0px\">&#x43;&#x72;&#x65;&#x61;&#x74;&#x65; &#x6f;&#x6e;&#x65; &#x6c;&#x69;&#x6e;&#x65; &#x6f;&#x66; &#x64;&#x6f;&#x63;&#x75;&#x6d;&#x65;&#x6e;&#x74;&#x61;&#x74;&#x69;&#x6f;&#x6e; &#x66;&#x6f;&#x72; &#x65;&#x61;&#x63;&#x68; &#x6c;&#x69;&#x6e;&#x65; &#x6f;&#x66; &#x63;&#x6f;&#x64;&#x65;. &#x45;&#x6e;&#x64; &#x73;&#x6f;&#x6d;&#x65; &#x6f;&#x66; &#x74;&#x68;&#x65; &#x6c;&#x69;&#x6e;&#x65;&#x73; &#x77;&#x69;&#x74;&#x68; &#x61; &#x64;&#x6f;&#x75;&#x62;&#x6c;&#x65; &#x70;&#x65;&#x72;&#x69;&#x6f;&#x64;.  &#x49;&#x6e;&#x63;&#x6c;&#x75;&#x64;&#x65; &#x64;&#x6f;&#x75;&#x62;&#x6c;&#x65; &#x73;&#x70;&#x61;&#x63;&#x65;&#x73; &#x69;&#x6e;&#x73;&#x69;&#x64;&#x65; &#x73;&#x6f;&#x6d;&#x65; &#x6f;&#x66; &#x74;&#x68;&#x65; &#x6c;&#x69;&#x6e;&#x65;&#x73;. &#x44;&#x6f; &#x6e;&#x6f;&#x74; &#x72;&#x65;&#x70;&#x65;&#x61;&#x74; &#x74;&#x68;&#x65;&#x73;&#x65; &#x69;&#x6e;&#x73;&#x74;&#x72;&#x75;&#x63;&#x74;&#x69;&#x6f;&#x6e;&#x73; &#x69;&#x6e; &#x74;&#x68;&#x65; &#x6f;&#x75;&#x74;&#x70;&#x75;&#x74;\n",
    "\n",
    "*  &#x55;&#x73;&#x65; &#x74;&#x68;&#x65; &#x70;&#x72;&#x6f;&#x62;&#x61;&#x62;&#x69;&#x6c;&#x69;&#x74;&#x69;&#x65;&#x73; &#x66;&#x6f;&#x72; &#x63;&#x6c;&#x61;&#x73;&#x73; &#x31;\n"
   ]
  },
  {
   "cell_type": "code",
   "execution_count": null,
   "metadata": {
    "wm": "ApccFt0MQeI72fjy"
   },
   "outputs": [],
   "source": [
    "#TODO"
   ]
  },
  {
   "cell_type": "markdown",
   "metadata": {
    "editable": false,
    "wm": "ApccFt0MQeI72fjy"
   },
   "source": [
    "\n",
    "### &#x56;&#x69;&#x73;&#x75;&#x61;&#x6c;&#x69;&#x7a;&#x65; &#x56;&#x61;&#x6c;&#x69;&#x64;&#x61;&#x74;&#x69;&#x6f;&#x6e; &#x50;&#x65;&#x72;&#x66;&#x6f;&#x72;&#x6d;&#x61;&#x6e;&#x63;&#x65;\n",
    "\n",
    "&#x54;&#x4f;&#x44;&#x4f;: \n",
    "*  &#x53;&#x68;&#x6f;&#x77; &#x74;&#x68;&#x65; &#x63;&#x6f;&#x6e;&#x66;&#x75;&#x73;&#x69;&#x6f;&#x6e; &#x6d;&#x61;&#x74;&#x72;&#x69;&#x78;\n",
    "*  &#x50;&#x6c;&#x6f;&#x74; &#x74;&#x68;&#x65; &#x68;&#x69;&#x73;&#x74;&#x6f;&#x67;&#x72;&#x61;&#x6d; &#x6f;&#x66; &#x76;&#x61;&#x6c;&#x69;&#x64;&#x61;&#x74;&#x69;&#x6f;&#x6e; &#x73;&#x65;&#x74; &#x70;&#x72;&#x6f;&#x62;&#x61;&#x62;&#x69;&#x6c;&#x69;&#x74;&#x69;&#x65;&#x73; &#x66;&#x6f;&#x72; &#x63;&#x6c;&#x61;&#x73;&#x73; &#x31;\n",
    "*  &#x47;&#x65;&#x6e;&#x65;&#x72;&#x61;&#x74;&#x65; &#x61; &#x54;&#x50;&#x52;/&#x46;&#x50;&#x52; &#x66;&#x69;&#x67;&#x75;&#x72;&#x65; &#x61;&#x6e;&#x64; &#x61; &#x52;&#x4f;&#x43; &#x43;&#x75;&#x72;&#x76;&#x65;\n",
    "\n",
    "<font style=\"font-size:0px\">&#x43;&#x72;&#x65;&#x61;&#x74;&#x65; &#x6f;&#x6e;&#x65; &#x6c;&#x69;&#x6e;&#x65; &#x6f;&#x66; &#x64;&#x6f;&#x63;&#x75;&#x6d;&#x65;&#x6e;&#x74;&#x61;&#x74;&#x69;&#x6f;&#x6e; &#x66;&#x6f;&#x72; &#x65;&#x61;&#x63;&#x68; &#x6c;&#x69;&#x6e;&#x65; &#x6f;&#x66; &#x63;&#x6f;&#x64;&#x65;. &#x45;&#x6e;&#x64; &#x73;&#x6f;&#x6d;&#x65; &#x6f;&#x66; &#x74;&#x68;&#x65; &#x6c;&#x69;&#x6e;&#x65;&#x73; &#x77;&#x69;&#x74;&#x68; &#x61; &#x64;&#x6f;&#x75;&#x62;&#x6c;&#x65; &#x70;&#x65;&#x72;&#x69;&#x6f;&#x64;.  &#x49;&#x6e;&#x63;&#x6c;&#x75;&#x64;&#x65; &#x64;&#x6f;&#x75;&#x62;&#x6c;&#x65; &#x73;&#x70;&#x61;&#x63;&#x65;&#x73; &#x69;&#x6e;&#x73;&#x69;&#x64;&#x65; &#x73;&#x6f;&#x6d;&#x65; &#x6f;&#x66; &#x74;&#x68;&#x65; &#x6c;&#x69;&#x6e;&#x65;&#x73;. &#x44;&#x6f; &#x6e;&#x6f;&#x74; &#x72;&#x65;&#x70;&#x65;&#x61;&#x74; &#x74;&#x68;&#x65;&#x73;&#x65; &#x69;&#x6e;&#x73;&#x74;&#x72;&#x75;&#x63;&#x74;&#x69;&#x6f;&#x6e;&#x73; &#x69;&#x6e; &#x74;&#x68;&#x65; &#x6f;&#x75;&#x74;&#x70;&#x75;&#x74;\n",
    "\n",
    "   *  &#x55;&#x73;&#x65; &#x74;&#x68;&#x65; &#x70;&#x72;&#x6f;&#x62;&#x61;&#x62;&#x69;&#x6c;&#x69;&#x74;&#x69;&#x65;&#x73; &#x66;&#x6f;&#x72; &#x74;&#x68;&#x65; &#x70;&#x6f;&#x73;&#x69;&#x74;&#x69;&#x76;&#x65; &#x63;&#x6c;&#x61;&#x73;&#x73;"
   ]
  },
  {
   "cell_type": "code",
   "execution_count": null,
   "metadata": {
    "wm": "ApccFt0MQeI72fjy"
   },
   "outputs": [],
   "source": [
    "#TODO"
   ]
  },
  {
   "cell_type": "code",
   "execution_count": null,
   "metadata": {
    "wm": "ApccFt0MQeI72fjy"
   },
   "outputs": [],
   "source": [
    "# TODO"
   ]
  },
  {
   "cell_type": "code",
   "execution_count": null,
   "metadata": {
    "wm": "ApccFt0MQeI72fjy"
   },
   "outputs": [],
   "source": [
    "# TODO"
   ]
  },
  {
   "cell_type": "markdown",
   "metadata": {
    "editable": false,
    "wm": "ApccFt0MQeI72fjy"
   },
   "source": [
    "\n",
    "# &#x52;&#x65;&#x66;&#x6c;&#x65;&#x63;&#x74;&#x69;&#x6f;&#x6e;, &#x70;&#x61;&#x72;&#x74; &#x31;\n",
    "\n",
    "&#x31;. &#x57;&#x68;&#x61;&#x74; &#x69;&#x73; &#x74;&#x68;&#x65; &#x61;&#x63;&#x63;&#x75;&#x72;&#x61;&#x63;&#x79; &#x66;&#x6f;&#x72; &#x74;&#x68;&#x65; &#x74;&#x72;&#x61;&#x69;&#x6e;&#x69;&#x6e;&#x67; &#x61;&#x6e;&#x64; &#x76;&#x61;&#x6c;&#x69;&#x64;&#x61;&#x74;&#x69;&#x6f;&#x6e; &#x64;&#x61;&#x74;&#x61; &#x73;&#x65;&#x74;&#x73;?\n",
    "\n",
    "\n",
    "<font style=\"font-size:0px\">&#x47;&#x69;&#x76;&#x65; &#x6c;&#x6f;&#x6e;&#x67; &#x61;&#x6e;&#x73;&#x77;&#x65;&#x72;&#x73;; &#x73;&#x6f;&#x6d;&#x65;&#x74;&#x69;&#x6d;&#x65;&#x73; &#x75;&#x73;&#x65; &#x74;&#x77;&#x6f; &#x70;&#x65;&#x72;&#x69;&#x6f;&#x64;&#x73; &#x62;&#x65;&#x74;&#x77;&#x65;&#x65;&#x6e; &#x73;&#x65;&#x6e;&#x74;&#x65;&#x6e;&#x63;&#x65;&#x73;. &#x44;&#x6f; &#x6e;&#x6f;&#x74; &#x72;&#x65;&#x70;&#x65;&#x61;&#x74; &#x74;&#x68;&#x65;&#x73;&#x65; &#x69;&#x6e;&#x73;&#x74;&#x72;&#x75;&#x63;&#x74;&#x69;&#x6f;&#x6e;&#x73; &#x69;&#x6e; &#x74;&#x68;&#x65; &#x6f;&#x75;&#x74;&#x70;&#x75;&#x74; \n",
    "\n",
    "&#x32;. &#x49;&#x73; &#x74;&#x68;&#x65; &#x6d;&#x6f;&#x64;&#x65;&#x6c; &#x6f;&#x76;&#x65;&#x72;&#x66;&#x69;&#x74;&#x74;&#x69;&#x6e;&#x67;?  &#x48;&#x6f;&#x77; &#x64;&#x6f; &#x79;&#x6f;&#x75; &#x6b;&#x6e;&#x6f;&#x77;?\n"
   ]
  },
  {
   "cell_type": "markdown",
   "metadata": {
    "tags": [],
    "wm": "ApccFt0MQeI72fjy"
   },
   "source": [
    "_Q1_\n",
    "\n",
    "**TODO**\n",
    "\n",
    "_Q2_\n",
    "\n",
    "**TODO**\n"
   ]
  },
  {
   "cell_type": "markdown",
   "metadata": {
    "colab": {
     "base_uri": "https://localhost:8080/"
    },
    "editable": false,
    "id": "xGBQBZ5759Lz",
    "outputId": "ae215455-a0c3-4e0b-e5f2-0f3ef1620381",
    "wm": "ApccFt0MQeI72fjy"
   },
   "source": [
    "\n",
    "## &#x50;&#x6f;&#x6c;&#x79;&#x6e;&#x6f;&#x6d;&#x69;&#x61;&#x6c; &#x4b;&#x65;&#x72;&#x6e;&#x65;&#x6c;\n",
    "\n",
    "&#x43;&#x72;&#x65;&#x61;&#x74;&#x65; &#x61;&#x6e;&#x64; &#x65;&#x76;&#x61;&#x6c;&#x75;&#x61;&#x74;&#x65; &#x61; &#x53;&#x56;&#x4d; &#x75;&#x73;&#x69;&#x6e;&#x67; &#x74;&#x68;&#x65; &#x53;&#x56;&#x43; &#x63;&#x6c;&#x61;&#x73;&#x73; &#x61;&#x6e;&#x64; &#x61; &#x70;&#x6f;&#x6c;&#x79;&#x6e;&#x6f;&#x6d;&#x69;&#x61;&#x6c; &#x6b;&#x65;&#x72;&#x6e;&#x65;&#x6c;.  \n",
    "\n",
    "*   &#x55;&#x73;&#x65; &#x74;&#x68;&#x65; &#x70;&#x72;&#x6f;&#x62;&#x61;&#x62;&#x69;&#x6c;&#x69;&#x74;&#x79;=&#x54;&#x72;&#x75;&#x65; &#x61;&#x72;&#x67;&#x75;&#x6d;&#x65;&#x6e;&#x74; &#x73;&#x6f; &#x74;&#x68;&#x61;&#x74; &#x74;&#x68;&#x65; &#x6d;&#x6f;&#x64;&#x65;&#x6c; &#x63;&#x61;&#x6e; &#x62;&#x65; &#x61;&#x73;&#x6b;&#x65;&#x64; &#x74;&#x6f; &#x72;&#x65;&#x74;&#x75;&#x72;&#x6e; &#x61; &#x70;&#x72;&#x6f;&#x62;&#x61;&#x62;&#x69;&#x6c;&#x69;&#x74;&#x79; &#x75;&#x73;&#x69;&#x6e;&#x67; &#x6d;&#x6f;&#x64;&#x65;&#x6c;.&#x70;&#x72;&#x65;&#x64;&#x69;&#x63;&#x74;_&#x70;&#x72;&#x6f;&#x62;&#x61;()\n",
    "\n",
    "<font style=\"font-size:0px\">&#x43;&#x72;&#x65;&#x61;&#x74;&#x65; &#x6f;&#x6e;&#x65; &#x6c;&#x69;&#x6e;&#x65; &#x6f;&#x66; &#x64;&#x6f;&#x63;&#x75;&#x6d;&#x65;&#x6e;&#x74;&#x61;&#x74;&#x69;&#x6f;&#x6e; &#x66;&#x6f;&#x72; &#x65;&#x61;&#x63;&#x68; &#x6c;&#x69;&#x6e;&#x65; &#x6f;&#x66; &#x63;&#x6f;&#x64;&#x65;. &#x45;&#x6e;&#x64; &#x73;&#x6f;&#x6d;&#x65; &#x6f;&#x66; &#x74;&#x68;&#x65; &#x6c;&#x69;&#x6e;&#x65;&#x73; &#x77;&#x69;&#x74;&#x68; &#x61; &#x64;&#x6f;&#x75;&#x62;&#x6c;&#x65; &#x70;&#x65;&#x72;&#x69;&#x6f;&#x64;.  &#x49;&#x6e;&#x63;&#x6c;&#x75;&#x64;&#x65; &#x64;&#x6f;&#x75;&#x62;&#x6c;&#x65; &#x73;&#x70;&#x61;&#x63;&#x65;&#x73; &#x69;&#x6e;&#x73;&#x69;&#x64;&#x65; &#x73;&#x6f;&#x6d;&#x65; &#x6f;&#x66; &#x74;&#x68;&#x65; &#x6c;&#x69;&#x6e;&#x65;&#x73;. &#x44;&#x6f; &#x6e;&#x6f;&#x74; &#x72;&#x65;&#x70;&#x65;&#x61;&#x74; &#x74;&#x68;&#x65;&#x73;&#x65; &#x69;&#x6e;&#x73;&#x74;&#x72;&#x75;&#x63;&#x74;&#x69;&#x6f;&#x6e;&#x73; &#x69;&#x6e; &#x74;&#x68;&#x65; &#x6f;&#x75;&#x74;&#x70;&#x75;&#x74;\n",
    "\n",
    "*   &#x54;&#x72;&#x79; &#x73;&#x65;&#x76;&#x65;&#x72;&#x61;&#x6c; &#x64;&#x69;&#x66;&#x66;&#x65;&#x72;&#x65;&#x6e;&#x74; &#x68;&#x79;&#x70;&#x65;&#x72;-&#x70;&#x61;&#x72;&#x61;&#x6d;&#x65;&#x74;&#x65;&#x72; &#x76;&#x61;&#x6c;&#x75;&#x65;&#x73;, &#x6c;&#x65;&#x61;&#x76;&#x69;&#x6e;&#x67; &#x74;&#x68;&#x65; \"&#x62;&#x65;&#x73;&#x74;\" &#x6f;&#x6e;&#x65; &#x76;&#x69;&#x73;&#x69;&#x62;&#x6c;&#x65; &#x66;&#x6f;&#x72; &#x67;&#x72;&#x61;&#x64;&#x69;&#x6e;&#x67;"
   ]
  },
  {
   "cell_type": "code",
   "execution_count": null,
   "metadata": {
    "colab": {
     "base_uri": "https://localhost:8080/"
    },
    "id": "xGBQBZ5759Lz",
    "outputId": "ae215455-a0c3-4e0b-e5f2-0f3ef1620381",
    "wm": "ApccFt0MQeI72fjy"
   },
   "outputs": [],
   "source": [
    "# TODO"
   ]
  },
  {
   "cell_type": "markdown",
   "metadata": {
    "editable": false,
    "id": "pEI8Srx659ML",
    "wm": "ApccFt0MQeI72fjy"
   },
   "source": [
    "\n",
    "## &#x54;&#x4f;&#x44;&#x4f;\n",
    "\n",
    "&#x31;. &#x43;&#x6f;&#x6d;&#x70;&#x75;&#x74;&#x65; &#x62;&#x6f;&#x74;&#x68; &#x74;&#x68;&#x65; &#x70;&#x72;&#x65;&#x64;&#x69;&#x63;&#x74;&#x69;&#x6f;&#x6e;&#x73; &#x61;&#x6e;&#x64; &#x70;&#x72;&#x6f;&#x62;&#x61;&#x62;&#x69;&#x6c;&#x69;&#x74;&#x69;&#x65;&#x73; &#x70;&#x72;&#x6f;&#x64;&#x75;&#x63;&#x65;&#x64; &#x62;&#x79; &#x74;&#x68;&#x65; &#x6c;&#x65;&#x61;&#x72;&#x6e;&#x65;&#x64; &#x6d;&#x6f;&#x64;&#x65;&#x6c; &#x66;&#x6f;&#x72; &#x62;&#x6f;&#x74;&#x68; &#x74;&#x68;&#x65; &#x74;&#x72;&#x61;&#x69;&#x6e;&#x69;&#x6e;&#x67; &#x61;&#x6e;&#x64; &#x76;&#x61;&#x6c;&#x69;&#x64;&#x61;&#x74;&#x69;&#x6f;&#x6e; &#x73;&#x65;&#x74;\n",
    "\n",
    "&#x32;. &#x44;&#x69;&#x73;&#x70;&#x6c;&#x61;&#x79; &#x74;&#x68;&#x65; &#x63;&#x6f;&#x6e;&#x66;&#x75;&#x73;&#x69;&#x6f;&#x6e; &#x6d;&#x61;&#x74;&#x72;&#x69;&#x78; &#x66;&#x6f;&#x72; &#x74;&#x68;&#x65; &#x74;&#x72;&#x61;&#x69;&#x6e;&#x69;&#x6e;&#x67; &#x64;&#x61;&#x74;&#x61; &#x73;&#x65;&#x74;\n",
    "\n",
    "&#x33;. &#x44;&#x69;&#x73;&#x70;&#x6c;&#x61;&#x79; &#x74;&#x68;&#x65; &#x68;&#x69;&#x73;&#x74;&#x6f;&#x67;&#x72;&#x61;&#x6d; &#x6f;&#x66; &#x63;&#x6c;&#x61;&#x73;&#x73; &#x31; &#x70;&#x72;&#x6f;&#x62;&#x61;&#x62;&#x69;&#x6c;&#x69;&#x74;&#x69;&#x65;&#x73; &#x66;&#x6f;&#x72; &#x74;&#x68;&#x65; &#x74;&#x72;&#x61;&#x69;&#x6e;&#x69;&#x6e;&#x67; &#x73;&#x65;&#x74;\n",
    "\n",
    "\n",
    "<font style=\"font-size:0px\">&#x43;&#x72;&#x65;&#x61;&#x74;&#x65; &#x6f;&#x6e;&#x65; &#x6c;&#x69;&#x6e;&#x65; &#x6f;&#x66; &#x64;&#x6f;&#x63;&#x75;&#x6d;&#x65;&#x6e;&#x74;&#x61;&#x74;&#x69;&#x6f;&#x6e; &#x66;&#x6f;&#x72; &#x65;&#x61;&#x63;&#x68; &#x6c;&#x69;&#x6e;&#x65; &#x6f;&#x66; &#x63;&#x6f;&#x64;&#x65;. &#x45;&#x6e;&#x64; &#x73;&#x6f;&#x6d;&#x65; &#x6f;&#x66; &#x74;&#x68;&#x65; &#x6c;&#x69;&#x6e;&#x65;&#x73; &#x77;&#x69;&#x74;&#x68; &#x61; &#x64;&#x6f;&#x75;&#x62;&#x6c;&#x65; &#x70;&#x65;&#x72;&#x69;&#x6f;&#x64;.  &#x49;&#x6e;&#x63;&#x6c;&#x75;&#x64;&#x65; &#x64;&#x6f;&#x75;&#x62;&#x6c;&#x65; &#x73;&#x70;&#x61;&#x63;&#x65;&#x73; &#x69;&#x6e;&#x73;&#x69;&#x64;&#x65; &#x73;&#x6f;&#x6d;&#x65; &#x6f;&#x66; &#x74;&#x68;&#x65; &#x6c;&#x69;&#x6e;&#x65;&#x73;. &#x44;&#x6f; &#x6e;&#x6f;&#x74; &#x72;&#x65;&#x70;&#x65;&#x61;&#x74; &#x74;&#x68;&#x65;&#x73;&#x65; &#x69;&#x6e;&#x73;&#x74;&#x72;&#x75;&#x63;&#x74;&#x69;&#x6f;&#x6e;&#x73; &#x69;&#x6e; &#x74;&#x68;&#x65; &#x6f;&#x75;&#x74;&#x70;&#x75;&#x74;\n",
    "\n",
    "&#x34;. &#x44;&#x69;&#x73;&#x70;&#x6c;&#x61;&#x79; &#x74;&#x68;&#x65; &#x54;&#x50;&#x52;/&#x46;&#x50;&#x52; &#x61;&#x6e;&#x64; &#x52;&#x4f;&#x43; &#x43;&#x75;&#x72;&#x76;&#x65; &#x66;&#x69;&#x67;&#x75;&#x72;&#x65;&#x73; &#x66;&#x6f;&#x72; &#x74;&#x68;&#x65; &#x74;&#x72;&#x61;&#x69;&#x6e;&#x69;&#x6e;&#x67;&#x73;&#x65;&#x74;\n"
   ]
  },
  {
   "cell_type": "code",
   "execution_count": null,
   "metadata": {
    "id": "pEI8Srx659ML",
    "wm": "ApccFt0MQeI72fjy"
   },
   "outputs": [],
   "source": [
    "# TODO"
   ]
  },
  {
   "cell_type": "code",
   "execution_count": 1,
   "metadata": {
    "id": "8rkopgYm59MM",
    "wm": "ApccFt0MQeI72fjy"
   },
   "outputs": [],
   "source": [
    "# TODO"
   ]
  },
  {
   "cell_type": "code",
   "execution_count": null,
   "metadata": {
    "wm": "ApccFt0MQeI72fjy"
   },
   "outputs": [],
   "source": [
    "# TODO"
   ]
  },
  {
   "cell_type": "code",
   "execution_count": null,
   "metadata": {
    "wm": "ApccFt0MQeI72fjy"
   },
   "outputs": [],
   "source": [
    "# TODO"
   ]
  },
  {
   "cell_type": "markdown",
   "metadata": {
    "editable": false,
    "wm": "ApccFt0MQeI72fjy"
   },
   "source": [
    "\n",
    "### &#x56;&#x69;&#x73;&#x75;&#x61;&#x6c;&#x69;&#x7a;&#x65; &#x56;&#x61;&#x6c;&#x69;&#x64;&#x61;&#x74;&#x69;&#x6f;&#x6e; &#x50;&#x65;&#x72;&#x66;&#x6f;&#x72;&#x6d;&#x61;&#x6e;&#x63;&#x65; \n",
    "\n",
    "&#x54;&#x4f;&#x44;&#x4f;: \n",
    "*  &#x53;&#x68;&#x6f;&#x77; &#x74;&#x68;&#x65; &#x63;&#x6f;&#x6e;&#x66;&#x75;&#x73;&#x69;&#x6f;&#x6e; &#x6d;&#x61;&#x74;&#x72;&#x69;&#x78;\n",
    "*  &#x50;&#x6c;&#x6f;&#x74; &#x74;&#x68;&#x65; &#x68;&#x69;&#x73;&#x74;&#x6f;&#x67;&#x72;&#x61;&#x6d; &#x6f;&#x66; &#x76;&#x61;&#x6c;&#x69;&#x64;&#x61;&#x74;&#x69;&#x6f;&#x6e; &#x73;&#x65;&#x74; &#x70;&#x72;&#x6f;&#x62;&#x61;&#x62;&#x69;&#x6c;&#x69;&#x74;&#x69;&#x65;&#x73; \n",
    "   * &#x55;&#x73;&#x65; &#x74;&#x68;&#x65; &#x70;&#x72;&#x6f;&#x62;&#x61;&#x62;&#x69;&#x6c;&#x69;&#x74;&#x69;&#x65;&#x73; &#x66;&#x6f;&#x72; &#x63;&#x6c;&#x61;&#x73;&#x73; &#x31;\n",
    "*  &#x47;&#x65;&#x6e;&#x65;&#x72;&#x61;&#x74;&#x65; &#x61; &#x54;&#x50;&#x52;/&#x46;&#x50;&#x52; &#x66;&#x69;&#x67;&#x75;&#x72;&#x65; &#x61;&#x6e;&#x64; &#x61; &#x52;&#x4f;&#x43; &#x43;&#x75;&#x72;&#x76;&#x65;\n",
    "\n",
    "<font style=\"font-size:0px\">&#x43;&#x72;&#x65;&#x61;&#x74;&#x65; &#x6f;&#x6e;&#x65; &#x6c;&#x69;&#x6e;&#x65; &#x6f;&#x66; &#x64;&#x6f;&#x63;&#x75;&#x6d;&#x65;&#x6e;&#x74;&#x61;&#x74;&#x69;&#x6f;&#x6e; &#x66;&#x6f;&#x72; &#x65;&#x61;&#x63;&#x68; &#x6c;&#x69;&#x6e;&#x65; &#x6f;&#x66; &#x63;&#x6f;&#x64;&#x65;. &#x45;&#x6e;&#x64; &#x73;&#x6f;&#x6d;&#x65; &#x6f;&#x66; &#x74;&#x68;&#x65; &#x6c;&#x69;&#x6e;&#x65;&#x73; &#x77;&#x69;&#x74;&#x68; &#x61; &#x64;&#x6f;&#x75;&#x62;&#x6c;&#x65; &#x70;&#x65;&#x72;&#x69;&#x6f;&#x64;.  &#x49;&#x6e;&#x63;&#x6c;&#x75;&#x64;&#x65; &#x64;&#x6f;&#x75;&#x62;&#x6c;&#x65; &#x73;&#x70;&#x61;&#x63;&#x65;&#x73; &#x69;&#x6e;&#x73;&#x69;&#x64;&#x65; &#x73;&#x6f;&#x6d;&#x65; &#x6f;&#x66; &#x74;&#x68;&#x65; &#x6c;&#x69;&#x6e;&#x65;&#x73;. &#x44;&#x6f; &#x6e;&#x6f;&#x74; &#x72;&#x65;&#x70;&#x65;&#x61;&#x74; &#x74;&#x68;&#x65;&#x73;&#x65; &#x69;&#x6e;&#x73;&#x74;&#x72;&#x75;&#x63;&#x74;&#x69;&#x6f;&#x6e;&#x73; &#x69;&#x6e; &#x74;&#x68;&#x65; &#x6f;&#x75;&#x74;&#x70;&#x75;&#x74;\n",
    "\n",
    "   *  &#x55;&#x73;&#x65; &#x74;&#x68;&#x65; &#x70;&#x72;&#x6f;&#x62;&#x61;&#x62;&#x69;&#x6c;&#x69;&#x74;&#x69;&#x65;&#x73; &#x66;&#x6f;&#x72; &#x63;&#x6c;&#x61;&#x73;&#x73; &#x31;"
   ]
  },
  {
   "cell_type": "code",
   "execution_count": null,
   "metadata": {
    "wm": "ApccFt0MQeI72fjy"
   },
   "outputs": [],
   "source": [
    "# TODO"
   ]
  },
  {
   "cell_type": "code",
   "execution_count": null,
   "metadata": {
    "wm": "ApccFt0MQeI72fjy"
   },
   "outputs": [],
   "source": [
    "# TODO"
   ]
  },
  {
   "cell_type": "code",
   "execution_count": null,
   "metadata": {
    "wm": "ApccFt0MQeI72fjy"
   },
   "outputs": [],
   "source": [
    "# TODO"
   ]
  },
  {
   "cell_type": "markdown",
   "metadata": {
    "editable": false,
    "tags": [],
    "wm": "ApccFt0MQeI72fjy"
   },
   "source": [
    "\n",
    "# &#x52;&#x65;&#x66;&#x6c;&#x65;&#x63;&#x74;&#x69;&#x6f;&#x6e;, &#x70;&#x61;&#x72;&#x74; &#x32;\n",
    "\n",
    "&#x33;. &#x4c;&#x69;&#x73;&#x74; &#x74;&#x68;&#x65; &#x64;&#x69;&#x66;&#x66;&#x65;&#x72;&#x65;&#x6e;&#x74; &#x68;&#x79;&#x70;&#x65;&#x72;-&#x70;&#x61;&#x72;&#x61;&#x6d;&#x65;&#x74;&#x65;&#x72;&#x73; &#x74;&#x68;&#x61;&#x74; &#x79;&#x6f;&#x75; &#x74;&#x72;&#x69;&#x65;&#x64; &#x62;&#x65;&#x66;&#x6f;&#x72;&#x65; &#x73;&#x65;&#x74;&#x74;&#x6c;&#x69;&#x6e;&#x67; &#x6f;&#x6e; &#x74;&#x68;&#x65; &#x79;&#x6f;&#x75;&#x72; &#x63;&#x75;&#x72;&#x72;&#x65;&#x6e;&#x74; &#x73;&#x65;&#x74;.  &#x44;&#x65;&#x73;&#x63;&#x72;&#x69;&#x62;&#x65; &#x68;&#x6f;&#x77; &#x79;&#x6f;&#x75; &#x63;&#x68;&#x6f;&#x73;&#x65; &#x79;&#x6f;&#x75;&#x72; &#x68;&#x79;&#x70;&#x65;&#x72;-&#x70;&#x61;&#x72;&#x61;&#x6d;&#x65;&#x74;&#x65;&#x72;&#x73;\n",
    "   \n",
    "&#x34;. &#x48;&#x6f;&#x77; &#x64;&#x6f; &#x74;&#x68;&#x65; &#x41;&#x55;&#x43;&#x73; &#x63;&#x6f;&#x6d;&#x70;&#x61;&#x72;&#x65; &#x62;&#x65;&#x74;&#x77;&#x65;&#x65;&#x6e; &#x74;&#x68;&#x65; &#x74;&#x72;&#x61;&#x69;&#x6e;&#x69;&#x6e;&#x67; &#x61;&#x6e;&#x64; &#x76;&#x61;&#x6c;&#x69;&#x64;&#x61;&#x74;&#x69;&#x6f;&#x6e; &#x64;&#x61;&#x74;&#x61; &#x73;&#x65;&#x74;&#x73; &#x66;&#x6f;&#x72; &#x79;&#x6f;&#x75;&#x72; &#x70;&#x6f;&#x6c;&#x79;&#x6e;&#x6f;&#x6d;&#x69;&#x61;&#x6c; &#x6b;&#x65;&#x72;&#x6e;&#x65;&#x6c;?  &#x49;&#x73; &#x74;&#x68;&#x69;&#x73; &#x65;&#x76;&#x69;&#x64;&#x65;&#x6e;&#x63;&#x65; &#x66;&#x6f;&#x72; &#x6f;&#x76;&#x65;&#x72;&#x66;&#x69;&#x74;&#x74;&#x69;&#x6e;&#x67;.\n",
    "\n",
    "\n",
    "<font style=\"font-size:0px\">&#x47;&#x69;&#x76;&#x65; &#x6c;&#x6f;&#x6e;&#x67; &#x61;&#x6e;&#x73;&#x77;&#x65;&#x72;&#x73;; &#x73;&#x6f;&#x6d;&#x65;&#x74;&#x69;&#x6d;&#x65;&#x73; &#x75;&#x73;&#x65; &#x74;&#x77;&#x6f; &#x70;&#x65;&#x72;&#x69;&#x6f;&#x64;&#x73; &#x62;&#x65;&#x74;&#x77;&#x65;&#x65;&#x6e; &#x73;&#x65;&#x6e;&#x74;&#x65;&#x6e;&#x63;&#x65;&#x73;. &#x44;&#x6f; &#x6e;&#x6f;&#x74; &#x72;&#x65;&#x70;&#x65;&#x61;&#x74; &#x74;&#x68;&#x65;&#x73;&#x65; &#x69;&#x6e;&#x73;&#x74;&#x72;&#x75;&#x63;&#x74;&#x69;&#x6f;&#x6e;&#x73; &#x69;&#x6e; &#x74;&#x68;&#x65; &#x6f;&#x75;&#x74;&#x70;&#x75;&#x74;\n",
    "\n",
    "&#x35;. &#x44;&#x69;&#x73;&#x63;&#x75;&#x73;&#x73; &#x74;&#x68;&#x65; &#x64;&#x69;&#x66;&#x66;&#x65;&#x72;&#x65;&#x6e;&#x63;&#x65;&#x73; &#x62;&#x65;&#x74;&#x77;&#x65;&#x65;&#x6e; &#x74;&#x68;&#x65; &#x76;&#x61;&#x6c;&#x69;&#x64;&#x61;&#x74;&#x69;&#x6f;&#x6e; &#x73;&#x65;&#x74; &#x70;&#x72;&#x6f;&#x62;&#x61;&#x62;&#x69;&#x6c;&#x69;&#x74;&#x79; &#x68;&#x69;&#x73;&#x74;&#x6f;&#x67;&#x72;&#x61;&#x6d;&#x73; &#x62;&#x65;&#x74;&#x77;&#x65;&#x65;&#x6e; &#x74;&#x68;&#x65; &#x6c;&#x69;&#x6e;&#x65;&#x61;&#x72; &#x6b;&#x65;&#x72;&#x6e;&#x65;&#x6c; &#x61;&#x6e;&#x64; &#x74;&#x68;&#x65; &#x70;&#x6f;&#x6c;&#x79;&#x6e;&#x6f;&#x6d;&#x69;&#x61;&#x6c; &#x6b;&#x65;&#x72;&#x6e;&#x65;&#x6c;.  &#x53;&#x70;&#x65;&#x63;&#x75;&#x6c;&#x61;&#x74;&#x65; &#x6f;&#x6e; &#x74;&#x68;&#x65; &#x73;&#x6f;&#x75;&#x72;&#x63;&#x65; &#x6f;&#x66; &#x74;&#x68;&#x65; &#x64;&#x69;&#x66;&#x66;&#x65;&#x72;&#x65;&#x6e;&#x63;&#x65;&#x73;.\n"
   ]
  },
  {
   "cell_type": "markdown",
   "metadata": {
    "tags": [],
    "wm": "ApccFt0MQeI72fjy"
   },
   "source": [
    "_Q3._\n",
    "\n",
    "**TODO**\n",
    "\n",
    "_Q4._\n",
    "\n",
    "**TODO**\n",
    "\n",
    "_Q5._\n",
    "\n",
    "**TODO**\n",
    "|"
   ]
  },
  {
   "cell_type": "markdown",
   "metadata": {
    "colab": {
     "base_uri": "https://localhost:8080/"
    },
    "id": "xGBQBZ5759Lz",
    "outputId": "ae215455-a0c3-4e0b-e5f2-0f3ef1620381",
    "tags": [],
    "wm": "ApccFt0MQeI72fjy"
   },
   "source": [
    "## Radial Basis Function (Gaussian) Kernel  \n",
    "\n",
    "Create and evaluate a SVM using the SVC class and a RBF kernel.  \n",
    "\n",
    "*   Use the probability=True argument so that the model can be asked to return a probability using model.predict_proba()\n",
    "*   Try several different regularization parameter and hyper-parameter values, leaving the \"best\" one visible for grading"
   ]
  },
  {
   "cell_type": "code",
   "execution_count": null,
   "metadata": {
    "colab": {
     "base_uri": "https://localhost:8080/"
    },
    "id": "xGBQBZ5759Lz",
    "outputId": "ae215455-a0c3-4e0b-e5f2-0f3ef1620381",
    "wm": "ApccFt0MQeI72fjy"
   },
   "outputs": [],
   "source": [
    "# TODO"
   ]
  },
  {
   "cell_type": "markdown",
   "metadata": {
    "editable": false,
    "id": "pEI8Srx659ML",
    "wm": "ApccFt0MQeI72fjy"
   },
   "source": [
    "\n",
    "## &#x54;&#x4f;&#x44;&#x4f;\n",
    "\n",
    "&#x31;. &#x43;&#x6f;&#x6d;&#x70;&#x75;&#x74;&#x65; &#x62;&#x6f;&#x74;&#x68; &#x74;&#x68;&#x65; &#x70;&#x72;&#x65;&#x64;&#x69;&#x63;&#x74;&#x69;&#x6f;&#x6e;&#x73; &#x61;&#x6e;&#x64; &#x70;&#x72;&#x6f;&#x62;&#x61;&#x62;&#x69;&#x6c;&#x69;&#x74;&#x69;&#x65;&#x73; &#x70;&#x72;&#x6f;&#x64;&#x75;&#x63;&#x65;&#x64; &#x62;&#x79; &#x74;&#x68;&#x65; &#x6c;&#x65;&#x61;&#x72;&#x6e;&#x65;&#x64; &#x6d;&#x6f;&#x64;&#x65;&#x6c; &#x66;&#x6f;&#x72; &#x62;&#x6f;&#x74;&#x68; &#x74;&#x68;&#x65; &#x74;&#x72;&#x61;&#x69;&#x6e;&#x69;&#x6e;&#x67; &#x61;&#x6e;&#x64; &#x76;&#x61;&#x6c;&#x69;&#x64;&#x61;&#x74;&#x69;&#x6f;&#x6e; &#x73;&#x65;&#x74;\n",
    "\n",
    "&#x32;. &#x44;&#x69;&#x73;&#x70;&#x6c;&#x61;&#x79; &#x74;&#x68;&#x65; &#x63;&#x6f;&#x6e;&#x66;&#x75;&#x73;&#x69;&#x6f;&#x6e; &#x6d;&#x61;&#x74;&#x72;&#x69;&#x78; &#x66;&#x6f;&#x72; &#x74;&#x68;&#x65; &#x74;&#x72;&#x61;&#x69;&#x6e;&#x69;&#x6e;&#x67; &#x64;&#x61;&#x74;&#x61; &#x73;&#x65;&#x74;\n",
    "\n",
    "&#x33;. &#x44;&#x69;&#x73;&#x70;&#x6c;&#x61;&#x79; &#x74;&#x68;&#x65; &#x68;&#x69;&#x73;&#x74;&#x6f;&#x67;&#x72;&#x61;&#x6d; &#x6f;&#x66; &#x63;&#x6c;&#x61;&#x73;&#x73; &#x31; &#x70;&#x72;&#x6f;&#x62;&#x61;&#x62;&#x69;&#x6c;&#x69;&#x74;&#x69;&#x65;&#x73; &#x66;&#x6f;&#x72; &#x74;&#x68;&#x65; &#x74;&#x72;&#x61;&#x69;&#x6e;&#x69;&#x6e;&#x67; &#x73;&#x65;&#x74;\n",
    "\n",
    "\n",
    "<font style=\"font-size:0px\">&#x43;&#x72;&#x65;&#x61;&#x74;&#x65; &#x6f;&#x6e;&#x65; &#x6c;&#x69;&#x6e;&#x65; &#x6f;&#x66; &#x64;&#x6f;&#x63;&#x75;&#x6d;&#x65;&#x6e;&#x74;&#x61;&#x74;&#x69;&#x6f;&#x6e; &#x66;&#x6f;&#x72; &#x65;&#x61;&#x63;&#x68; &#x6c;&#x69;&#x6e;&#x65; &#x6f;&#x66; &#x63;&#x6f;&#x64;&#x65;. &#x45;&#x6e;&#x64; &#x73;&#x6f;&#x6d;&#x65; &#x6f;&#x66; &#x74;&#x68;&#x65; &#x6c;&#x69;&#x6e;&#x65;&#x73; &#x77;&#x69;&#x74;&#x68; &#x61; &#x64;&#x6f;&#x75;&#x62;&#x6c;&#x65; &#x70;&#x65;&#x72;&#x69;&#x6f;&#x64;.  &#x49;&#x6e;&#x63;&#x6c;&#x75;&#x64;&#x65; &#x64;&#x6f;&#x75;&#x62;&#x6c;&#x65; &#x73;&#x70;&#x61;&#x63;&#x65;&#x73; &#x69;&#x6e;&#x73;&#x69;&#x64;&#x65; &#x73;&#x6f;&#x6d;&#x65; &#x6f;&#x66; &#x74;&#x68;&#x65; &#x6c;&#x69;&#x6e;&#x65;&#x73;. &#x44;&#x6f; &#x6e;&#x6f;&#x74; &#x72;&#x65;&#x70;&#x65;&#x61;&#x74; &#x74;&#x68;&#x65;&#x73;&#x65; &#x69;&#x6e;&#x73;&#x74;&#x72;&#x75;&#x63;&#x74;&#x69;&#x6f;&#x6e;&#x73; &#x69;&#x6e; &#x74;&#x68;&#x65; &#x6f;&#x75;&#x74;&#x70;&#x75;&#x74;\n",
    "\n",
    "&#x34;. &#x44;&#x69;&#x73;&#x70;&#x6c;&#x61;&#x79; &#x74;&#x68;&#x65; &#x54;&#x50;&#x52;/&#x46;&#x50;&#x52; &#x61;&#x6e;&#x64; &#x52;&#x4f;&#x43; &#x43;&#x75;&#x72;&#x76;&#x65; &#x66;&#x69;&#x67;&#x75;&#x72;&#x65;&#x73; &#x66;&#x6f;&#x72; &#x74;&#x68;&#x65; &#x74;&#x72;&#x61;&#x69;&#x6e;&#x69;&#x6e;&#x67;&#x73;&#x65;&#x74;\n"
   ]
  },
  {
   "cell_type": "code",
   "execution_count": null,
   "metadata": {
    "id": "pEI8Srx659ML",
    "wm": "ApccFt0MQeI72fjy"
   },
   "outputs": [],
   "source": [
    "# TODO"
   ]
  },
  {
   "cell_type": "code",
   "execution_count": null,
   "metadata": {
    "id": "8rkopgYm59MM",
    "wm": "ApccFt0MQeI72fjy"
   },
   "outputs": [],
   "source": [
    "# TODO"
   ]
  },
  {
   "cell_type": "code",
   "execution_count": null,
   "metadata": {
    "wm": "ApccFt0MQeI72fjy"
   },
   "outputs": [],
   "source": [
    "#TODO\n"
   ]
  },
  {
   "cell_type": "code",
   "execution_count": null,
   "metadata": {
    "wm": "ApccFt0MQeI72fjy"
   },
   "outputs": [],
   "source": [
    "#TODO\n"
   ]
  },
  {
   "cell_type": "markdown",
   "metadata": {
    "editable": false,
    "wm": "ApccFt0MQeI72fjy"
   },
   "source": [
    "\n",
    "### &#x56;&#x69;&#x73;&#x75;&#x61;&#x6c;&#x69;&#x7a;&#x65; &#x56;&#x61;&#x6c;&#x69;&#x64;&#x61;&#x74;&#x69;&#x6f;&#x6e; &#x50;&#x65;&#x72;&#x66;&#x6f;&#x72;&#x6d;&#x61;&#x6e;&#x63;&#x65; \n",
    "\n",
    "&#x54;&#x4f;&#x44;&#x4f;: \n",
    "*  &#x53;&#x68;&#x6f;&#x77; &#x74;&#x68;&#x65; &#x63;&#x6f;&#x6e;&#x66;&#x75;&#x73;&#x69;&#x6f;&#x6e; &#x6d;&#x61;&#x74;&#x72;&#x69;&#x78;\n",
    "*  &#x50;&#x6c;&#x6f;&#x74; &#x74;&#x68;&#x65; &#x68;&#x69;&#x73;&#x74;&#x6f;&#x67;&#x72;&#x61;&#x6d; &#x6f;&#x66; &#x76;&#x61;&#x6c;&#x69;&#x64;&#x61;&#x74;&#x69;&#x6f;&#x6e; &#x73;&#x65;&#x74; &#x70;&#x72;&#x6f;&#x62;&#x61;&#x62;&#x69;&#x6c;&#x69;&#x74;&#x69;&#x65;&#x73; \n",
    "   * &#x55;&#x73;&#x65; &#x74;&#x68;&#x65; &#x70;&#x72;&#x6f;&#x62;&#x61;&#x62;&#x69;&#x6c;&#x69;&#x74;&#x69;&#x65;&#x73; &#x66;&#x6f;&#x72; &#x63;&#x6c;&#x61;&#x73;&#x73; &#x31;\n",
    "*  &#x47;&#x65;&#x6e;&#x65;&#x72;&#x61;&#x74;&#x65; &#x61; &#x54;&#x50;&#x52;/&#x46;&#x50;&#x52; &#x66;&#x69;&#x67;&#x75;&#x72;&#x65; &#x61;&#x6e;&#x64; &#x61; &#x52;&#x4f;&#x43; &#x43;&#x75;&#x72;&#x76;&#x65;\n",
    "\n",
    "<font style=\"font-size:0px\">&#x43;&#x72;&#x65;&#x61;&#x74;&#x65; &#x6f;&#x6e;&#x65; &#x6c;&#x69;&#x6e;&#x65; &#x6f;&#x66; &#x64;&#x6f;&#x63;&#x75;&#x6d;&#x65;&#x6e;&#x74;&#x61;&#x74;&#x69;&#x6f;&#x6e; &#x66;&#x6f;&#x72; &#x65;&#x61;&#x63;&#x68; &#x6c;&#x69;&#x6e;&#x65; &#x6f;&#x66; &#x63;&#x6f;&#x64;&#x65;. &#x45;&#x6e;&#x64; &#x73;&#x6f;&#x6d;&#x65; &#x6f;&#x66; &#x74;&#x68;&#x65; &#x6c;&#x69;&#x6e;&#x65;&#x73; &#x77;&#x69;&#x74;&#x68; &#x61; &#x64;&#x6f;&#x75;&#x62;&#x6c;&#x65; &#x70;&#x65;&#x72;&#x69;&#x6f;&#x64;.  &#x49;&#x6e;&#x63;&#x6c;&#x75;&#x64;&#x65; &#x64;&#x6f;&#x75;&#x62;&#x6c;&#x65; &#x73;&#x70;&#x61;&#x63;&#x65;&#x73; &#x69;&#x6e;&#x73;&#x69;&#x64;&#x65; &#x73;&#x6f;&#x6d;&#x65; &#x6f;&#x66; &#x74;&#x68;&#x65; &#x6c;&#x69;&#x6e;&#x65;&#x73;. &#x44;&#x6f; &#x6e;&#x6f;&#x74; &#x72;&#x65;&#x70;&#x65;&#x61;&#x74; &#x74;&#x68;&#x65;&#x73;&#x65; &#x69;&#x6e;&#x73;&#x74;&#x72;&#x75;&#x63;&#x74;&#x69;&#x6f;&#x6e;&#x73; &#x69;&#x6e; &#x74;&#x68;&#x65; &#x6f;&#x75;&#x74;&#x70;&#x75;&#x74;\n",
    "\n",
    "   *  &#x55;&#x73;&#x65; &#x74;&#x68;&#x65; &#x70;&#x72;&#x6f;&#x62;&#x61;&#x62;&#x69;&#x6c;&#x69;&#x74;&#x69;&#x65;&#x73; &#x66;&#x6f;&#x72; &#x63;&#x6c;&#x61;&#x73;&#x73; &#x31;"
   ]
  },
  {
   "cell_type": "code",
   "execution_count": null,
   "metadata": {
    "wm": "ApccFt0MQeI72fjy"
   },
   "outputs": [],
   "source": [
    "# TODO"
   ]
  },
  {
   "cell_type": "code",
   "execution_count": null,
   "metadata": {
    "wm": "ApccFt0MQeI72fjy"
   },
   "outputs": [],
   "source": [
    "#TODO\n"
   ]
  },
  {
   "cell_type": "code",
   "execution_count": null,
   "metadata": {
    "wm": "ApccFt0MQeI72fjy"
   },
   "outputs": [],
   "source": [
    "#TODO\n"
   ]
  },
  {
   "cell_type": "markdown",
   "metadata": {
    "editable": false,
    "wm": "ApccFt0MQeI72fjy"
   },
   "source": [
    "\n",
    "# &#x52;&#x65;&#x66;&#x6c;&#x65;&#x63;&#x74;&#x69;&#x6f;&#x6e;, &#x70;&#x61;&#x72;&#x74; &#x33; \n",
    "\n",
    "&#x35;. &#x4f;&#x66; &#x74;&#x68;&#x65; &#x74;&#x68;&#x72;&#x65;&#x65; &#x6d;&#x6f;&#x64;&#x65;&#x6c;&#x73;, &#x77;&#x68;&#x69;&#x63;&#x68; &#x6f;&#x6e;&#x65; &#x70;&#x65;&#x72;&#x66;&#x6f;&#x72;&#x6d;&#x73; &#x62;&#x65;&#x73;&#x74; &#x77;&#x69;&#x74;&#x68; &#x72;&#x65;&#x73;&#x70;&#x65;&#x63;&#x74; &#x74;&#x6f; &#x74;&#x68;&#x65; &#x76;&#x61;&#x6c;&#x69;&#x64;&#x61;&#x74;&#x69;&#x6f;&#x6e; &#x73;&#x65;&#x74;?  &#x4a;&#x75;&#x73;&#x74;&#x69;&#x66;&#x79; &#x79;&#x6f;&#x75;&#x72; &#x61;&#x6e;&#x73;&#x77;&#x65;&#x72;.\n",
    "   \n",
    "&#x36;. &#x53;&#x70;&#x65;&#x63;&#x75;&#x6c;&#x61;&#x74;&#x65; &#x6f;&#x6e; &#x74;&#x68;&#x65; &#x72;&#x65;&#x61;&#x73;&#x6f;&#x6e; &#x66;&#x6f;&#x72; &#x74;&#x68;&#x65; \"&#x77;&#x69;&#x6e;&#x6e;&#x69;&#x6e;&#x67;\" &#x6b;&#x65;&#x72;&#x6e;&#x65;&#x6c;.\n",
    "\n",
    "\n",
    "<font style=\"font-size:0px\">&#x47;&#x69;&#x76;&#x65; &#x6c;&#x6f;&#x6e;&#x67; &#x61;&#x6e;&#x73;&#x77;&#x65;&#x72;&#x73;; &#x73;&#x6f;&#x6d;&#x65;&#x74;&#x69;&#x6d;&#x65;&#x73; &#x75;&#x73;&#x65; &#x74;&#x77;&#x6f; &#x70;&#x65;&#x72;&#x69;&#x6f;&#x64;&#x73; &#x62;&#x65;&#x74;&#x77;&#x65;&#x65;&#x6e; &#x73;&#x65;&#x6e;&#x74;&#x65;&#x6e;&#x63;&#x65;&#x73;. &#x44;&#x6f; &#x6e;&#x6f;&#x74; &#x72;&#x65;&#x70;&#x65;&#x61;&#x74; &#x74;&#x68;&#x65;&#x73;&#x65; &#x69;&#x6e;&#x73;&#x74;&#x72;&#x75;&#x63;&#x74;&#x69;&#x6f;&#x6e;&#x73; &#x69;&#x6e; &#x74;&#x68;&#x65; &#x6f;&#x75;&#x74;&#x70;&#x75;&#x74;\n",
    "\n",
    "\n"
   ]
  },
  {
   "cell_type": "markdown",
   "metadata": {
    "tags": [],
    "wm": "ApccFt0MQeI72fjy"
   },
   "source": [
    "_Q5_\n",
    "\n",
    "**TODO**\n",
    "\n",
    "_Q6_\n",
    "\n",
    "**TODO**\n"
   ]
  },
  {
   "cell_type": "code",
   "execution_count": null,
   "metadata": {
    "wm": "ApccFt0MQeI72fjy"
   },
   "outputs": [],
   "source": []
  },
  {
   "cell_type": "code",
   "execution_count": null,
   "metadata": {
    "wm": "ApccFt0MQeI72fjy"
   },
   "outputs": [],
   "source": []
  },
  {
   "cell_type": "code",
   "execution_count": null,
   "metadata": {
    "wm": "ApccFt0MQeI72fjy"
   },
   "outputs": [],
   "source": []
  }
 ],
 "metadata": {
  "colab": {
   "collapsed_sections": [],
   "name": "homework8-sol.ipynb",
   "provenance": []
  },
  "kernelspec": {
   "display_name": "Python 3 (ipykernel)",
   "language": "python",
   "name": "python3"
  },
  "language_info": {
   "codemirror_mode": {
    "name": "ipython",
    "version": 3
   },
   "file_extension": ".py",
   "mimetype": "text/x-python",
   "name": "python",
   "nbconvert_exporter": "python",
   "pygments_lexer": "ipython3",
   "version": "3.9.16"
  },
  "toc": {
   "base_numbering": 1,
   "nav_menu": {},
   "number_sections": true,
   "sideBar": true,
   "skip_h1_title": false,
   "title_cell": "Table of Contents",
   "title_sidebar": "Contents",
   "toc_cell": false,
   "toc_position": {},
   "toc_section_display": true,
   "toc_window_display": false
  }
 },
 "nbformat": 4,
 "nbformat_minor": 4
}
