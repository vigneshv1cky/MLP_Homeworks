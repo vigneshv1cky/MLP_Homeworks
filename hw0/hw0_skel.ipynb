{
 "cells": [
  {
   "cell_type": "markdown",
   "metadata": {
    "id": "HpWeRToFO9HN",
    "wm": "ApccFt0MQeI72fjy"
   },
   "source": [
    "NAME: Vignesh Murugan\n",
    "# Machine Learning Practice - Asynchronous\n",
    "## Homework 0\n",
    "\n",
    "### Objectives\n",
    "* Learn to use Jupyter Hub\n",
    "* Practice basic python operations\n",
    "\n",
    "### Instructions\n",
    "* Only work in a copy of the file that is from your ~/homework_in/ directory\n",
    "   + __If you do not use your own copy of this file, then it is an automatic zero on the assignment__\n",
    "* Read the code below \n",
    "* For any cell that is flagged as *TODO*, complete the code according to the specifications\n",
    "* Execute each cell and verify that it is showing correct results\n",
    "* Hand-In Procedure\n",
    "  + Make sure that your notebook has been saved.  You are responsible for ensuring that the copy that you submit is current and complete\n",
    "  + Download this file to your local machine (extension: .ipynb)\n",
    "  + Submit to the Gradscope Notebook HW0 dropbox\n",
    "\n",
    "### General References\n",
    "* [Jupyter Lab Documentation](https://jupyterlab.readthedocs.io/en/stable/)\n",
    "* [Python Built-in Functions](https://docs.python.org/3/library/functions.html)\n",
    "* [Python Data Structures](https://docs.python.org/3/tutorial/datastructures.html)\n",
    "* Python Lists\n",
    "  + [Reference Lists](https://python-reference.readthedocs.io/en/latest/docs/list/)\n",
    "* Enumerated Lists\n",
    "  + [Example 1 using enumerate()](https://www.geeksforgeeks.org/enumerate-in-python/)\n",
    "  + [Example 2 using enumerate()](https://www.afternerd.com/blog/python-enumerate/)\n",
    "* [Python Cheat Sheets](https://ehmatthes.github.io/pcc/cheatsheets/README.html)\n",
    "\n"
   ]
  },
  {
   "cell_type": "code",
   "execution_count": 11,
   "metadata": {
    "id": "SkbGaFuMO9HV",
    "wm": "ApccFt0MQeI72fjy"
   },
   "outputs": [],
   "source": [
    "# EXECUTE CELL\n",
    "import copy"
   ]
  },
  {
   "cell_type": "markdown",
   "metadata": {
    "id": "SkbGaFuMO9HV",
    "wm": "ApccFt0MQeI72fjy"
   },
   "source": [
    "## Lists\n",
    "Create small lists using a standard for loop and python's list comprehension syntax"
   ]
  },
  {
   "cell_type": "code",
   "execution_count": 12,
   "metadata": {
    "colab": {
     "base_uri": "https://localhost:8080/"
    },
    "id": "TIk0Nha6O9HW",
    "outputId": "a36db2df-12c3-4bc3-ee19-641be9fa44d9",
    "wm": "ApccFt0MQeI72fjy"
   },
   "outputs": [
    {
     "name": "stdout",
     "output_type": "stream",
     "text": [
      "[1, 3, 9, 27, 81, 243, 729, 2187, 6561, 19683, 59049, 177147, 531441, 1594323, 4782969, 14348907, 43046721, 129140163, 387420489, 1162261467]\n"
     ]
    }
   ],
   "source": [
    "\"\"\" TODO:\n",
    "Create an empty list, x, and populate it with the first \n",
    "20 powers of 3, starting with 3^0\n",
    "\n",
    "Use a standard for loop and the append() function\n",
    "\"\"\"\n",
    "x = []\n",
    "\n",
    "for i in range(0,20):\n",
    "    x.append(3 ** i)\n",
    "\n",
    "#TODO\n",
    "\n",
    "print(x)"
   ]
  },
  {
   "cell_type": "code",
   "execution_count": 13,
   "metadata": {
    "colab": {
     "base_uri": "https://localhost:8080/"
    },
    "id": "TIk0Nha6O9HW",
    "outputId": "a36db2df-12c3-4bc3-ee19-641be9fa44d9",
    "wm": "ApccFt0MQeI72fjy"
   },
   "outputs": [
    {
     "name": "stdout",
     "output_type": "stream",
     "text": [
      "[1, 3, 9, 27, 81, 243, 729, 2187, 6561, 19683, 59049, 177147, 531441, 1594323, 4782969, 14348907, 43046721, 129140163, 387420489, 1162261467]\n"
     ]
    }
   ],
   "source": [
    "\"\"\" TODO:\n",
    "Create and populate another list, y, with the same powers of three\n",
    "instead using List Comprehension\n",
    "\"\"\"\n",
    "y = [ (3**i) for i in range(0,20)]\n",
    "\n",
    "print(y)"
   ]
  },
  {
   "cell_type": "code",
   "execution_count": 14,
   "metadata": {
    "colab": {
     "base_uri": "https://localhost:8080/"
    },
    "id": "TIk0Nha6O9HW",
    "outputId": "a36db2df-12c3-4bc3-ee19-641be9fa44d9",
    "wm": "ApccFt0MQeI72fjy"
   },
   "outputs": [
    {
     "data": {
      "text/plain": [
       "True"
      ]
     },
     "execution_count": 14,
     "metadata": {},
     "output_type": "execute_result"
    }
   ],
   "source": [
    "\"\"\" EXECUTE CELL\n",
    "Verify that the two lists have identical content\n",
    "\"\"\"\n",
    "x == y"
   ]
  },
  {
   "cell_type": "markdown",
   "metadata": {
    "id": "lQL-4cqzO9HZ",
    "wm": "ApccFt0MQeI72fjy"
   },
   "source": [
    "### Enumerating Lists"
   ]
  },
  {
   "cell_type": "code",
   "execution_count": 15,
   "metadata": {
    "colab": {
     "base_uri": "https://localhost:8080/"
    },
    "id": "HuUoQ73GO9Ha",
    "outputId": "0841d9dc-831d-4446-98f6-40c08d18c203",
    "wm": "ApccFt0MQeI72fjy"
   },
   "outputs": [
    {
     "name": "stdout",
     "output_type": "stream",
     "text": [
      "y[0]: 1\n",
      "y[1]: 3\n",
      "y[2]: 9\n",
      "y[3]: 27\n",
      "y[4]: 81\n",
      "y[5]: 243\n",
      "y[6]: 729\n",
      "y[7]: 2187\n",
      "y[8]: 6561\n",
      "y[9]: 19683\n",
      "y[10]: 59049\n",
      "y[11]: 177147\n",
      "y[12]: 531441\n",
      "y[13]: 1594323\n",
      "y[14]: 4782969\n",
      "y[15]: 14348907\n",
      "y[16]: 43046721\n",
      "y[17]: 129140163\n",
      "y[18]: 387420489\n",
      "y[19]: 1162261467\n"
     ]
    }
   ],
   "source": [
    "\"\"\" TODO:\n",
    "Use the enumerate() function to print each element of \n",
    "the list y, alongside its index. For example, output \n",
    "something of a similar form:\n",
    "    y[0]:  1\n",
    "    y[1]:  3\n",
    "      :\n",
    "      :\n",
    "\"\"\"\n",
    "\n",
    "for i,j in enumerate(y):\n",
    "    print(f\"y[{i}]: {j}\")"
   ]
  },
  {
   "cell_type": "markdown",
   "metadata": {
    "id": "acIYO4mqO9Hc",
    "wm": "ApccFt0MQeI72fjy"
   },
   "source": [
    "### Copying lists\n",
    "In python, the variable used for a list is actually a reference that points to where the list resides in memory. When using normal assignment sytnax to copy the contents of a list to create another list, both lists will reference the same memory location. Thus, a change to one variable will change both. Copies made using this syntax are refered to as \"shallow\" copies.\n",
    "For example,  \n",
    "```python\n",
    "  L1 = [1 ,3 ,4]  \n",
    "  L2 = L1 # shallow copy  \n",
    "  L2[1] = 55  \n",
    "  print(L1) # the change will be visible in L1 and L2  \n",
    "```\n",
    "To create an independent copy of any list, i.e. a \"deep\" copy, one can use the copy.deepcopy() function. This will recursively create  separate memory space for the copied list.  \n",
    "```python\n",
    "  L3 = copy.deepcopy(L1)\n",
    "```\n"
   ]
  },
  {
   "cell_type": "code",
   "execution_count": 16,
   "metadata": {
    "id": "LZ9dkm_QO9Hd",
    "wm": "ApccFt0MQeI72fjy"
   },
   "outputs": [
    {
     "data": {
      "text/plain": [
       "[1.5,\n",
       " 3,\n",
       " 9,\n",
       " 27,\n",
       " 81,\n",
       " 243,\n",
       " 729,\n",
       " 2187,\n",
       " 6561,\n",
       " 19683,\n",
       " 59049,\n",
       " 177147,\n",
       " 531441,\n",
       " 1594323,\n",
       " 4782969,\n",
       " 14348907,\n",
       " 43046721,\n",
       " 129140163,\n",
       " 387420489,\n",
       " 1162261467]"
      ]
     },
     "execution_count": 16,
     "metadata": {},
     "output_type": "execute_result"
    }
   ],
   "source": [
    "\"\"\" TODO:\n",
    "Create a shallow copy of x, named x_shallow\n",
    "Changing x_shallow will change the original x list\n",
    "\"\"\"\n",
    "x_shallow = x\n",
    "x_shallow[0] = 1.5\n",
    "x_shallow"
   ]
  },
  {
   "cell_type": "code",
   "execution_count": 17,
   "metadata": {},
   "outputs": [
    {
     "data": {
      "text/plain": [
       "[1,\n",
       " 3,\n",
       " 9,\n",
       " 27,\n",
       " 81,\n",
       " 243,\n",
       " 729,\n",
       " 2187,\n",
       " 6561,\n",
       " 19683,\n",
       " 59049,\n",
       " 177147,\n",
       " 531441,\n",
       " 1594323,\n",
       " 4782969,\n",
       " 14348907,\n",
       " 43046721,\n",
       " 129140163,\n",
       " 387420489,\n",
       " 1162261467]"
      ]
     },
     "execution_count": 17,
     "metadata": {},
     "output_type": "execute_result"
    }
   ],
   "source": [
    "x_shallow[0] = 1\n",
    "x_shallow"
   ]
  },
  {
   "cell_type": "code",
   "execution_count": 18,
   "metadata": {
    "id": "LZ9dkm_QO9Hd",
    "wm": "ApccFt0MQeI72fjy"
   },
   "outputs": [
    {
     "data": {
      "text/plain": [
       "[1,\n",
       " 3,\n",
       " 9,\n",
       " 27,\n",
       " 81,\n",
       " 243,\n",
       " 729,\n",
       " 2187,\n",
       " 6561,\n",
       " 19683,\n",
       " 59049,\n",
       " 177147,\n",
       " 531441,\n",
       " 1594323,\n",
       " 4782969,\n",
       " 14348907,\n",
       " 43046721,\n",
       " 129140163,\n",
       " 387420489,\n",
       " 1162261467]"
      ]
     },
     "execution_count": 18,
     "metadata": {},
     "output_type": "execute_result"
    }
   ],
   "source": [
    "\"\"\" TODO:\n",
    "Create a deep copy of x, named x_deep\n",
    "Changing x_deep will NOT change the original x list\n",
    "\"\"\" \n",
    "\n",
    "x_deep = copy.deepcopy(x)\n",
    "x_deep"
   ]
  },
  {
   "cell_type": "code",
   "execution_count": 19,
   "metadata": {
    "id": "LZ9dkm_QO9Hd",
    "wm": "ApccFt0MQeI72fjy"
   },
   "outputs": [
    {
     "data": {
      "text/plain": [
       "[1.5,\n",
       " 3,\n",
       " 9,\n",
       " 27,\n",
       " 81,\n",
       " 243,\n",
       " 729,\n",
       " 2187,\n",
       " 6561,\n",
       " 19683,\n",
       " 59049,\n",
       " 177147,\n",
       " 531441,\n",
       " 1594323,\n",
       " 4782969,\n",
       " 14348907,\n",
       " 43046721,\n",
       " 129140163,\n",
       " 387420489,\n",
       " 1162261467]"
      ]
     },
     "execution_count": 19,
     "metadata": {},
     "output_type": "execute_result"
    }
   ],
   "source": [
    "x_deep[0] = 1.5\n",
    "x_deep"
   ]
  },
  {
   "cell_type": "code",
   "execution_count": 20,
   "metadata": {
    "colab": {
     "base_uri": "https://localhost:8080/"
    },
    "id": "GnEZKuJqO9Hf",
    "outputId": "d41d8138-68a7-4b0f-985e-cec5829c490b",
    "wm": "ApccFt0MQeI72fjy"
   },
   "outputs": [
    {
     "data": {
      "text/plain": [
       "[1,\n",
       " 3,\n",
       " 9,\n",
       " 27,\n",
       " 81,\n",
       " 243,\n",
       " 729,\n",
       " 2187,\n",
       " 6561,\n",
       " 19683,\n",
       " 59049,\n",
       " 177147,\n",
       " 531441,\n",
       " 1594323,\n",
       " 4782969,\n",
       " 14348907,\n",
       " 43046721,\n",
       " 129140163,\n",
       " 387420489,\n",
       " 1162261467]"
      ]
     },
     "execution_count": 20,
     "metadata": {},
     "output_type": "execute_result"
    }
   ],
   "source": [
    "# EXECUTE CELL\n",
    "x"
   ]
  },
  {
   "cell_type": "code",
   "execution_count": 21,
   "metadata": {
    "colab": {
     "base_uri": "https://localhost:8080/"
    },
    "id": "8YmaCHg3O9Hg",
    "outputId": "0aac0346-59fb-4b0f-b7a2-dc5fa4d9f6fe",
    "wm": "ApccFt0MQeI72fjy"
   },
   "outputs": [
    {
     "data": {
      "text/plain": [
       "[1138,\n",
       " 3,\n",
       " 9,\n",
       " 27,\n",
       " 81,\n",
       " 243,\n",
       " 729,\n",
       " 2187,\n",
       " 6561,\n",
       " 19683,\n",
       " 59049,\n",
       " 177147,\n",
       " 531441,\n",
       " 1594323,\n",
       " 4782969,\n",
       " 14348907,\n",
       " 43046721,\n",
       " 129140163,\n",
       " 387420489,\n",
       " 1162261467]"
      ]
     },
     "execution_count": 21,
     "metadata": {},
     "output_type": "execute_result"
    }
   ],
   "source": [
    "# EXECUTE CELL\n",
    "x_deep[0] = 1138\n",
    "x_deep"
   ]
  },
  {
   "cell_type": "code",
   "execution_count": 22,
   "metadata": {
    "colab": {
     "base_uri": "https://localhost:8080/"
    },
    "id": "5Z-b7mayO9Hh",
    "outputId": "e51f0179-5c17-4f20-b1d7-3472ea125b8a",
    "wm": "ApccFt0MQeI72fjy"
   },
   "outputs": [
    {
     "data": {
      "text/plain": [
       "[1,\n",
       " 3,\n",
       " 9,\n",
       " 27,\n",
       " 81,\n",
       " 243,\n",
       " 729,\n",
       " 2187,\n",
       " 6561,\n",
       " 19683,\n",
       " 59049,\n",
       " 177147,\n",
       " 531441,\n",
       " 1594323,\n",
       " 4782969,\n",
       " 14348907,\n",
       " 43046721,\n",
       " 129140163,\n",
       " 387420489,\n",
       " 1162261467]"
      ]
     },
     "execution_count": 22,
     "metadata": {},
     "output_type": "execute_result"
    }
   ],
   "source": [
    "# EXECUTE CELL\n",
    "# x[0] will still be 1\n",
    "x"
   ]
  },
  {
   "cell_type": "code",
   "execution_count": 23,
   "metadata": {
    "colab": {
     "base_uri": "https://localhost:8080/"
    },
    "id": "bDRswnGIO9Hi",
    "outputId": "f6d20b2d-d68b-4445-c011-d856a99875e9",
    "wm": "ApccFt0MQeI72fjy"
   },
   "outputs": [
    {
     "data": {
      "text/plain": [
       "[3417,\n",
       " 3,\n",
       " 9,\n",
       " 27,\n",
       " 81,\n",
       " 243,\n",
       " 729,\n",
       " 2187,\n",
       " 6561,\n",
       " 19683,\n",
       " 59049,\n",
       " 177147,\n",
       " 531441,\n",
       " 1594323,\n",
       " 4782969,\n",
       " 14348907,\n",
       " 43046721,\n",
       " 129140163,\n",
       " 387420489,\n",
       " 1162261467]"
      ]
     },
     "execution_count": 23,
     "metadata": {},
     "output_type": "execute_result"
    }
   ],
   "source": [
    "# EXECUTE CELL\n",
    "x_shallow[0] = 3417\n",
    "x_shallow"
   ]
  },
  {
   "cell_type": "code",
   "execution_count": 24,
   "metadata": {
    "colab": {
     "base_uri": "https://localhost:8080/"
    },
    "id": "lFFgLuyNO9Hj",
    "outputId": "4f19f546-59b1-448f-fa30-7b12fef17fe6",
    "wm": "ApccFt0MQeI72fjy"
   },
   "outputs": [
    {
     "data": {
      "text/plain": [
       "[3417,\n",
       " 3,\n",
       " 9,\n",
       " 27,\n",
       " 81,\n",
       " 243,\n",
       " 729,\n",
       " 2187,\n",
       " 6561,\n",
       " 19683,\n",
       " 59049,\n",
       " 177147,\n",
       " 531441,\n",
       " 1594323,\n",
       " 4782969,\n",
       " 14348907,\n",
       " 43046721,\n",
       " 129140163,\n",
       " 387420489,\n",
       " 1162261467]"
      ]
     },
     "execution_count": 24,
     "metadata": {},
     "output_type": "execute_result"
    }
   ],
   "source": [
    "# EXECUTE CELL\n",
    "# x[0] will be 17\n",
    "x"
   ]
  },
  {
   "cell_type": "code",
   "execution_count": 25,
   "metadata": {
    "colab": {
     "base_uri": "https://localhost:8080/"
    },
    "id": "lFFgLuyNO9Hj",
    "outputId": "4f19f546-59b1-448f-fa30-7b12fef17fe6",
    "wm": "ApccFt0MQeI72fjy"
   },
   "outputs": [
    {
     "name": "stdout",
     "output_type": "stream",
     "text": [
      "y[0]: 1162261467\n",
      "y[1]: 387420489\n",
      "y[2]: 129140163\n",
      "y[3]: 43046721\n",
      "y[4]: 14348907\n",
      "y[5]: 4782969\n",
      "y[6]: 1594323\n",
      "y[7]: 531441\n",
      "y[8]: 177147\n",
      "y[9]: 59049\n",
      "y[10]: 19683\n",
      "y[11]: 6561\n",
      "y[12]: 2187\n",
      "y[13]: 729\n",
      "y[14]: 243\n",
      "y[15]: 81\n",
      "y[16]: 27\n",
      "y[17]: 9\n",
      "y[18]: 3\n",
      "y[19]: 1\n"
     ]
    }
   ],
   "source": [
    "\"\"\" TODO:\n",
    "Use the enumerate() function to print each element of \n",
    "the a reversed version of y, alongside its index. For example, output \n",
    "something of a similar form:\n",
    "    y[0]:  1162261467\n",
    "    y[1]:  387420489\n",
    "      :\n",
    "      :\n",
    "\"\"\"\n",
    "y_hat = copy.deepcopy(y)\n",
    "\n",
    "y_hat.reverse()\n",
    "y_hat\n",
    "\n",
    "\n",
    "for i_hat,j_hat in enumerate(y_hat):\n",
    "    print(f\"y[{i_hat}]: {j_hat}\")\n",
    "\n"
   ]
  },
  {
   "cell_type": "markdown",
   "metadata": {
    "id": "4uMTCEbJO9Ho",
    "tags": [],
    "wm": "ApccFt0MQeI72fjy"
   },
   "source": [
    "### More with lists\n"
   ]
  },
  {
   "cell_type": "code",
   "execution_count": 26,
   "metadata": {
    "wm": "ApccFt0MQeI72fjy"
   },
   "outputs": [],
   "source": [
    "# TODO: use list comprehension to generate a list of elements in the list y whose rightmost digit is 9 (assume base 10)\n",
    "y_mod = [num for num in y if num % 10 == 9]"
   ]
  },
  {
   "cell_type": "code",
   "execution_count": 29,
   "metadata": {
    "wm": "ApccFt0MQeI72fjy"
   },
   "outputs": [
    {
     "name": "stdout",
     "output_type": "stream",
     "text": [
      "[9, 729, 59049, 4782969, 387420489]\n"
     ]
    }
   ],
   "source": [
    "# EXECUTE CELL\n",
    "print(y_mod)"
   ]
  },
  {
   "cell_type": "code",
   "execution_count": 34,
   "metadata": {
    "wm": "ApccFt0MQeI72fjy"
   },
   "outputs": [],
   "source": [
    "# TODO: create a list z of tuples where each tuple contains the elements from y and reversed y, respectively.  The\n",
    "#   first tuple will be (1, 1162261467)\n",
    "z = [(original,reversed) for original,reversed in zip(y,y_hat)]\n",
    "\n"
   ]
  },
  {
   "cell_type": "code",
   "execution_count": 32,
   "metadata": {
    "wm": "ApccFt0MQeI72fjy"
   },
   "outputs": [
    {
     "name": "stdout",
     "output_type": "stream",
     "text": [
      "(1, 1162261467)\n",
      "(3, 387420489)\n",
      "(9, 129140163)\n",
      "(27, 43046721)\n",
      "(81, 14348907)\n",
      "(243, 4782969)\n",
      "(729, 1594323)\n",
      "(2187, 531441)\n",
      "(6561, 177147)\n",
      "(19683, 59049)\n",
      "(59049, 19683)\n",
      "(177147, 6561)\n",
      "(531441, 2187)\n",
      "(1594323, 729)\n",
      "(4782969, 243)\n",
      "(14348907, 81)\n",
      "(43046721, 27)\n",
      "(129140163, 9)\n",
      "(387420489, 3)\n",
      "(1162261467, 1)\n"
     ]
    }
   ],
   "source": [
    "# EXECUTE CELL\n",
    "for t in z:\n",
    "    print(t)"
   ]
  },
  {
   "cell_type": "markdown",
   "metadata": {
    "id": "gMUTFK6lO9Hk",
    "wm": "ApccFt0MQeI72fjy"
   },
   "source": [
    "## Dictionaries\n",
    "Create a simple dictionary, obtain the lists of key-value pairs, keys, and values."
   ]
  },
  {
   "cell_type": "code",
   "execution_count": 35,
   "metadata": {
    "colab": {
     "base_uri": "https://localhost:8080/"
    },
    "id": "ME265FBoO9Hl",
    "outputId": "7d159fc7-017a-4da7-ad81-8ceef0f2aad5",
    "wm": "ApccFt0MQeI72fjy"
   },
   "outputs": [],
   "source": [
    "# TODO: Create a dictionary with a few entries.\n",
    "\n",
    "dictionary = {'one': 1, 'two': 2, 'three': 3}"
   ]
  },
  {
   "cell_type": "code",
   "execution_count": 41,
   "metadata": {
    "colab": {
     "base_uri": "https://localhost:8080/"
    },
    "id": "L8AmFc0rO9Hm",
    "outputId": "eee653c6-3f55-4589-97b1-10a77c149de6",
    "wm": "ApccFt0MQeI72fjy"
   },
   "outputs": [
    {
     "name": "stdout",
     "output_type": "stream",
     "text": [
      "keys:one\n",
      "keys:two\n",
      "keys:three\n"
     ]
    }
   ],
   "source": [
    "# TODO: Only iterate over the keys and print them\n",
    "for key in dictionary:\n",
    "    print(f\"keys:{key}\")"
   ]
  },
  {
   "cell_type": "code",
   "execution_count": 45,
   "metadata": {
    "colab": {
     "base_uri": "https://localhost:8080/"
    },
    "id": "tt4_q1gOO9Hn",
    "outputId": "fae42445-9c38-4f62-fb98-c6df5681e908",
    "wm": "ApccFt0MQeI72fjy"
   },
   "outputs": [
    {
     "name": "stdout",
     "output_type": "stream",
     "text": [
      "values:1\n",
      "values:2\n",
      "values:3\n"
     ]
    }
   ],
   "source": [
    "# TODO: Only iterate over the values and print them\n",
    "for value in dictionary.values():\n",
    "    print(f\"values:{value}\")\n",
    "#TODO"
   ]
  },
  {
   "cell_type": "code",
   "execution_count": 51,
   "metadata": {
    "colab": {
     "base_uri": "https://localhost:8080/"
    },
    "id": "ME265FBoO9Hl",
    "outputId": "7d159fc7-017a-4da7-ad81-8ceef0f2aad5",
    "wm": "ApccFt0MQeI72fjy"
   },
   "outputs": [
    {
     "name": "stdout",
     "output_type": "stream",
     "text": [
      "Key: one, Value: 1\n",
      "Key: two, Value: 2\n",
      "Key: three, Value: 3\n"
     ]
    }
   ],
   "source": [
    "# TODO: Simulataneously iterate over the key-value pairs in the dictionary\n",
    "# print them out\n",
    "\n",
    "for key,value in dictionary.items():\n",
    "    print(f\"Key: {key}, Value: {value}\")\n",
    "#TODO"
   ]
  },
  {
   "cell_type": "code",
   "execution_count": null,
   "metadata": {
    "wm": "ApccFt0MQeI72fjy"
   },
   "outputs": [],
   "source": []
  },
  {
   "cell_type": "code",
   "execution_count": null,
   "metadata": {
    "wm": "ApccFt0MQeI72fjy"
   },
   "outputs": [],
   "source": []
  }
 ],
 "metadata": {
  "colab": {
   "collapsed_sections": [],
   "name": "hw0_sol.ipynb",
   "provenance": []
  },
  "interpreter": {
   "hash": "e7370f93d1d0cde622a1f8e1c04877d8463912d04d973331ad4851f04de6915a"
  },
  "kernelspec": {
   "display_name": "Python 3 (ipykernel)",
   "language": "python",
   "name": "python3"
  },
  "language_info": {
   "codemirror_mode": {
    "name": "ipython",
    "version": 3
   },
   "file_extension": ".py",
   "mimetype": "text/x-python",
   "name": "python",
   "nbconvert_exporter": "python",
   "pygments_lexer": "ipython3",
   "version": "3.9.16"
  }
 },
 "nbformat": 4,
 "nbformat_minor": 4
}
