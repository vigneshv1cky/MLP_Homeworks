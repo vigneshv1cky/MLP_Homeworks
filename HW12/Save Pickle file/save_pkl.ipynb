{
 "cells": [
  {
   "cell_type": "code",
   "execution_count": null,
   "id": "967bede6-d77c-475b-99fe-f27c1a93c490",
   "metadata": {},
   "outputs": [],
   "source": [
    "import pickle\n",
    "\n",
    "# Load the .pkl file as a dictionary\n",
    "data = pd.read_pickle('/mlp/datasets/hw12_dataset_v2.pkl')\n",
    "\n",
    "# Save the dictionary in the current directory\n",
    "with open(\"hw12_dataset_v2.pkl\", 'wb') as f:\n",
    "    pickle.dump(data, f)\n",
    "\n",
    "print(\"Dictionary loaded and saved successfully in the current directory.\")"
   ]
  }
 ],
 "metadata": {
  "kernelspec": {
   "display_name": "Python 3 (ipykernel)",
   "language": "python",
   "name": "python3"
  },
  "language_info": {
   "codemirror_mode": {
    "name": "ipython",
    "version": 3
   },
   "file_extension": ".py",
   "mimetype": "text/x-python",
   "name": "python",
   "nbconvert_exporter": "python",
   "pygments_lexer": "ipython3",
   "version": "3.9.16"
  }
 },
 "nbformat": 4,
 "nbformat_minor": 5
}
