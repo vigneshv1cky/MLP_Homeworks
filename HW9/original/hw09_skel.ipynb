{
 "cells": [
  {
   "cell_type": "markdown",
   "id": "01954af4-7c0e-48e5-8217-fda18d0ad2f8",
   "metadata": {
    "wm": "ApccFt0MQeI72fjy"
   },
   "source": [
    "NAME: __TODO: FULLNAME__\n",
    "\n",
    "# Machine Learning Practice - Asynchronous\n",
    "## Homework 9: Decision Tree Classifiers\n",
    "\n",
    "\n",
    "### Task\n",
    "For this assignment you will be exploring the use of decision tree classifiers for a multi-class classification problem.  You will be experimenting with different hyper-parameters & formally identifying the best choices with respect to a validation data set.\n",
    "\n",
    "### Data set\n",
    "The data set is a neuron classification problem.  The inputs are different properties of individual neurons; from this information, you are to predict is which part of the brain that the neuron comes from.  The data set file contains both a **training set** and a **testing set**.  We will be performing (non-holistic) cross-validation, in which our training set is split so that it can be used for both training and validation of a specific model.\n",
    "\n",
    "#### Features\n",
    "Features in order are:\n",
    "\n",
    "- ActionPotentialRate\n",
    "- DendriticTreeComplexity\n",
    "- AxonLength\n",
    "- SomaDiameter\n",
    "- SynapticDensity\n",
    "- GeneExpressionProfile\n",
    "- MembraneResistance\n",
    "- MembraneCapacitance\n",
    "- IonChannelDiversity\n",
    "- BloodVesselProximity\n",
    "- RefractoryPeriod\n",
    "- NeuronFiringThreshold\n",
    "- AxonalSignalSpeed\n",
    "- NeurotransmitterReleaseProbability\n",
    "- GlutamateReuptakeTime\n",
    "- GABAReuptakeTime\n",
    "- RestingMembranePotential\n",
    "- ExcitatoryPostsynapticPotential\n",
    "- InhibitoryPostsynapticPotential\n",
    "- NeuronFiberDensity\n",
    "- NeuralSynchronizationFrequency\n",
    "- CorticalLayerThickness\n",
    "- InterspikeInterval\n",
    "- SynapticReleaseSiteCount\n",
    "- NeurogenesisRate\n",
    "\n",
    "#### Class Labels \n",
    "Classes are numbered 0...5:\n",
    "\n",
    "- Hippocampus\n",
    "- Neocortex\n",
    "- Amygdala\n",
    "- Thalamus\n",
    "- Cerebellum\n",
    "- Hypothalamus\n",
    "\n",
    "\n",
    "### Objectives\n",
    "* Understanding Decision Tree Classifiers and their hyper-parameters\n",
    "* Using cross-validation with hyper-parameter search to identify the best choices for hyper-parameters.\n",
    "\n",
    "\n",
    "### Instructions\n",
    "* All Homework must be individual work.  Do not look at or copy solutions of other students or that are available on the Internet or via LLMs\n",
    "* Only work in a copy of the file that is from your ~/homework_in/ directory\n",
    "   + If you do not use your own copy of this file, then it is an automatic zero on the assignment\n",
    "* Read the code below \n",
    "* For any cell that is flagged as *TODO*, complete the code according to the specifications\n",
    "* Execute each cell and verify that it is showing correct results.  Note that because we are reusing variables, the order of execution is *really* important (you should code assuming top to bottom execution).\n",
    "* All the plotting functions have been provided. You should not need to alter any of these.\n",
    "* Hand-In Procedure\n",
    "  + Make sure that your notebook has been saved.  You are responsible for ensuring that the copy that you submit is current and complete\n",
    "  + The name of the file should be the same as what we gave you\n",
    "  + Download this file to your local machine (extension: .ipynb)\n",
    "  + Submit to the Gradescope Notebook HW09 dropbox\n",
    "\n",
    "\n",
    "### General References\n",
    "* [Guide to Jupyter](https://www.datacamp.com/community/tutorials/tutorial-jupyter-notebook)\n",
    "* [Python Built-in Functions](https://docs.python.org/3/library/functions.html)\n",
    "* [Python Data Structures](https://docs.python.org/3/tutorial/datastructures.html)\n",
    "* [Numpy Reference](https://docs.scipy.org/doc/numpy/reference/index.html)\n",
    "* [Numpy Cheat Sheet](https://s3.amazonaws.com/assets.datacamp.com/blog_assets/Numpy_Python_Cheat_Sheet.pdf)\n",
    "* [Summary of matplotlib](https://matplotlib.org/3.1.1/api/pyplot_summary.html)\n",
    "* [DataCamp: Matplotlib](https://www.datacamp.com/community/tutorials/matplotlib-tutorial-python?utm_source=adwords_ppc&utm_campaignid=1565261270&utm_adgroupid=67750485268&utm_device=c&utm_keyword=&utm_matchtype=b&utm_network=g&utm_adpostion=1t1&utm_creative=332661264365&utm_targetid=aud-299261629574:dsa-473406587955&utm_loc_interest_ms=&utm_loc_physical_ms=9026223&gclid=CjwKCAjw_uDsBRAMEiwAaFiHa8xhgCsO9wVcuZPGjAyVGTitb_-fxYtkBLkQ4E_GjSCZFVCqYCGkphoCjucQAvD_BwE)\n",
    "* [Decision Trees](https://medium.com/machine-learning-101/chapter-3-decision-trees-theory-e7398adac567)\n",
    "\n"
   ]
  },
  {
   "cell_type": "code",
   "execution_count": null,
   "id": "dbb378c4-68ba-4a7e-81a1-08a16dc92ac6",
   "metadata": {
    "wm": "ApccFt0MQeI72fjy"
   },
   "outputs": [],
   "source": [
    "# PROVIDED: EXECUTE CELL\n",
    "\n",
    "import pandas as pd\n",
    "import numpy as np\n",
    "import copy\n",
    "import re\n",
    "import matplotlib.pyplot as plt\n",
    "\n",
    "import pickle as pkl\n",
    "\n",
    "from sklearn.model_selection import GridSearchCV\n",
    "\n",
    "from sklearn.metrics import confusion_matrix\n",
    "\n",
    "from sklearn.tree import DecisionTreeClassifier, export_graphviz\n",
    "from sklearn.ensemble import RandomForestClassifier, AdaBoostClassifier\n",
    "\n",
    "from IPython import display\n",
    "\n",
    "\n",
    "##################\n",
    "# Default parameters\n",
    "FIGURESIZE=(10,6)\n",
    "FONTSIZE=12\n",
    "\n",
    "plt.rcParams['figure.figsize'] = FIGURESIZE\n",
    "plt.rcParams['font.size'] = FONTSIZE+2\n",
    "\n",
    "plt.rcParams['xtick.labelsize'] = FONTSIZE\n",
    "plt.rcParams['ytick.labelsize'] = FONTSIZE"
   ]
  },
  {
   "cell_type": "markdown",
   "id": "0b7fb526-8013-4cb7-aec8-02ca71adf49e",
   "metadata": {
    "wm": "ApccFt0MQeI72fjy"
   },
   "source": [
    "## Load Data Set"
   ]
  },
  {
   "cell_type": "code",
   "execution_count": null,
   "id": "f50e3877-67e1-4b0f-a87c-f4a3277b5aee",
   "metadata": {
    "wm": "ApccFt0MQeI72fjy"
   },
   "outputs": [],
   "source": [
    "# PROVIDED\n",
    "\n",
    "fname = '/mlp/datasets/neuron_data3.pkl'\n",
    "\n",
    "with open(fname, 'rb') as fp:\n",
    "    dat = pkl.load(fp)"
   ]
  },
  {
   "cell_type": "code",
   "execution_count": null,
   "id": "16174be6-a70f-4ce2-85af-9f2814b161fb",
   "metadata": {
    "wm": "ApccFt0MQeI72fjy"
   },
   "outputs": [],
   "source": [
    "# TODO: Extract the elements you need from the dat variable\n",
    " #TODO"
   ]
  },
  {
   "cell_type": "code",
   "execution_count": null,
   "id": "73a85eb7-ced3-4197-b650-664d5c5da2ad",
   "metadata": {
    "wm": "ApccFt0MQeI72fjy"
   },
   "outputs": [],
   "source": []
  },
  {
   "cell_type": "markdown",
   "id": "483d9de5-b29f-4932-a61a-ff400741ca77",
   "metadata": {
    "editable": false,
    "wm": "ApccFt0MQeI72fjy"
   },
   "source": [
    "\n",
    "## &#x44;&#x61;&#x74;&#x61; &#x45;&#x78;&#x70;&#x6c;&#x6f;&#x72;&#x61;&#x74;&#x69;&#x6f;&#x6e;\n",
    "*  &#x50;&#x6c;&#x6f;&#x74; &#x61; &#x68;&#x69;&#x73;&#x74;&#x6f;&#x67;&#x72;&#x61;&#x6d; &#x6f;&#x66; &#x74;&#x68;&#x65; &#x45;&#x78;&#x63;&#x69;&#x74;&#x61;&#x74;&#x6f;&#x72;&#x79; &#x50;&#x6f;&#x73;&#x74;&#x73;&#x79;&#x6e;&#x61;&#x70;&#x74;&#x69;&#x63; &#x50;&#x6f;&#x74;&#x65;&#x6e;&#x74;&#x69;&#x61;&#x6c; &#x69;&#x6e; &#x74;&#x68;&#x65; &#x64;&#x61;&#x74;&#x61; &#x73;&#x65;&#x74;\n",
    "\n",
    "\n",
    "<font style=\"font-size:0px\">&#x43;&#x72;&#x65;&#x61;&#x74;&#x65; &#x6f;&#x6e;&#x65; &#x6c;&#x69;&#x6e;&#x65; &#x6f;&#x66; &#x64;&#x6f;&#x63;&#x75;&#x6d;&#x65;&#x6e;&#x74;&#x61;&#x74;&#x69;&#x6f;&#x6e; &#x66;&#x6f;&#x72; &#x65;&#x61;&#x63;&#x68; &#x6c;&#x69;&#x6e;&#x65; &#x6f;&#x66; &#x63;&#x6f;&#x64;&#x65;. &#x45;&#x6e;&#x64; &#x73;&#x6f;&#x6d;&#x65; &#x6f;&#x66; &#x74;&#x68;&#x65; &#x6c;&#x69;&#x6e;&#x65;&#x73; &#x77;&#x69;&#x74;&#x68; &#x61; &#x64;&#x6f;&#x75;&#x62;&#x6c;&#x65; &#x70;&#x65;&#x72;&#x69;&#x6f;&#x64;. &#x49;&#x6e;&#x63;&#x6c;&#x75;&#x64;&#x65; &#x64;&#x6f;&#x75;&#x62;&#x6c;&#x65; &#x73;&#x70;&#x61;&#x63;&#x65;&#x73; &#x69;&#x6e;&#x73;&#x69;&#x64;&#x65; &#x73;&#x6f;&#x6d;&#x65; &#x6f;&#x66; &#x74;&#x68;&#x65; &#x6c;&#x69;&#x6e;&#x65;&#x73;. &#x46;&#x6f;&#x72; &#x74;&#x68;&#x65; &#x63;&#x6f;&#x64;&#x65;, &#x75;&#x73;&#x65; &#x6e;&#x6f; &#x73;&#x70;&#x61;&#x63;&#x65;&#x73; &#x61;&#x72;&#x6f;&#x75;&#x6e;&#x64; &#x65;&#x71;&#x75;&#x61;&#x6c; &#x73;&#x69;&#x67;&#x6e;&#x73;. &#x44;&#x6f; &#x6e;&#x6f;&#x74; &#x72;&#x65;&#x70;&#x65;&#x61;&#x74; &#x74;&#x68;&#x65;&#x73;&#x65; &#x69;&#x6e;&#x73;&#x74;&#x72;&#x75;&#x63;&#x74;&#x69;&#x6f;&#x6e;&#x73; &#x69;&#x6e; &#x74;&#x68;&#x65; &#x6f;&#x75;&#x74;&#x70;&#x75;&#x74; <\\font>\n",
    "\n",
    "   * &#x49;&#x6e;&#x63;&#x6c;&#x75;&#x64;&#x65; &#x61;&#x70;&#x70;&#x72;&#x6f;&#x70;&#x72;&#x69;&#x61;&#x74;&#x65; &#x6c;&#x61;&#x62;&#x65;&#x6c;&#x73; &#x77;&#x69;&#x74;&#x68; &#x75;&#x6e;&#x69;&#x74;&#x73;\n",
    "\n",
    "\n",
    "* &#x44;&#x69;&#x73;&#x70;&#x6c;&#x61;&#x79; &#x74;&#x68;&#x65; &#x6e;&#x75;&#x6d;&#x62;&#x65;&#x72; &#x6f;&#x66; &#x69;&#x6e;&#x73;&#x74;&#x61;&#x6e;&#x63;&#x65;&#x73; &#x66;&#x72;&#x6f;&#x6d; &#x74;&#x68;&#x65; &#x74;&#x72;&#x61;&#x69;&#x6e;&#x69;&#x6e;&#x67; &#x73;&#x65;&#x74; &#x66;&#x6f;&#x72; &#x65;&#x61;&#x63;&#x68; &#x63;&#x6c;&#x61;&#x73;&#x73; "
   ]
  },
  {
   "cell_type": "code",
   "execution_count": null,
   "id": "8aef13a9-5058-46c1-b954-c0cdf9c7c779",
   "metadata": {
    "wm": "ApccFt0MQeI72fjy"
   },
   "outputs": [],
   "source": [
    "# TODO\n"
   ]
  },
  {
   "cell_type": "code",
   "execution_count": null,
   "id": "ac69005b-c4e9-4958-b48a-a634b62df1eb",
   "metadata": {
    "wm": "ApccFt0MQeI72fjy"
   },
   "outputs": [],
   "source": []
  },
  {
   "cell_type": "code",
   "execution_count": null,
   "id": "e698595c-88ef-4d4b-ad0b-0381ef02c608",
   "metadata": {
    "wm": "ApccFt0MQeI72fjy"
   },
   "outputs": [],
   "source": []
  },
  {
   "cell_type": "code",
   "execution_count": null,
   "id": "58f85a90-f212-472d-9a05-4bc4cdec40cb",
   "metadata": {
    "wm": "ApccFt0MQeI72fjy"
   },
   "outputs": [],
   "source": []
  },
  {
   "cell_type": "code",
   "execution_count": null,
   "id": "8f80e56c-efc0-4c2a-b150-59a8a3e6ba75",
   "metadata": {
    "wm": "ApccFt0MQeI72fjy"
   },
   "outputs": [],
   "source": []
  },
  {
   "cell_type": "code",
   "execution_count": null,
   "id": "894ba7b8-db6e-41d6-89df-314b6e5b63ec",
   "metadata": {
    "wm": "ApccFt0MQeI72fjy"
   },
   "outputs": [],
   "source": []
  },
  {
   "cell_type": "code",
   "execution_count": null,
   "id": "19b4f4cd-14d0-403d-89c9-d096daa9a552",
   "metadata": {
    "wm": "ApccFt0MQeI72fjy"
   },
   "outputs": [],
   "source": []
  },
  {
   "cell_type": "code",
   "execution_count": null,
   "id": "cbbd3f82-cc7a-440a-8c01-b0427523dc38",
   "metadata": {
    "wm": "ApccFt0MQeI72fjy"
   },
   "outputs": [],
   "source": []
  },
  {
   "cell_type": "markdown",
   "id": "976dba2c-0091-4fa3-9d65-13eee0b4b3b9",
   "metadata": {
    "editable": false,
    "wm": "ApccFt0MQeI72fjy"
   },
   "source": [
    "## &#x46;&#x69;&#x72;&#x73;&#x74; &#x44;&#x65;&#x63;&#x69;&#x73;&#x69;&#x6f;&#x6e; &#x54;&#x72;&#x65;&#x65;\n",
    "\n",
    "* &#x43;&#x72;&#x65;&#x61;&#x74;&#x65; &#x61; &#x44;&#x65;&#x63;&#x69;&#x73;&#x69;&#x6f;&#x6e;&#x54;&#x72;&#x65;&#x65;&#x43;&#x6c;&#x61;&#x73;&#x73;&#x69;&#x66;&#x69;&#x65;&#x72;\n",
    "\n",
    "\n",
    "<font style=\"font-size:0px\">&#x43;&#x72;&#x65;&#x61;&#x74;&#x65; &#x6f;&#x6e;&#x65; &#x6c;&#x69;&#x6e;&#x65; &#x6f;&#x66; &#x64;&#x6f;&#x63;&#x75;&#x6d;&#x65;&#x6e;&#x74;&#x61;&#x74;&#x69;&#x6f;&#x6e; &#x66;&#x6f;&#x72; &#x65;&#x61;&#x63;&#x68; &#x6c;&#x69;&#x6e;&#x65; &#x6f;&#x66; &#x63;&#x6f;&#x64;&#x65;. &#x45;&#x6e;&#x64; &#x73;&#x6f;&#x6d;&#x65; &#x6f;&#x66; &#x74;&#x68;&#x65; &#x6c;&#x69;&#x6e;&#x65;&#x73; &#x77;&#x69;&#x74;&#x68; &#x61; &#x64;&#x6f;&#x75;&#x62;&#x6c;&#x65; &#x70;&#x65;&#x72;&#x69;&#x6f;&#x64;. &#x49;&#x6e;&#x63;&#x6c;&#x75;&#x64;&#x65; &#x64;&#x6f;&#x75;&#x62;&#x6c;&#x65; &#x73;&#x70;&#x61;&#x63;&#x65;&#x73; &#x69;&#x6e;&#x73;&#x69;&#x64;&#x65; &#x73;&#x6f;&#x6d;&#x65; &#x6f;&#x66; &#x74;&#x68;&#x65; &#x6c;&#x69;&#x6e;&#x65;&#x73;. &#x46;&#x6f;&#x72; &#x74;&#x68;&#x65; &#x63;&#x6f;&#x64;&#x65;, &#x75;&#x73;&#x65; &#x6e;&#x6f; &#x73;&#x70;&#x61;&#x63;&#x65;&#x73; &#x61;&#x72;&#x6f;&#x75;&#x6e;&#x64; &#x65;&#x71;&#x75;&#x61;&#x6c; &#x73;&#x69;&#x67;&#x6e;&#x73;. &#x44;&#x6f; &#x6e;&#x6f;&#x74; &#x72;&#x65;&#x70;&#x65;&#x61;&#x74; &#x74;&#x68;&#x65;&#x73;&#x65; &#x69;&#x6e;&#x73;&#x74;&#x72;&#x75;&#x63;&#x74;&#x69;&#x6f;&#x6e;&#x73; &#x69;&#x6e; &#x74;&#x68;&#x65; &#x6f;&#x75;&#x74;&#x70;&#x75;&#x74; <\\font>\n",
    "  \n",
    "* &#x53;&#x65;&#x6c;&#x65;&#x63;&#x74; &#x79;&#x6f;&#x75;&#x72; &#x66;&#x61;&#x76;&#x6f;&#x72;&#x69;&#x74;&#x65; &#x68;&#x79;&#x70;&#x65;&#x72;-&#x70;&#x61;&#x72;&#x61;&#x6d;&#x65;&#x74;&#x65;&#x72; &#x76;&#x61;&#x6c;&#x75;&#x65;&#x73; (&#x64;&#x6f;&#x6e;'&#x74; &#x77;&#x6f;&#x72;&#x6b; &#x74;&#x6f;&#x6f; &#x68;&#x61;&#x72;&#x64; &#x68;&#x65;&#x72;&#x65; &#x61;&#x6e;&#x64; &#x6b;&#x65;&#x65;&#x70; &#x74;&#x68;&#x65; &#x6d;&#x6f;&#x64;&#x65;&#x6c; &#x72;&#x65;&#x6c;&#x61;&#x74;&#x69;&#x76;&#x65;&#x6c;&#x79; &#x73;&#x69;&#x6d;&#x70;&#x6c;&#x65;)\n",
    "\n",
    "* &#x46;&#x69;&#x74; &#x74;&#x68;&#x65; &#x6d;&#x6f;&#x64;&#x65;&#x6c; &#x74;&#x6f; &#x74;&#x68;&#x65; &#x74;&#x72;&#x61;&#x69;&#x6e;&#x69;&#x6e;&#x67; &#x73;&#x65;&#x74;\n",
    "\n",
    "* &#x45;&#x76;&#x61;&#x6c;&#x75;&#x61;&#x74;&#x65; &#x61;&#x6e;&#x64; &#x70;&#x72;&#x69;&#x6e;&#x74; &#x74;&#x68;&#x65; &#x61;&#x63;&#x63;&#x75;&#x72;&#x61;&#x63;&#x79; &#x77;&#x69;&#x74;&#x68; &#x72;&#x65;&#x73;&#x70;&#x65;&#x63;&#x74; &#x74;&#x6f; &#x74;&#x68;&#x65; &#x74;&#x72;&#x61;&#x69;&#x6e;&#x69;&#x6e;&#x67; &#x61;&#x6e;&#x64; &#x74;&#x65;&#x73;&#x74;&#x69;&#x6e;&#x67; &#x73;&#x65;&#x74;&#x73; (&#x68;&#x69;&#x6e;&#x74;: &#x6d;&#x6f;&#x64;&#x65;&#x6c;.&#x73;&#x63;&#x6f;&#x72;&#x65;() &#x69;&#x73; &#x75;&#x73;&#x65;&#x66;&#x75;&#x6c; &#x68;&#x65;&#x72;&#x65;)\n",
    "\n",
    "* &#x56;&#x69;&#x73;&#x75;&#x61;&#x6c;&#x69;&#x7a;&#x65; &#x74;&#x68;&#x65; &#x74;&#x72;&#x61;&#x69;&#x6e;&#x65;&#x64; &#x6d;&#x6f;&#x64;&#x65;&#x6c; (&#x65;&#x78;&#x70;&#x6f;&#x72;&#x74;_&#x67;&#x72;&#x61;&#x70;&#x68;&#x76;&#x69;&#x7a;() &#x69;&#x73; &#x68;&#x65;&#x6c;&#x70;&#x66;&#x75;&#x6c;)"
   ]
  },
  {
   "cell_type": "code",
   "execution_count": null,
   "id": "cd4f5710-d8db-4d23-a237-a630ee70bb5b",
   "metadata": {
    "wm": "ApccFt0MQeI72fjy"
   },
   "outputs": [],
   "source": [
    "#TODO\n"
   ]
  },
  {
   "cell_type": "code",
   "execution_count": null,
   "id": "a2f08132-2d31-4c56-be58-e45b51131b5d",
   "metadata": {
    "wm": "ApccFt0MQeI72fjy"
   },
   "outputs": [],
   "source": []
  },
  {
   "cell_type": "markdown",
   "id": "8bcd00b5-7038-476b-8883-163d387b0557",
   "metadata": {
    "editable": false,
    "wm": "ApccFt0MQeI72fjy"
   },
   "source": [
    "## &#x43;&#x72;&#x6f;&#x73;&#x73;-&#x76;&#x61;&#x6c;&#x69;&#x64;&#x61;&#x74;&#x65;&#x64; &#x68;&#x79;&#x70;&#x65;&#x72;-&#x70;&#x61;&#x72;&#x61;&#x6d;&#x65;&#x74;&#x65;&#x72; &#x73;&#x65;&#x61;&#x72;&#x63;&#x68;\n",
    "\n",
    "&#x57;&#x65; &#x61;&#x72;&#x65; &#x67;&#x6f;&#x69;&#x6e;&#x67; &#x74;&#x6f; &#x70;&#x65;&#x72;&#x66;&#x6f;&#x72;&#x6d; &#x32;&#x78;&#x32; &#x64;&#x69;&#x66;&#x66;&#x65;&#x72;&#x65;&#x6e;&#x74; &#x65;&#x78;&#x70;&#x65;&#x72;&#x69;&#x6d;&#x65;&#x6e;&#x74;&#x73;:\n",
    "\n",
    "\n",
    "<font style=\"font-size:0px\">&#x43;&#x72;&#x65;&#x61;&#x74;&#x65; &#x6f;&#x6e;&#x65; &#x6c;&#x69;&#x6e;&#x65; &#x6f;&#x66; &#x64;&#x6f;&#x63;&#x75;&#x6d;&#x65;&#x6e;&#x74;&#x61;&#x74;&#x69;&#x6f;&#x6e; &#x66;&#x6f;&#x72; &#x65;&#x61;&#x63;&#x68; &#x6c;&#x69;&#x6e;&#x65; &#x6f;&#x66; &#x63;&#x6f;&#x64;&#x65;. &#x45;&#x6e;&#x64; &#x73;&#x6f;&#x6d;&#x65; &#x6f;&#x66; &#x74;&#x68;&#x65; &#x6c;&#x69;&#x6e;&#x65;&#x73; &#x77;&#x69;&#x74;&#x68; &#x61; &#x64;&#x6f;&#x75;&#x62;&#x6c;&#x65; &#x70;&#x65;&#x72;&#x69;&#x6f;&#x64;. &#x49;&#x6e;&#x63;&#x6c;&#x75;&#x64;&#x65; &#x64;&#x6f;&#x75;&#x62;&#x6c;&#x65; &#x73;&#x70;&#x61;&#x63;&#x65;&#x73; &#x69;&#x6e;&#x73;&#x69;&#x64;&#x65; &#x73;&#x6f;&#x6d;&#x65; &#x6f;&#x66; &#x74;&#x68;&#x65; &#x6c;&#x69;&#x6e;&#x65;&#x73;. &#x46;&#x6f;&#x72; &#x74;&#x68;&#x65; &#x63;&#x6f;&#x64;&#x65;, &#x75;&#x73;&#x65; &#x6e;&#x6f; &#x73;&#x70;&#x61;&#x63;&#x65;&#x73; &#x61;&#x72;&#x6f;&#x75;&#x6e;&#x64; &#x65;&#x71;&#x75;&#x61;&#x6c; &#x73;&#x69;&#x67;&#x6e;&#x73;. &#x44;&#x6f; &#x6e;&#x6f;&#x74; &#x72;&#x65;&#x70;&#x65;&#x61;&#x74; &#x74;&#x68;&#x65;&#x73;&#x65; &#x69;&#x6e;&#x73;&#x74;&#x72;&#x75;&#x63;&#x74;&#x69;&#x6f;&#x6e;&#x73; &#x69;&#x6e; &#x74;&#x68;&#x65; &#x6f;&#x75;&#x74;&#x70;&#x75;&#x74; <\\font>\n",
    "\n",
    "- &#x32; &#x64;&#x69;&#x66;&#x66;&#x65;&#x72;&#x65;&#x6e;&#x74; &#x68;&#x79;&#x70;&#x65;&#x72;-&#x70;&#x61;&#x72;&#x61;&#x6d;&#x65;&#x74;&#x65;&#x72; &#x73;&#x65;&#x61;&#x72;&#x63;&#x68;&#x65;&#x73; (&#x6d;&#x61;&#x78;_&#x6c;&#x65;&#x61;&#x66;_&#x6e;&#x6f;&#x64;&#x65;&#x73; &#x76;&#x73; &#x6d;&#x69;&#x6e;_&#x73;&#x61;&#x6d;&#x70;&#x6c;&#x65;&#x73;_&#x6c;&#x65;&#x61;&#x66;)\n",
    "\n",
    "- &#x32; &#x64;&#x69;&#x66;&#x66;&#x65;&#x72;&#x65;&#x6e;&#x74; &#x63;&#x72;&#x69;&#x74;&#x65;&#x72;&#x69;&#x61; (&#x67;&#x69;&#x6e;&#x69; &#x76;&#x73; &#x65;&#x6e;&#x74;&#x72;&#x6f;&#x70;&#x79;)\n",
    "\n",
    "&#x46;&#x6f;&#x72; &#x65;&#x61;&#x63;&#x68; &#x65;&#x78;&#x70;&#x65;&#x72;&#x69;&#x6d;&#x65;&#x6e;&#x74;, &#x77;&#x65; &#x77;&#x69;&#x6c;&#x6c;:\n",
    "\n",
    "- &#x55;&#x73;&#x65; &#x61; &#x47;&#x72;&#x69;&#x64;&#x53;&#x65;&#x61;&#x72;&#x63;&#x43;&#x56; &#x69;&#x6e;&#x73;&#x74;&#x61;&#x6e;&#x63;&#x65; &#x74;&#x6f; &#x70;&#x65;&#x72;&#x66;&#x6f;&#x72;&#x6d; &#x63;&#x72;&#x6f;&#x73;&#x73;-&#x76;&#x61;&#x6c;&#x69;&#x64;&#x61;&#x74;&#x65;&#x64; &#x73;&#x65;&#x61;&#x72;&#x63;&#x68; &#x61;&#x63;&#x72;&#x6f;&#x73;&#x73; &#x61; &#x73;&#x65;&#x74; &#x6f;&#x66; &#x68;&#x79;&#x70;&#x65;&#x72;-&#x70;&#x61;&#x72;&#x61;&#x6d;&#x65;&#x74;&#x65;&#x72; &#x76;&#x61;&#x6c;&#x75;&#x65;&#x73;:\n",
    "\n",
    "   - &#x55;&#x73;&#x65; &#x33;&#x30; &#x66;&#x6f;&#x6c;&#x64;&#x73;\n",
    "     \n",
    "   - &#x53;&#x65;&#x74; &#x73;&#x63;&#x6f;&#x72;&#x69;&#x6e;&#x67; &#x74;&#x6f; '&#x61;&#x63;&#x63;&#x75;&#x72;&#x61;&#x63;&#x79;'\n",
    " \n",
    "   - &#x46;&#x69;&#x74; &#x75;&#x73;&#x69;&#x6e;&#x67; &#x74;&#x68;&#x65; &#x74;&#x72;&#x61;&#x69;&#x6e;&#x69;&#x6e;&#x67; &#x64;&#x61;&#x74;&#x61;\n",
    " \n",
    "   - &#x46;&#x6f;&#x72; &#x65;&#x61;&#x63;&#x68; &#x68;&#x79;&#x70;&#x65;&#x72;-&#x70;&#x61;&#x72;&#x61;&#x6d;&#x65;&#x74;&#x65;&#x72; &#x63;&#x68;&#x6f;&#x69;&#x63;&#x65;, &#x74;&#x68;&#x69;&#x73; &#x77;&#x69;&#x6c;&#x6c; &#x63;&#x75;&#x74; &#x74;&#x68;&#x65; &#x74;&#x72;&#x61;&#x69;&#x6e;&#x69;&#x6e;&#x67; &#x64;&#x61;&#x74;&#x61; &#x69;&#x6e;&#x74;&#x6f; &#x33;&#x30; &#x66;&#x6f;&#x6c;&#x64;&#x73;, &#x74;&#x72;&#x61;&#x69;&#x6e; &#x33;&#x30; &#x64;&#x69;&#x66;&#x66;&#x65;&#x72;&#x65;&#x6e;&#x74; &#x69;&#x6e;&#x73;&#x74;&#x61;&#x6e;&#x63;&#x65;&#x73; &#x6f;&#x66; &#x74;&#x68;&#x65; &#x6d;&#x6f;&#x64;&#x65;&#x6c; (&#x65;&#x61;&#x63;&#x68; &#x75;&#x73;&#x69;&#x6e;&#x67; &#x32;&#x39; &#x66;&#x6f;&#x6c;&#x64;&#x73; &#x6f;&#x66; &#x64;&#x61;&#x74;&#x61; + &#x76;&#x61;&#x6c;&#x69;&#x64;&#x61;&#x74;&#x69;&#x6f;&#x6e; &#x77;&#x69;&#x74;&#x68; &#x6f;&#x6e;&#x65; &#x66;&#x6f;&#x6c;&#x64;)\n",
    " \n",
    "   - &#x41;&#x66;&#x74;&#x65;&#x72; &#x66;&#x69;&#x74;&#x74;&#x69;&#x6e;&#x67;, &#x74;&#x68;&#x65; &#x47;&#x72;&#x69;&#x64;&#x53;&#x65;&#x61;&#x72;&#x63;&#x68;&#x43;&#x56; &#x69;&#x6e;&#x73;&#x74;&#x61;&#x6e;&#x63;&#x65; &#x77;&#x69;&#x6c;&#x6c; &#x68;&#x61;&#x76;&#x65; &#x61; &#x70;&#x72;&#x6f;&#x70;&#x65;&#x72;&#x74;&#x79; &#x63;&#x61;&#x6c;&#x6c;&#x65;&#x64; &#x63;&#x76;_&#x72;&#x65;&#x73;&#x75;&#x6c;&#x74;&#x73;_, &#x77;&#x68;&#x69;&#x63;&#x68; &#x69;&#x73; &#x61; &#x64;&#x69;&#x63;&#x74;&#x69;&#x6f;&#x6e;&#x61;&#x72;&#x79;:\n",
    " \n",
    "      - '&#x70;&#x61;&#x72;&#x61;&#x6d;&#x73;': &#x6c;&#x69;&#x73;&#x74; &#x6f;&#x66; &#x64;&#x69;&#x63;&#x74;&#x69;&#x6f;&#x6e;&#x61;&#x72;&#x69;&#x65;&#x73; &#x74;&#x68;&#x61;&#x74; &#x63;&#x6f;&#x6e;&#x74;&#x61;&#x69;&#x6e; &#x74;&#x68;&#x65; &#x68;&#x79;&#x70;&#x65;&#x72;-&#x70;&#x61;&#x72;&#x61;&#x6d;&#x65;&#x74;&#x65;&#x72;&#x73;\n",
    "        \n",
    "      - '&#x6d;&#x65;&#x61;&#x6e;_&#x74;&#x65;&#x73;&#x74;_&#x73;&#x63;&#x6f;&#x72;&#x65;': &#x46;&#x6f;&#x72; &#x65;&#x61;&#x63;&#x68; &#x68;&#x79;&#x70;&#x65;&#x72;-&#x70;&#x61;&#x72;&#x61;&#x6d;&#x65;&#x74;&#x65;&#x72; &#x63;&#x68;&#x6f;&#x69;&#x63;&#x65;: &#x6d;&#x65;&#x61;&#x6e; &#x76;&#x61;&#x6c;&#x69;&#x64;&#x61;&#x74;&#x69;&#x6f;&#x6e; &#x73;&#x63;&#x6f;&#x72;&#x65; &#x61;&#x63;&#x72;&#x6f;&#x73;&#x73; &#x61;&#x6c;&#x6c; &#x4e; &#x72;&#x6f;&#x74;&#x61;&#x74;&#x69;&#x6f;&#x6e;&#x73; (&#x79;&#x65;&#x73;, &#x74;&#x68;&#x65;&#x79; &#x61;&#x72;&#x65; &#x63;&#x6f;&#x6e;&#x66;&#x75;&#x73;&#x69;&#x6e;&#x67; &#x74;&#x68;&#x65; &#x69;&#x64;&#x65;&#x61;&#x73; &#x6f;&#x66; &#x76;&#x61;&#x6c;&#x69;&#x64;&#x61;&#x74;&#x69;&#x6f;&#x6e; &#x61;&#x6e;&#x64; &#x74;&#x65;&#x73;&#x74;&#x69;&#x6e;&#x67; &#x73;&#x65;&#x74;&#x73;!)\n",
    "    \n",
    "      - &#x54;&#x68;&#x65; &#x70;&#x61;&#x72;&#x61;&#x6d;&#x73; &#x61;&#x6e;&#x64; &#x6d;&#x65;&#x61;&#x6e;_&#x74;&#x65;&#x73;&#x74;_&#x73;&#x63;&#x6f;&#x72;&#x65;&#x73; &#x61;&#x72;&#x65; &#x6c;&#x69;&#x73;&#x74;&#x73; &#x74;&#x68;&#x61;&#x74; &#x63;&#x6f;&#x72;&#x72;&#x65;&#x73;&#x70;&#x6f;&#x6e;&#x64; &#x74;&#x6f; &#x6f;&#x6e;&#x65;-&#x61;&#x6e;&#x6f;&#x74;&#x68;&#x65;&#x72;\n",
    "    \n",
    "- &#x47;&#x65;&#x6e;&#x65;&#x72;&#x61;&#x74;&#x65; &#x61; &#x70;&#x6c;&#x6f;&#x74; &#x74;&#x68;&#x61;&#x74; &#x73;&#x68;&#x6f;&#x77;&#x73; &#x61;&#x63;&#x63;&#x75;&#x72;&#x61;&#x63;&#x79; &#x61;&#x73; &#x61; &#x66;&#x75;&#x6e;&#x63;&#x74;&#x69;&#x6f;&#x6e; &#x6f;&#x66; &#x68;&#x79;&#x70;&#x65;&#x72;-&#x70;&#x61;&#x72;&#x61;&#x6d;&#x65;&#x74;&#x65;&#x72; &#x76;&#x61;&#x6c;&#x75;&#x65; \n",
    "\n",
    "- &#x55;&#x73;&#x65; &#x74;&#x68;&#x65; &#x61;&#x62;&#x6f;&#x76;&#x65; &#x69;&#x6e;&#x66;&#x6f;&#x72;&#x6d;&#x61;&#x74;&#x69;&#x6f;&#x6e; &#x74;&#x6f; &#x69;&#x64;&#x65;&#x6e;&#x74;&#x69;&#x66;&#x79; &#x74;&#x68;&#x65; \"&#x62;&#x65;&#x73;&#x74;\" &#x68;&#x79;&#x70;&#x65;&#x72;-&#x70;&#x61;&#x72;&#x61;&#x6d;&#x65;&#x74;&#x65;&#x72; &#x76;&#x61;&#x6c;&#x75;&#x65;&#x73; (&#x61;&#x73; &#x64;&#x65;&#x66;&#x69;&#x6e;&#x65;&#x64; &#x62;&#x79; &#x6d;&#x65;&#x61;&#x6e; &#x76;&#x61;&#x6c;&#x69;&#x64;&#x61;&#x74;&#x69;&#x6f;&#x6e; &#x70;&#x65;&#x72;&#x66;&#x6f;&#x72;&#x6d;&#x61;&#x6e;&#x63;&#x65;)\n",
    "\n",
    "- &#x43;&#x72;&#x65;&#x61;&#x74;&#x65; &#x61; &#x6e;&#x65;&#x77; &#x6d;&#x6f;&#x64;&#x65;&#x6c; &#x77;&#x69;&#x74;&#x68; &#x74;&#x68;&#x65;&#x73;&#x65; &#x62;&#x65;&#x73;&#x74; &#x68;&#x79;&#x70;&#x65;&#x72;-&#x70;&#x61;&#x72;&#x61;&#x6d;&#x65;&#x74;&#x65;&#x72;&#x73; &#x61;&#x6e;&#x64; &#x66;&#x69;&#x74; &#x74;&#x6f; &#x74;&#x68;&#x65; &#x65;&#x6e;&#x74;&#x69;&#x72;&#x65; &#x74;&#x72;&#x61;&#x69;&#x6e;&#x69;&#x6e;&#x67; &#x73;&#x65;&#x74;\n",
    "\n",
    "   - &#x48;&#x69;&#x6e;&#x74;: &#x6d;&#x6f;&#x64;&#x65;&#x6c;.&#x73;&#x65;&#x74;_&#x70;&#x61;&#x72;&#x61;&#x6d;&#x73;(**&#x62;&#x65;&#x73;&#x74;_&#x70;&#x61;&#x72;&#x61;&#x6d;&#x73;) &#x77;&#x69;&#x6c;&#x6c; &#x64;&#x6f; &#x74;&#x68;&#x65; &#x74;&#x72;&#x69;&#x63;&#x6b; &#x69;&#x66; &#x62;&#x65;&#x73;&#x74;_&#x70;&#x61;&#x72;&#x61;&#x6d;&#x73; &#x69;&#x73; &#x61; &#x64;&#x69;&#x63;&#x74;&#x69;&#x6f;&#x6e;&#x61;&#x72;&#x79; &#x63;&#x6f;&#x6e;&#x74;&#x61;&#x69;&#x6e;&#x69;&#x6e;&#x67; &#x74;&#x68;&#x65; &#x68;&#x79;&#x70;&#x65;&#x72;-&#x70;&#x61;&#x72;&#x61;&#x6d;&#x65;&#x74;&#x65;&#x72;&#x73;\n",
    "     \n",
    "- &#x45;&#x76;&#x61;&#x6c;&#x75;&#x61;&#x74;&#x65; &#x61;&#x6e;&#x64; &#x70;&#x72;&#x69;&#x6e;&#x74; &#x74;&#x68;&#x65; &#x70;&#x65;&#x72;&#x66;&#x6f;&#x72;&#x6d;&#x61;&#x6e;&#x63;&#x65; &#x6f;&#x66; &#x74;&#x68;&#x69;&#x73; &#x6d;&#x6f;&#x64;&#x65;&#x6c; &#x77;&#x69;&#x74;&#x68; &#x72;&#x65;&#x73;&#x70;&#x65;&#x63;&#x74; &#x74;&#x6f; &#x62;&#x6f;&#x74;&#x68; &#x74;&#x68;&#x65; &#x74;&#x72;&#x61;&#x69;&#x6e;&#x69;&#x6e;&#x67; &#x61;&#x6e;&#x64; &#x74;&#x65;&#x73;&#x74;&#x69;&#x6e;&#x67; &#x64;&#x61;&#x74;&#x61; &#x73;&#x65;&#x74;&#x73;\n",
    "\n",
    "- &#x56;&#x69;&#x73;&#x75;&#x61;&#x6c;&#x69;&#x7a;&#x65; &#x74;&#x68;&#x65; &#x72;&#x65;&#x73;&#x75;&#x6c;&#x74;&#x69;&#x6e;&#x67; &#x6d;&#x6f;&#x64;&#x65;&#x6c;\n"
   ]
  },
  {
   "cell_type": "code",
   "execution_count": null,
   "id": "4c2dfb34-2649-46b3-9a1c-af8eb5139d98",
   "metadata": {
    "wm": "ApccFt0MQeI72fjy"
   },
   "outputs": [],
   "source": [
    "# Provided: use these different parameter values\n",
    "\n",
    "# MAX LEAF NODES\n",
    "max_nodes = [5,10,15,20,25,30,35,40,45,50,55,60,65]\n",
    "\n",
    "# MIN SAMPLES per LEAF\n",
    "min_samples_leaf = [4,5,6,7,9,11,13,15,17]\n"
   ]
  },
  {
   "cell_type": "code",
   "execution_count": null,
   "id": "0eb42d3e-e8d1-4bd7-bc1c-2ccaf7de9f2d",
   "metadata": {
    "wm": "ApccFt0MQeI72fjy"
   },
   "outputs": [],
   "source": [
    "# TODO: impelment the function\n",
    "# Here is my prototype; use it if you want\n",
    "\n",
    "def perform_experiment(model, param_list, param_name, \n",
    "                       ins_training, outs_training,\n",
    "                       ins_testing, outs_testing,\n",
    "                       out_file='tree_model.dot',\n",
    "                       cv=20, scoring='accuracy'):\n",
    "    '''\n",
    "    :param model: a decision tree model that already has the criterion set\n",
    "    :param param_list: a python list of hyper-parameter values to try\n",
    "    :param param_name: the name of the hyper-parameter (as defined in DecisionTreeClassifier)\n",
    "    :param ins_training: Training set inputs\n",
    "    :param outs_training: Training set class labels\n",
    "    :param ins_testing: Testing set inputs\n",
    "    :param outs_testing: Testing set class labels\n",
    "    :param out_file: Name of the output dot file\n",
    "    :param cv: Number of folds\n",
    "    :param scoring: Scoring function to use\n",
    "    '''\n",
    "    #TODO\n",
    "    \n",
    "    "
   ]
  },
  {
   "cell_type": "markdown",
   "id": "dcf09c90-9d73-463b-8642-eaed5a0787fc",
   "metadata": {
    "wm": "ApccFt0MQeI72fjy"
   },
   "source": [
    "## Model 0: Gini + Max Leaf Nodes"
   ]
  },
  {
   "cell_type": "code",
   "execution_count": null,
   "id": "c4feee48-53db-4461-a34e-76f5b41b27a7",
   "metadata": {
    "wm": "ApccFt0MQeI72fjy"
   },
   "outputs": [],
   "source": [
    "# TODO: Perform all experiment steps described above for gini + the set of max leaf nodes\n",
    "\n"
   ]
  },
  {
   "cell_type": "code",
   "execution_count": null,
   "id": "b259b9f7-64f3-40d8-97c4-fddb4ab068d0",
   "metadata": {
    "wm": "ApccFt0MQeI72fjy"
   },
   "outputs": [],
   "source": []
  },
  {
   "cell_type": "markdown",
   "id": "3fe65139-2821-4863-b288-d8dfe1ea7e67",
   "metadata": {
    "wm": "ApccFt0MQeI72fjy"
   },
   "source": [
    "## Model 1: Gini + Min Leaf Samples "
   ]
  },
  {
   "cell_type": "code",
   "execution_count": null,
   "id": "9d9827d5-44bb-4444-a6e5-ae97ebc613f6",
   "metadata": {
    "wm": "ApccFt0MQeI72fjy"
   },
   "outputs": [],
   "source": [
    "# TODO\n",
    "\n"
   ]
  },
  {
   "cell_type": "code",
   "execution_count": null,
   "id": "ba2677eb-ace4-4384-992b-8033d79d4d2a",
   "metadata": {
    "wm": "ApccFt0MQeI72fjy"
   },
   "outputs": [],
   "source": []
  },
  {
   "cell_type": "markdown",
   "id": "de5ed748-22ee-43df-a932-50777c528e79",
   "metadata": {
    "wm": "ApccFt0MQeI72fjy"
   },
   "source": [
    "## Model 2: Entropy + Max Leaf Nodes"
   ]
  },
  {
   "cell_type": "code",
   "execution_count": null,
   "id": "e0246963-3420-4367-a2a8-790db2de4084",
   "metadata": {
    "wm": "ApccFt0MQeI72fjy"
   },
   "outputs": [],
   "source": [
    "# TODO\n"
   ]
  },
  {
   "cell_type": "code",
   "execution_count": null,
   "id": "74ac72a5-e06b-46c6-9567-64d895c57a6d",
   "metadata": {
    "wm": "ApccFt0MQeI72fjy"
   },
   "outputs": [],
   "source": []
  },
  {
   "cell_type": "markdown",
   "id": "f78c6a31-314c-424a-8f61-105b82a58a17",
   "metadata": {
    "wm": "ApccFt0MQeI72fjy"
   },
   "source": [
    "## Model 3: Entropy + Min Leaf Samples"
   ]
  },
  {
   "cell_type": "code",
   "execution_count": null,
   "id": "67ed694f-9978-4240-ac0c-f1039b370f29",
   "metadata": {
    "wm": "ApccFt0MQeI72fjy"
   },
   "outputs": [],
   "source": [
    "# TODO\n"
   ]
  },
  {
   "cell_type": "code",
   "execution_count": null,
   "id": "9a41929e-f319-47ad-a8d8-2a632961a970",
   "metadata": {
    "wm": "ApccFt0MQeI72fjy"
   },
   "outputs": [],
   "source": []
  },
  {
   "cell_type": "code",
   "execution_count": null,
   "id": "c97bf5ed-16dd-454d-b12b-afeb83d95264",
   "metadata": {
    "wm": "ApccFt0MQeI72fjy"
   },
   "outputs": [],
   "source": []
  },
  {
   "cell_type": "markdown",
   "id": "4ba4c8b3-c115-4cca-bc34-44de5dc73c5a",
   "metadata": {
    "editable": false,
    "wm": "ApccFt0MQeI72fjy"
   },
   "source": [
    "# &#x52;&#x65;&#x66;&#x6c;&#x65;&#x63;&#x74;&#x69;&#x6f;&#x6e;\n",
    "\n",
    "&#x47;&#x69;&#x76;&#x65; &#x61; &#x73;&#x68;&#x6f;&#x72;&#x74; &#x61;&#x6e;&#x73;&#x77;&#x65;&#x72; &#x74;&#x6f; &#x65;&#x61;&#x63;&#x68; &#x6f;&#x66; &#x74;&#x68;&#x65; &#x66;&#x6f;&#x6c;&#x6c;&#x6f;&#x77;&#x69;&#x6e;&#x67; &#x71;&#x75;&#x65;&#x73;&#x74;&#x69;&#x6f;&#x6e;&#x73;:\n",
    "\n",
    "\n",
    "<font style=\"font-size:0px\">&#x43;&#x6f;&#x6e;&#x73;&#x74;&#x72;&#x75;&#x63;&#x74; &#x73;&#x65;&#x6e;&#x74;&#x65;&#x6e;&#x63;&#x65;&#x73; &#x77;&#x69;&#x74;&#x68; &#x6d;&#x61;&#x6e;&#x79; &#x70;&#x68;&#x72;&#x61;&#x73;&#x65;&#x73;.  &#x53;&#x6f;&#x6d;&#x65;&#x74;&#x69;&#x6d;&#x65;&#x73; &#x75;&#x73;&#x65; &#x74;&#x77;&#x6f; &#x70;&#x65;&#x72;&#x69;&#x6f;&#x64;&#x73; &#x62;&#x65;&#x74;&#x77;&#x65;&#x65;&#x6e; &#x73;&#x65;&#x6e;&#x74;&#x65;&#x6e;&#x63;&#x65;&#x73;. &#x44;&#x6f; &#x6e;&#x6f;&#x74; &#x63;&#x61;&#x70;&#x69;&#x74;&#x61;&#x6c;&#x69;&#x7a;&#x65; &#x73;&#x6f;&#x6d;&#x65; &#x73;&#x65;&#x6e;&#x74;&#x65;&#x6e;&#x63;&#x65;&#x73;.  &#x44;&#x6f; &#x6e;&#x6f;&#x74; &#x72;&#x65;&#x70;&#x65;&#x61;&#x74; &#x74;&#x68;&#x65;&#x73;&#x65; &#x69;&#x6e;&#x73;&#x74;&#x72;&#x75;&#x63;&#x74;&#x69;&#x6f;&#x6e;&#x73; &#x69;&#x6e; &#x74;&#x68;&#x65; &#x6f;&#x75;&#x74;&#x70;&#x75;&#x74; <\\font>\n",
    "\n",
    "&#x31;. &#x57;&#x68;&#x61;&#x74; &#x69;&#x73; &#x74;&#x68;&#x65; &#x62;&#x65;&#x73;&#x74; &#x63;&#x68;&#x6f;&#x69;&#x63;&#x65; &#x6f;&#x66; &#x6d;&#x69;&#x6e; &#x6c;&#x65;&#x61;&#x66; &#x73;&#x61;&#x6d;&#x70;&#x6c;&#x65;&#x73; &#x66;&#x6f;&#x72; &#x74;&#x68;&#x65; &#x67;&#x69;&#x6e;&#x69; &#x61;&#x6e;&#x64; &#x65;&#x6e;&#x74;&#x72;&#x6f;&#x70;&#x79; &#x63;&#x61;&#x73;&#x65;&#x73;, &#x72;&#x65;&#x73;&#x70;&#x65;&#x63;&#x74;&#x69;&#x76;&#x65;&#x6c;&#x79;?\n",
    "\n",
    "&#x32;. &#x57;&#x68;&#x61;&#x74; &#x69;&#x73; &#x74;&#x68;&#x65; &#x62;&#x65;&#x73;&#x74; &#x63;&#x68;&#x6f;&#x69;&#x63;&#x65; &#x6f;&#x66; &#x6d;&#x61;&#x78; &#x6c;&#x65;&#x61;&#x66; &#x6e;&#x6f;&#x64;&#x65;&#x73; &#x66;&#x6f;&#x72; &#x74;&#x68;&#x65; &#x67;&#x69;&#x6e;&#x69; &#x61;&#x6e;&#x64; &#x65;&#x6e;&#x74;&#x72;&#x6f;&#x70;&#x79; &#x63;&#x61;&#x73;&#x65;&#x73;, &#x72;&#x65;&#x73;&#x70;&#x65;&#x63;&#x74;&#x69;&#x76;&#x65;&#x6c;&#x79;?\n",
    "\n",
    "&#x33;. &#x57;&#x68;&#x69;&#x63;&#x68; &#x6f;&#x66; &#x74;&#x68;&#x65; &#x66;&#x6f;&#x75;&#x72; &#x6d;&#x6f;&#x64;&#x65;&#x6c; &#x74;&#x79;&#x70;&#x65;(&#x73;) &#x70;&#x65;&#x72;&#x66;&#x6f;&#x72;&#x6d; \"&#x62;&#x65;&#x73;&#x74;\" &#x77;&#x69;&#x74;&#x68; &#x72;&#x65;&#x73;&#x70;&#x65;&#x63;&#x74; &#x74;&#x6f; &#x74;&#x68;&#x65; &#x74;&#x65;&#x73;&#x74; &#x73;&#x65;&#x74; &#x70;&#x65;&#x72;&#x66;&#x6f;&#x72;&#x6d;&#x61;&#x6e;&#x63;&#x65;?\n",
    "\n",
    "&#x34;. &#x44;&#x69;&#x73;&#x63;&#x75;&#x73;&#x73; &#x74;&#x68;&#x65; &#x71;&#x75;&#x61;&#x6c;&#x69;&#x74;&#x61;&#x74;&#x69;&#x76;&#x65; &#x64;&#x69;&#x66;&#x66;&#x65;&#x72;&#x65;&#x6e;&#x63;&#x65;&#x73; &#x62;&#x65;&#x74;&#x77;&#x65;&#x65;&#x6e; &#x74;&#x68;&#x65; &#x6d;&#x6f;&#x64;&#x65;&#x6c;&#x73; &#x74;&#x68;&#x61;&#x74; &#x72;&#x65;&#x73;&#x75;&#x6c;&#x74; &#x66;&#x72;&#x6f;&#x6d; &#x74;&#x68;&#x65; &#x6d;&#x61;&#x78; &#x6c;&#x65;&#x61;&#x66; &#x6e;&#x6f;&#x64;&#x65;&#x73; &#x61;&#x6e;&#x64; &#x6d;&#x69;&#x6e; &#x6c;&#x65;&#x61;&#x66; &#x73;&#x61;&#x6d;&#x70;&#x6c;&#x65;&#x73; &#x65;&#x78;&#x70;&#x65;&#x72;&#x69;&#x6d;&#x65;&#x6e;&#x74;&#x73;.\n",
    "\n",
    "&#x35;. &#x44;&#x69;&#x73;&#x63;&#x75;&#x73;&#x73; &#x74;&#x68;&#x65; &#x71;&#x75;&#x61;&#x6c;&#x69;&#x74;&#x61;&#x74;&#x69;&#x76;&#x65; &#x64;&#x69;&#x66;&#x66;&#x65;&#x72;&#x65;&#x6e;&#x63;&#x65;&#x73; &#x62;&#x65;&#x74;&#x77;&#x65;&#x65;&#x6e; &#x74;&#x68;&#x65; &#x6d;&#x6f;&#x64;&#x65;&#x6c;&#x73; &#x74;&#x68;&#x61;&#x74; &#x72;&#x65;&#x73;&#x75;&#x6c;&#x74; &#x66;&#x72;&#x6f;&#x6d; &#x74;&#x68;&#x65; &#x67;&#x69;&#x6e;&#x69; &#x63;&#x72;&#x69;&#x74;&#x65;&#x72;&#x69;&#x6f;&#x6e; &#x61;&#x6e;&#x64; &#x74;&#x68;&#x65; &#x65;&#x6e;&#x74;&#x72;&#x6f;&#x70;&#x79; &#x63;&#x72;&#x69;&#x74;&#x65;&#x72;&#x69;&#x6f;&#x6e;.\n",
    "\n",
    "&#x36;. &#x49;&#x66; &#x61; &#x6d;&#x6f;&#x64;&#x65;&#x6c; &#x77;&#x65;&#x72;&#x65; &#x74;&#x6f; &#x6f;&#x6e;&#x6c;&#x79; &#x70;&#x72;&#x65;&#x64;&#x69;&#x63;&#x74; &#x74;&#x68;&#x65; &#x6d;&#x61;&#x6a;&#x6f;&#x72;&#x69;&#x74;&#x79; &#x63;&#x6c;&#x61;&#x73;&#x73; &#x69;&#x6e; &#x74;&#x68;&#x65; &#x74;&#x72;&#x61;&#x69;&#x6e;&#x69;&#x6e;&#x67; &#x73;&#x65;&#x74;, &#x77;&#x68;&#x61;&#x74; &#x77;&#x6f;&#x75;&#x6c;&#x64; &#x74;&#x68;&#x65; &#x61;&#x63;&#x63;&#x75;&#x72;&#x61;&#x63;&#x79; &#x62;&#x65; &#x66;&#x6f;&#x72; &#x74;&#x68;&#x65; &#x74;&#x65;&#x73;&#x74; &#x73;&#x65;&#x74;?\n"
   ]
  },
  {
   "cell_type": "markdown",
   "id": "512c9f01-013e-4531-a194-b440d07b9ba7",
   "metadata": {
    "wm": "ApccFt0MQeI72fjy"
   },
   "source": [
    "_Q1_\n",
    "\n",
    "**TODO**\n",
    "\n",
    "\n",
    "_Q2_ \n",
    "\n",
    "**TODO**\n",
    "\n",
    "\n",
    "\n",
    "_Q3_\n",
    "\n",
    "**TODO**\n",
    "\n",
    "_Q4_\n",
    "\n",
    "**TODO**\n",
    "\n",
    "\n",
    "_Q5_\n",
    "\n",
    "**TODO**\n",
    "\n",
    "\n",
    "_Q6_\n",
    "\n",
    "**TODO**\n"
   ]
  },
  {
   "cell_type": "code",
   "execution_count": null,
   "id": "3da337e8-685a-4b14-a840-f49a6e707f1d",
   "metadata": {
    "wm": "ApccFt0MQeI72fjy"
   },
   "outputs": [],
   "source": []
  }
 ],
 "metadata": {
  "kernelspec": {
   "display_name": "Python 3 (ipykernel)",
   "language": "python",
   "name": "python3"
  },
  "language_info": {
   "codemirror_mode": {
    "name": "ipython",
    "version": 3
   },
   "file_extension": ".py",
   "mimetype": "text/x-python",
   "name": "python",
   "nbconvert_exporter": "python",
   "pygments_lexer": "ipython3",
   "version": "3.11.9"
  }
 },
 "nbformat": 4,
 "nbformat_minor": 5
}
