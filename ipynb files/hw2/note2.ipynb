{
 "cells": [
  {
   "cell_type": "code",
   "id": "initial_id",
   "metadata": {
    "collapsed": true,
    "ExecuteTime": {
     "end_time": "2024-09-15T21:05:23.095108Z",
     "start_time": "2024-09-15T21:05:23.064346Z"
    }
   },
   "source": [
    "from sklearn.pipeline import Pipeline\n",
    "from sklearn.compose import ColumnTransformer\n",
    "from sklearn.base import BaseEstimator, TransformerMixin\n",
    "import numpy as np\n",
    "import pandas as pd\n",
    "\n",
    "# Define the Feature Selector\n",
    "class FeatureSelector(BaseEstimator, TransformerMixin):\n",
    "    def __init__(self, attribute_names):\n",
    "        self.attribute_names = attribute_names\n",
    "        \n",
    "    def fit(self, X, y=None):\n",
    "        return self\n",
    "    \n",
    "    def transform(self, X):\n",
    "        return X[self.attribute_names]\n",
    "\n",
    "# Define the Gap Filler\n",
    "class CubicInterpolator(BaseEstimator, TransformerMixin):\n",
    "    def __init__(self, method='cubic', fill_value='extrapolate'):\n",
    "        self.method = method\n",
    "        self.fill_value = fill_value\n",
    "        \n",
    "    def fit(self, X, y=None):\n",
    "        return self\n",
    "    \n",
    "    def transform(self, X):\n",
    "        X = X.apply(lambda series: series.interpolate(method=self.method, fill_value=self.fill_value))\n",
    "        X.fillna(method='ffill', inplace=True)\n",
    "        X.fillna(method='bfill', inplace=True)\n",
    "        return X\n",
    "\n",
    "# Define the Derivative Calculator\n",
    "class DerivativeCalculator(BaseEstimator, TransformerMixin):\n",
    "    def __init__(self, dt=0.02):  # Sampling rate of 50 Hz, dt = 0.02 seconds\n",
    "        self.dt = dt\n",
    "        \n",
    "    def fit(self, X, y=None):\n",
    "        return self\n",
    "    \n",
    "    def transform(self, X):\n",
    "        return X.diff().divide(self.dt)\n",
    "\n",
    "# Names of the \"Z\" columns in the raw data frame\n",
    "selected_names = ['wrist_left_z', 'wrist_right_z']  # You need to adjust this according to your DataFrame's structure\n",
    "\n",
    "# Create pipeline elements\n",
    "feature_selector = FeatureSelector(attribute_names=selected_names)\n",
    "gap_filler = CubicInterpolator()\n",
    "derivative_calculator = DerivativeCalculator()\n",
    "\n",
    "# Create the pipeline\n",
    "pipe1 = Pipeline([\n",
    "    ('select_features', feature_selector),\n",
    "    ('fill_gaps', gap_filler),\n",
    "    ('compute_derivative', derivative_calculator)\n",
    "])\n",
    "\n",
    "# Now `pipe1` can be used to process your DataFrame like:\n",
    "# processed_data = pipe1.fit_transform(raw_data_frame)\n"
   ],
   "outputs": [],
   "execution_count": 2
  },
  {
   "metadata": {},
   "cell_type": "code",
   "outputs": [],
   "execution_count": null,
   "source": "",
   "id": "33a122dcbc56d512"
  }
 ],
 "metadata": {
  "kernelspec": {
   "display_name": "Python 3",
   "language": "python",
   "name": "python3"
  },
  "language_info": {
   "codemirror_mode": {
    "name": "ipython",
    "version": 2
   },
   "file_extension": ".py",
   "mimetype": "text/x-python",
   "name": "python",
   "nbconvert_exporter": "python",
   "pygments_lexer": "ipython2",
   "version": "2.7.6"
  }
 },
 "nbformat": 4,
 "nbformat_minor": 5
}
