{
 "cells": [
  {
   "cell_type": "markdown",
   "metadata": {
    "id": "2g4Xzb2ePlPY",
    "wm": "ApccFt0MQeI72fjy"
   },
   "source": [
    "NAME: __TODO: Vignesh Murugan\n",
    "\n",
    "# Machine Learning Practice - Asynchronous\n",
    "## Homework 01\n",
    "\n",
    "### Objectives: \n",
    "* Learn to use basic numpy operations to access data\n",
    "* Explore basic plotting of subsets of data\n",
    "* Compute and interpret simple descriptive statistics\n",
    "* Learn to read the numpy and matplotlib documenation\n",
    "\n",
    "### Instructions\n",
    "* Only work in a copy of the file that is from your ~/homework_in/ directory\n",
    "   + __If you do not use your own copy of this file, then it is an automatic zero on the assignment__\n",
    "* Read the code below \n",
    "* For any cell that is flagged as *TODO*, complete the code according to the specifications\n",
    "* Execute each cell and verify that it is showing correct results\n",
    "* Hand-In Procedure\n",
    "  + Make sure that your notebook has been saved.  You are responsible for ensuring that the copy that you submit is current and complete\n",
    "  + Download this file to your local machine (extension: .ipynb)\n",
    "  + Submit to the Gradescope Notebook HW1 dropbox\n",
    "\n",
    "### General References\n",
    "* [Sci-kit Learn Iris Dataset](https://scikit-learn.org/stable/modules/generated/sklearn.datasets.load_iris.html)\n",
    "* Numpy Arrays\n",
    "  + [Numpy basics](https://numpy.org/doc/stable/user/quickstart.html#the-basics)\n",
    "  + [Numpy Array Creation](https://numpy.org/doc/stable/user/basics.creation.html)\n",
    "  * [Numpy Reference](https://docs.scipy.org/doc/numpy/reference/index.html)\n",
    "* [Summary of matplotlib](https://matplotlib.org/3.1.1/api/pyplot_summary.html)\n",
    "  + [Plot](https://matplotlib.org/3.1.1/api/_as_gen/matplotlib.pyplot.plot.html)\n",
    "  + [Boxplots](https://matplotlib.org/3.1.1/api/_as_gen/matplotlib.pyplot.boxplot.html)\n",
    "  + [Histograms](https://matplotlib.org/3.1.1/api/_as_gen/matplotlib.pyplot.hist.html#matplotlib.pyplot.hist)\n",
    "  + [Scatter plots](https://matplotlib.org/3.1.1/api/_as_gen/matplotlib.pyplot.scatter.html#matplotlib.pyplot.scatter)\n",
    "  + [Colormap Plots](https://matplotlib.org/3.1.1/api/_as_gen/matplotlib.pyplot.imshow.html)\n",
    "  \n"
   ]
  },
  {
   "cell_type": "code",
   "metadata": {
    "executionInfo": {
     "elapsed": 4202,
     "status": "ok",
     "timestamp": 1661788453696,
     "user": {
      "displayName": "Aditya Rohan",
      "userId": "15169242296914610368"
     },
     "user_tz": 300
    },
    "id": "5Tz0LQJ4PlPf",
    "tags": [],
    "wm": "ApccFt0MQeI72fjy",
    "ExecuteTime": {
     "end_time": "2024-09-10T22:45:44.627033Z",
     "start_time": "2024-09-10T22:45:42.926621Z"
    }
   },
   "source": [
    "# EXECUTE CELL\n",
    "\n",
    "# Package imports\n",
    "import numpy as np\n",
    "import pandas as pd\n",
    "import matplotlib.pyplot as plt\n",
    "from IPython import get_ipython\n",
    "from sklearn.datasets import load_iris\n",
    "\n",
    "# Figure params\n",
    "\n",
    "FIGURESIZE=(8,6)\n",
    "FONTSIZE=12\n",
    "\n",
    "plt.rcParams['figure.figsize'] = FIGURESIZE\n",
    "plt.rcParams['font.size'] = FONTSIZE\n",
    "\n",
    "plt.rcParams['xtick.labelsize'] = FONTSIZE\n",
    "plt.rcParams['ytick.labelsize'] = FONTSIZE"
   ],
   "outputs": [],
   "execution_count": 1
  },
  {
   "cell_type": "markdown",
   "metadata": {
    "id": "4uMTCEbJO9Ho",
    "tags": [],
    "wm": "ApccFt0MQeI72fjy"
   },
   "source": [
    "# Numpy\n",
    "\n",
    "Create simple numpy arrays and perform basic array manipulations\n"
   ]
  },
  {
   "cell_type": "code",
   "metadata": {
    "id": "BQ7znr6GO9Hp",
    "tags": [],
    "wm": "ApccFt0MQeI72fjy",
    "ExecuteTime": {
     "end_time": "2024-09-10T22:45:44.730326Z",
     "start_time": "2024-09-10T22:45:44.721664Z"
    }
   },
   "source": [
    "# TODO: Create a list named 'a' containing every \n",
    "#       third number from -20 to 20 \n",
    "#       i.e., [-20, -17, ...]\n",
    "a = list(range(-20,20,3))\n",
    "a"
   ],
   "outputs": [
    {
     "data": {
      "text/plain": [
       "[-20, -17, -14, -11, -8, -5, -2, 1, 4, 7, 10, 13, 16, 19]"
      ]
     },
     "execution_count": 2,
     "metadata": {},
     "output_type": "execute_result"
    }
   ],
   "execution_count": 2
  },
  {
   "cell_type": "code",
   "metadata": {
    "id": "BQ7znr6GO9Hp",
    "tags": [],
    "wm": "ApccFt0MQeI72fjy",
    "ExecuteTime": {
     "end_time": "2024-09-10T22:45:44.834480Z",
     "start_time": "2024-09-10T22:45:44.828502Z"
    }
   },
   "source": [
    "# TODO: Create a new numpy array called b from a \n",
    "b = #TODO"
   ],
   "outputs": [
    {
     "ename": "SyntaxError",
     "evalue": "invalid syntax (3227371153.py, line 2)",
     "output_type": "error",
     "traceback": [
      "\u001B[0;36m  Cell \u001B[0;32mIn[3], line 2\u001B[0;36m\u001B[0m\n\u001B[0;31m    b = #TODO\u001B[0m\n\u001B[0m        ^\u001B[0m\n\u001B[0;31mSyntaxError\u001B[0m\u001B[0;31m:\u001B[0m invalid syntax\n"
     ]
    }
   ],
   "execution_count": 3
  },
  {
   "cell_type": "code",
   "execution_count": null,
   "metadata": {
    "colab": {
     "base_uri": "https://localhost:8080/"
    },
    "id": "aobR-vbwO9Hq",
    "outputId": "9d613a55-bd2f-4f95-d633-51690505a394",
    "tags": [],
    "wm": "ApccFt0MQeI72fjy"
   },
   "outputs": [],
   "source": [
    "# EXECUTE CELL\n",
    "a"
   ]
  },
  {
   "cell_type": "code",
   "execution_count": null,
   "metadata": {
    "colab": {
     "base_uri": "https://localhost:8080/"
    },
    "id": "DfZ7JdoQO9Hr",
    "outputId": "b45d7f6c-e0d0-4cb1-8d7b-3070008c5a3f",
    "tags": [],
    "wm": "ApccFt0MQeI72fjy"
   },
   "outputs": [],
   "source": [
    "# EXECUTE CELL\n",
    "b"
   ]
  },
  {
   "cell_type": "code",
   "execution_count": null,
   "metadata": {
    "colab": {
     "base_uri": "https://localhost:8080/"
    },
    "id": "96q7R9nEO9Hs",
    "outputId": "95a73b67-c439-4773-9d46-37a8074362d6",
    "tags": [],
    "wm": "ApccFt0MQeI72fjy"
   },
   "outputs": [],
   "source": [
    "# EXECUTE CELL\n",
    "# Numpy lets us index using arrays. \n",
    "selected_idx = [13, 11, 7]\n",
    "b[selected_idx] \n",
    "# Note that this does not work for standard python lists\n",
    "# a[selected_idx] will generate an error"
   ]
  },
  {
   "cell_type": "code",
   "execution_count": null,
   "metadata": {
    "id": "CDT0BSCEO9Ht",
    "tags": [],
    "wm": "ApccFt0MQeI72fjy"
   },
   "outputs": [],
   "source": [
    "# TODO: Reshape b into a 2x7 numpy matrix, called c\n",
    "#  2x7 means 2 rows and 7 columns.\n",
    "#   (row 0 starts with -20, -17\n",
    "#    row 1 starts with 1, 4)\n",
    "c = #TODO"
   ]
  },
  {
   "cell_type": "code",
   "execution_count": null,
   "metadata": {
    "colab": {
     "base_uri": "https://localhost:8080/"
    },
    "id": "UdEQmN1MO9Hu",
    "outputId": "87c60431-342a-4a5b-a28a-df890f18bc29",
    "tags": [],
    "wm": "ApccFt0MQeI72fjy"
   },
   "outputs": [],
   "source": [
    "# EXECUTE CELL\n",
    "c"
   ]
  },
  {
   "cell_type": "code",
   "execution_count": null,
   "metadata": {
    "id": "CDT0BSCEO9Ht",
    "tags": [],
    "wm": "ApccFt0MQeI72fjy"
   },
   "outputs": [],
   "source": [
    "# EXECUTE CELL\n",
    "# Create a random shuffle of the integers 0...13\n",
    "d = np.random.RandomState(seed=1138).permutation(14)"
   ]
  },
  {
   "cell_type": "code",
   "execution_count": null,
   "metadata": {
    "id": "LXhq3BZTO9Hw",
    "tags": [],
    "wm": "ApccFt0MQeI72fjy"
   },
   "outputs": [],
   "source": [
    "# TODO: Reshape d so that it is of shape 7x2\n",
    "d = #TODO"
   ]
  },
  {
   "cell_type": "code",
   "execution_count": null,
   "metadata": {
    "colab": {
     "base_uri": "https://localhost:8080/"
    },
    "id": "AAe99TvmO9Hy",
    "outputId": "2fe01d5f-9c42-4f95-b529-29960c09f662",
    "tags": [],
    "wm": "ApccFt0MQeI72fjy"
   },
   "outputs": [],
   "source": [
    "# EXECUTE CELL\n",
    "d"
   ]
  },
  {
   "cell_type": "code",
   "execution_count": null,
   "metadata": {
    "colab": {
     "base_uri": "https://localhost:8080/"
    },
    "id": "zZzAxVASO9Hv",
    "outputId": "6e3d2a2d-2b9d-451d-932c-55622ef5983d",
    "tags": [],
    "wm": "ApccFt0MQeI72fjy"
   },
   "outputs": [],
   "source": [
    "# TODO: Find and print the indices that would sort each row of d\n",
    "#       from smallest value to largest value\n",
    "#       (this result should be a 7x2 array)\n",
    "#       Hint: np.argsort() is useful\n",
    "\n",
    "#TODO"
   ]
  },
  {
   "cell_type": "code",
   "execution_count": null,
   "metadata": {
    "colab": {
     "base_uri": "https://localhost:8080/"
    },
    "id": "JEvt4bQdO9Hv",
    "outputId": "92b97d94-891d-495e-d0ee-5fbcd9b520b6",
    "tags": [],
    "wm": "ApccFt0MQeI72fjy"
   },
   "outputs": [],
   "source": [
    "# TODO: Find and print the indices that would sort each column of d\n",
    "#       from smallest value to largest value\n",
    "#       (this should be a 7x2 array)\n",
    "\n",
    "# TODO"
   ]
  },
  {
   "cell_type": "code",
   "execution_count": null,
   "metadata": {
    "colab": {
     "base_uri": "https://localhost:8080/"
    },
    "id": "TmPVCTSOO9Hz",
    "outputId": "c5ffb071-658e-4739-8af9-65d6c2cda1fc",
    "tags": [],
    "wm": "ApccFt0MQeI72fjy"
   },
   "outputs": [],
   "source": [
    "# TODO: Perform matrix multiplication between c and d using a numpy method\n",
    "#       and print the result\n",
    "\n",
    "#TODO"
   ]
  },
  {
   "cell_type": "code",
   "execution_count": null,
   "metadata": {
    "tags": [],
    "wm": "ApccFt0MQeI72fjy"
   },
   "outputs": [],
   "source": [
    "# TODO: Perform matrix multiplication between c and d using a single character operator\n",
    "#       and print the result\n",
    "\n",
    "#TODO"
   ]
  },
  {
   "cell_type": "code",
   "execution_count": null,
   "metadata": {
    "colab": {
     "base_uri": "https://localhost:8080/"
    },
    "id": "2eZ8YZfeO9H0",
    "outputId": "06b6a400-a4be-49a2-dfe4-c7601d7b914c",
    "tags": [],
    "wm": "ApccFt0MQeI72fjy"
   },
   "outputs": [],
   "source": [
    "# TODO: Perform matrix multiplication between d and c \n",
    "#       and print the result\n",
    "#TODO"
   ]
  },
  {
   "cell_type": "code",
   "execution_count": null,
   "metadata": {
    "colab": {
     "base_uri": "https://localhost:8080/"
    },
    "id": "2eZ8YZfeO9H0",
    "outputId": "06b6a400-a4be-49a2-dfe4-c7601d7b914c",
    "tags": [],
    "wm": "ApccFt0MQeI72fjy"
   },
   "outputs": [],
   "source": [
    "# TODO: Perform element-wise multiplcation between the transpose of c and d\n",
    "#       and print the result\n",
    "#TODO"
   ]
  },
  {
   "cell_type": "markdown",
   "metadata": {
    "id": "qYnhuTvYPlPh",
    "wm": "ApccFt0MQeI72fjy"
   },
   "source": [
    "# IRIS DATA SET"
   ]
  },
  {
   "cell_type": "code",
   "metadata": {
    "colab": {
     "base_uri": "https://localhost:8080/"
    },
    "executionInfo": {
     "elapsed": 171,
     "status": "ok",
     "timestamp": 1661788457127,
     "user": {
      "displayName": "Aditya Rohan",
      "userId": "15169242296914610368"
     },
     "user_tz": 300
    },
    "id": "6JJmjS2jPlPi",
    "outputId": "5877093a-2cc2-4606-f243-f5a2e7641d9b",
    "tags": [],
    "wm": "ApccFt0MQeI72fjy",
    "ExecuteTime": {
     "end_time": "2024-09-10T22:45:44.993715Z",
     "start_time": "2024-09-09T23:45:37.020089Z"
    }
   },
   "source": [
    "\"\"\"\n",
    "EXECUTE THIS CELL\n",
    "\n",
    "Load the dataset into the iris_dataset variable, by calling the \n",
    "load_iris() function imported from sklearn.datasets.\n",
    "Then display the iris_dataset object's list of keys. iris_dataset\n",
    "is a dictionary object.\n",
    "\"\"\"\n",
    "iris_dataset = load_iris()\n",
    "iris_dataset.keys()"
   ],
   "outputs": [
    {
     "ename": "SyntaxError",
     "evalue": "unterminated string literal (detected at line 6) (3167662907.py, line 6)",
     "output_type": "error",
     "traceback": [
      "\u001B[0;36m  Cell \u001B[0;32mIn[1], line 6\u001B[0;36m\u001B[0m\n\u001B[0;31m    Then display the iris_dataset object's list of keys. iris_dataset\u001B[0m\n\u001B[0m                                        ^\u001B[0m\n\u001B[0;31mSyntaxError\u001B[0m\u001B[0;31m:\u001B[0m unterminated string literal (detected at line 6)\n"
     ]
    }
   ],
   "execution_count": 1
  },
  {
   "cell_type": "markdown",
   "metadata": {
    "id": "MpiUjfXTPlPi",
    "wm": "ApccFt0MQeI72fjy"
   },
   "source": [
    "### Dataset Details\n",
    "The `iris_dataset` variable is a dictionary with multiple keys:\n",
    "* `data` : m by n numpy array of the n observed feature values, for each of the m samples  \n",
    "* `target` : m by 1 numpy array of samples' classification as iris-setosa (i.e. 0), iris-versicolour (i.e. 1), or iris-virginica (i.e. 2)\n",
    "* `target_names` : 3 by 1 numpy array of the possible iris classifications  \n",
    "* `DESCR` : string containing a detailed description of the dataset  \n",
    "* `feature_names` : n by 1 numpy array of the names of the feature variables  \n",
    "* `filename` : string containing the absolute path to where the file containing all the data information is located on the local system  "
   ]
  },
  {
   "cell_type": "code",
   "execution_count": null,
   "metadata": {
    "colab": {
     "base_uri": "https://localhost:8080/"
    },
    "executionInfo": {
     "elapsed": 137,
     "status": "ok",
     "timestamp": 1661788465178,
     "user": {
      "displayName": "Aditya Rohan",
      "userId": "15169242296914610368"
     },
     "user_tz": 300
    },
    "id": "rVf2ICa0PlPj",
    "outputId": "4b9f584a-0aec-4fb3-bc5f-3a1f66134dff",
    "tags": [],
    "wm": "ApccFt0MQeI72fjy"
   },
   "outputs": [],
   "source": [
    "\"\"\"\n",
    "TODO\n",
    "\n",
    "Print out the description of the data, by accessing the \n",
    "'DESCR' field of the iris data set\n",
    "\"\"\"\n",
    "print(# TODO"
   ]
  },
  {
   "cell_type": "markdown",
   "metadata": {
    "id": "IKYDx4b-PlPj",
    "wm": "ApccFt0MQeI72fjy"
   },
   "source": [
    "## SETUP USEFUL VARIABLES"
   ]
  },
  {
   "cell_type": "code",
   "execution_count": null,
   "metadata": {
    "colab": {
     "base_uri": "https://localhost:8080/"
    },
    "executionInfo": {
     "elapsed": 126,
     "status": "ok",
     "timestamp": 1661788471676,
     "user": {
      "displayName": "Aditya Rohan",
      "userId": "15169242296914610368"
     },
     "user_tz": 300
    },
    "id": "_sZOzrrsPlPj",
    "outputId": "29da42a4-0486-4284-d1f5-782a3be74fb7",
    "tags": [],
    "wm": "ApccFt0MQeI72fjy"
   },
   "outputs": [],
   "source": [
    "\"\"\"\n",
    "TODO\n",
    "\n",
    "Store the names of the features and the names \n",
    "of the target classes, into the variables\n",
    "feature_names and target_names respectively.\n",
    "\"\"\"\n",
    "features = # TODO\n",
    "targets = # TODO"
   ]
  },
  {
   "cell_type": "code",
   "execution_count": null,
   "metadata": {
    "colab": {
     "base_uri": "https://localhost:8080/"
    },
    "executionInfo": {
     "elapsed": 126,
     "status": "ok",
     "timestamp": 1661788471676,
     "user": {
      "displayName": "Aditya Rohan",
      "userId": "15169242296914610368"
     },
     "user_tz": 300
    },
    "id": "_sZOzrrsPlPj",
    "outputId": "29da42a4-0486-4284-d1f5-782a3be74fb7",
    "tags": [],
    "wm": "ApccFt0MQeI72fjy"
   },
   "outputs": [],
   "source": [
    "\"\"\"\n",
    "TODO\n",
    "Print the list of feature names and target names\n",
    "\"\"\"\n",
    "print(\"Features: \\n\" # TODO\n",
    "print(\"Targets: \\n\" # TODO"
   ]
  },
  {
   "cell_type": "code",
   "execution_count": null,
   "metadata": {
    "colab": {
     "base_uri": "https://localhost:8080/"
    },
    "executionInfo": {
     "elapsed": 122,
     "status": "ok",
     "timestamp": 1661788475768,
     "user": {
      "displayName": "Aditya Rohan",
      "userId": "15169242296914610368"
     },
     "user_tz": 300
    },
    "id": "i4YBbSN5PlPk",
    "outputId": "8bd8ba55-27b7-44d6-d0be-ef52ab888993",
    "tags": [],
    "wm": "ApccFt0MQeI72fjy"
   },
   "outputs": [],
   "source": [
    "\"\"\" \n",
    "TODO\n",
    "\n",
    "Create variables for the feature and target data \n",
    "- The X variable is a numpy array containing the data measured \n",
    "for each feature for each sample. Each column of X is a \n",
    "different feature for all the samples. Each row of X is a \n",
    "single sample with all its features.\n",
    "- The y variable is a numpy array containing the classification \n",
    "for each sample. A sample iris is either setosa, versicolor, or virginica.\n",
    "\"\"\" \n",
    "X = # TODO\n",
    "y = # TODO"
   ]
  },
  {
   "cell_type": "code",
   "execution_count": null,
   "metadata": {
    "colab": {
     "base_uri": "https://localhost:8080/"
    },
    "executionInfo": {
     "elapsed": 122,
     "status": "ok",
     "timestamp": 1661788475768,
     "user": {
      "displayName": "Aditya Rohan",
      "userId": "15169242296914610368"
     },
     "user_tz": 300
    },
    "id": "i4YBbSN5PlPk",
    "outputId": "8bd8ba55-27b7-44d6-d0be-ef52ab888993",
    "tags": [],
    "wm": "ApccFt0MQeI72fjy"
   },
   "outputs": [],
   "source": [
    "\"\"\"\n",
    "TODO\n",
    "\n",
    "Print the shapes of the y and X variables respectively\n",
    "\"\"\"\n",
    "print(\"Shape of y:\", # TODO\n",
    "print(\"Shape of X:\", # TODO\n"
   ]
  },
  {
   "cell_type": "code",
   "execution_count": null,
   "metadata": {
    "colab": {
     "base_uri": "https://localhost:8080/"
    },
    "executionInfo": {
     "elapsed": 130,
     "status": "ok",
     "timestamp": 1661788478142,
     "user": {
      "displayName": "Aditya Rohan",
      "userId": "15169242296914610368"
     },
     "user_tz": 300
    },
    "id": "Kda9oVO6PlPl",
    "outputId": "519cd9e2-7d2d-4c78-f59b-901cb6d57df2",
    "tags": [],
    "wm": "ApccFt0MQeI72fjy"
   },
   "outputs": [],
   "source": [
    "\"\"\" \n",
    "TODO\n",
    "\n",
    "Store the number of samples and the number of features, by\n",
    "accessing the appropriate values from the shape of X\n",
    "\"\"\"\n",
    "nsamples = # TODO\n",
    "nfeatures = # TODO"
   ]
  },
  {
   "cell_type": "code",
   "execution_count": null,
   "metadata": {
    "colab": {
     "base_uri": "https://localhost:8080/"
    },
    "executionInfo": {
     "elapsed": 130,
     "status": "ok",
     "timestamp": 1661788478142,
     "user": {
      "displayName": "Aditya Rohan",
      "userId": "15169242296914610368"
     },
     "user_tz": 300
    },
    "id": "Kda9oVO6PlPl",
    "outputId": "519cd9e2-7d2d-4c78-f59b-901cb6d57df2",
    "tags": [],
    "wm": "ApccFt0MQeI72fjy"
   },
   "outputs": [],
   "source": [
    "\"\"\"\n",
    "TODO\n",
    "\n",
    "Print the print the number of samples and number of features, respectively\n",
    "\"\"\"\n",
    "print(\"Number of samples: \", # TODO\n",
    "print(\"Number of features: \", # TODO"
   ]
  },
  {
   "cell_type": "markdown",
   "metadata": {
    "id": "Pt5OkTi7PlPl",
    "wm": "ApccFt0MQeI72fjy"
   },
   "source": [
    "## SELECT SUBSET OF FEATURES\n",
    "Not all available data is necessary or useful for making predictions and classifying observations. There are numerous feature selection algorithms that exist, which will be discussed in more detail later in the course. For now we are going to arbitrarly select sepal width and petal width as our predictor variables. We will not yet be performing any predictions in this assignment; rather this term is used to conveniently distinuguish this subset of features from the full set of features."
   ]
  },
  {
   "cell_type": "code",
   "execution_count": null,
   "metadata": {
    "colab": {
     "base_uri": "https://localhost:8080/"
    },
    "executionInfo": {
     "elapsed": 156,
     "status": "ok",
     "timestamp": 1661790189390,
     "user": {
      "displayName": "Aditya Rohan",
      "userId": "15169242296914610368"
     },
     "user_tz": 300
    },
    "id": "_oDIxMwXPlPl",
    "outputId": "7daf1be8-9571-4620-bb62-09a220cce40a",
    "tags": [],
    "wm": "ApccFt0MQeI72fjy"
   },
   "outputs": [],
   "source": [
    "\"\"\" TODO\n",
    "Feature Column Indices\n",
    "The values observed for each feature resides within a particular \n",
    "column of the feature matrix, X. For example, column 0 contains the \n",
    "values of the length of the sepal for each observation, the column at index \n",
    "3 contains the values for width of the petal, and so on.\n",
    "\"\"\"\n",
    "\n",
    "\"\"\"\n",
    "TODO \n",
    "\n",
    "Create a list of the indices named 'predictors' for sepal width and petal width\n",
    "\"\"\"\n",
    "predictors = #TODO"
   ]
  },
  {
   "cell_type": "code",
   "execution_count": null,
   "metadata": {
    "colab": {
     "base_uri": "https://localhost:8080/"
    },
    "executionInfo": {
     "elapsed": 156,
     "status": "ok",
     "timestamp": 1661790189390,
     "user": {
      "displayName": "Aditya Rohan",
      "userId": "15169242296914610368"
     },
     "user_tz": 300
    },
    "id": "_oDIxMwXPlPl",
    "outputId": "7daf1be8-9571-4620-bb62-09a220cce40a",
    "tags": [],
    "wm": "ApccFt0MQeI72fjy"
   },
   "outputs": [],
   "source": [
    "\"\"\"\n",
    "TODO\n",
    "\n",
    "Create a variable that contains the number of predictors\n",
    "\"\"\"\n",
    "npredictors = # TODO"
   ]
  },
  {
   "cell_type": "code",
   "execution_count": null,
   "metadata": {
    "colab": {
     "base_uri": "https://localhost:8080/"
    },
    "executionInfo": {
     "elapsed": 156,
     "status": "ok",
     "timestamp": 1661790189390,
     "user": {
      "displayName": "Aditya Rohan",
      "userId": "15169242296914610368"
     },
     "user_tz": 300
    },
    "id": "_oDIxMwXPlPl",
    "outputId": "7daf1be8-9571-4620-bb62-09a220cce40a",
    "tags": [],
    "wm": "ApccFt0MQeI72fjy"
   },
   "outputs": [],
   "source": [
    "\"\"\"\n",
    "TODO \n",
    "\n",
    "Using the predictors variable, create a list of corresponding names for \n",
    "the selected set of features.\n",
    "\"\"\"\n",
    "pred_names = # TODO\n"
   ]
  },
  {
   "cell_type": "code",
   "execution_count": null,
   "metadata": {
    "colab": {
     "base_uri": "https://localhost:8080/"
    },
    "executionInfo": {
     "elapsed": 156,
     "status": "ok",
     "timestamp": 1661790189390,
     "user": {
      "displayName": "Aditya Rohan",
      "userId": "15169242296914610368"
     },
     "user_tz": 300
    },
    "id": "_oDIxMwXPlPl",
    "outputId": "7daf1be8-9571-4620-bb62-09a220cce40a",
    "tags": [],
    "wm": "ApccFt0MQeI72fjy"
   },
   "outputs": [],
   "source": [
    "\"\"\"\n",
    "EXECUTE CELL\n",
    "\n",
    "Print the list of Feature names\n",
    "\"\"\"\n",
    "print(\"Feature Names:\")\n",
    "print(pred_names)"
   ]
  },
  {
   "cell_type": "code",
   "execution_count": null,
   "metadata": {
    "colab": {
     "base_uri": "https://localhost:8080/"
    },
    "executionInfo": {
     "elapsed": 128,
     "status": "ok",
     "timestamp": 1661790346867,
     "user": {
      "displayName": "Aditya Rohan",
      "userId": "15169242296914610368"
     },
     "user_tz": 300
    },
    "id": "gDrNkOEXPlPo",
    "outputId": "0654a911-b886-44ed-e5df-0dbc0b5d6096",
    "tags": [],
    "wm": "ApccFt0MQeI72fjy"
   },
   "outputs": [],
   "source": [
    "\"\"\"\n",
    "EXECUTE CELL\n",
    "\n",
    "Create a separate variable of the data from the \n",
    "features (a matrix)\n",
    "\"\"\"\n",
    "Xpreds = X[:, predictors]\n",
    "\n",
    "\"\"\"\n",
    "Check if any values are NaN (not a number)\n",
    "\"\"\"\n",
    "np.any(np.isnan(Xpreds))"
   ]
  },
  {
   "cell_type": "markdown",
   "metadata": {
    "id": "NypKAuTqPlPm",
    "wm": "ApccFt0MQeI72fjy"
   },
   "source": [
    "## BASIC HISTOGRAMS OF FEATURES"
   ]
  },
  {
   "cell_type": "code",
   "execution_count": null,
   "metadata": {
    "colab": {
     "base_uri": "https://localhost:8080/",
     "height": 281
    },
    "executionInfo": {
     "elapsed": 909,
     "status": "ok",
     "timestamp": 1661790193693,
     "user": {
      "displayName": "Aditya Rohan",
      "userId": "15169242296914610368"
     },
     "user_tz": 300
    },
    "id": "WrV5y-lvPlPm",
    "outputId": "b8ebee15-c595-427d-f850-0aafca9ef71a",
    "tags": [],
    "wm": "ApccFt0MQeI72fjy"
   },
   "outputs": [],
   "source": [
    "\"\"\" \n",
    "TODO\n",
    "\n",
    "HISTOGRAMS OF THE CHOSEN FEATURES\n",
    "Generate a histogram for each of the selected features.\n",
    "Use a single figure; plot each feature in its own subplot.\n",
    "\n",
    "Don't forget your axis labels!\n",
    "\n",
    "- Vertical axis is 'count' for each histogram bin\n",
    "- Horizontal axis is the feature name\n",
    "\n",
    "\"\"\"\n",
    "plt.figure(figsize=(20,4))\n",
    "plt.subplots_adjust(wspace=.3)\n",
    "\n",
    "for i, fidx in enumerate(predictors, 1):\n",
    "    plt.subplot(1, 3, i)\n",
    "    #TODO\n",
    "    "
   ]
  },
  {
   "cell_type": "code",
   "execution_count": null,
   "metadata": {
    "id": "3hzeScaCPlPn",
    "outputId": "857299b6-ca21-4e23-8358-bb879115dfac",
    "tags": [],
    "wm": "ApccFt0MQeI72fjy"
   },
   "outputs": [],
   "source": [
    "\"\"\" TODO\n",
    "\n",
    "Create a bar plot for the counts for each target class\n",
    "\n",
    "Hints: \n",
    "- np.bincount() returns useful data\n",
    "- plt.bar() will produce bar plots\n",
    "\n",
    "Don't forget your axis labels!\n",
    "\"\"\"\n",
    "counts = np.bincount(y)\n",
    "# May be helpful, depending on your plotting approach\n",
    "bin_centers = list(range(3))\n",
    "\n",
    "# TODO\n"
   ]
  },
  {
   "cell_type": "markdown",
   "metadata": {
    "id": "OKoxlrf0PlPn",
    "wm": "ApccFt0MQeI72fjy"
   },
   "source": [
    "## BASIC BOXPLOTS OF FEATURES\n",
    "Boxplots or box-and-whisker plots are used to obtain a perspective of the distribution of the data.\n",
    "The box within the figure displays the 25th percentile (Q1), the median, and the 75th percentile (Q3) of the data. The range between the 75th percentile value and the 25th percentile value is the interquartile range (IQR = Q3 - Q1). The end of bottom whisker is within Q1 - 1.5 * IQR. The end of top whisker is within Q3 + 1.5 * IQR. Anything beyond the lines (the circles), are outliers.  \n",
    "\n",
    "<img src=\"https://symbiotic-computing.org/fagg_html/classes/mlp_live_2023/images/boxplot_diagram.png\" width=\"40%\" />\n",
    "    \n",
    "One can use the `boxplot(data_values, labels)` to generate a boxplot. `data_values` is a N x F numpy array, with N = number of samples and F = number of featurs.  `labels` is provided as a list, with the name of each feature.  Include `manage_ticks=True`"
   ]
  },
  {
   "cell_type": "code",
   "execution_count": null,
   "metadata": {
    "id": "rQtzGONdPlPn",
    "outputId": "1c32f867-91db-454a-ba12-703432d161da",
    "tags": [],
    "wm": "ApccFt0MQeI72fjy"
   },
   "outputs": [],
   "source": [
    "\"\"\" TODO\n",
    "BOXPLOT OF THE CHOSEN FEATURES\n",
    "\n",
    "Generate a boxplot:\n",
    "- One box per feature\n",
    "- Don't forget the label for each feature and the vertical axis\n",
    "\n",
    "\"\"\"\n",
    "\n",
    "#TODO"
   ]
  },
  {
   "cell_type": "markdown",
   "metadata": {
    "id": "ahxtxseCPlPn",
    "wm": "ApccFt0MQeI72fjy"
   },
   "source": [
    "## DESCRIPTIVE STATISTICS"
   ]
  },
  {
   "cell_type": "code",
   "execution_count": null,
   "metadata": {
    "colab": {
     "base_uri": "https://localhost:8080/"
    },
    "executionInfo": {
     "elapsed": 147,
     "status": "ok",
     "timestamp": 1661790356107,
     "user": {
      "displayName": "Aditya Rohan",
      "userId": "15169242296914610368"
     },
     "user_tz": 300
    },
    "id": "qiPIxSZUPlPo",
    "outputId": "d5063b98-2fab-45cd-b2d1-79f5142e28a1",
    "tags": [],
    "wm": "ApccFt0MQeI72fjy"
   },
   "outputs": [],
   "source": [
    "# EXECUTE CELL\n",
    "\n",
    "# Create a version of X with some Nans (this is the original full feature set)\n",
    "Xpreds2 = np.array(X)\n",
    "Xpreds2[12,0] = np.nan\n",
    "Xpreds2[78,1] = np.nan\n",
    "Xpreds2[37,0] = np.nan"
   ]
  },
  {
   "cell_type": "code",
   "execution_count": null,
   "metadata": {
    "colab": {
     "base_uri": "https://localhost:8080/"
    },
    "executionInfo": {
     "elapsed": 147,
     "status": "ok",
     "timestamp": 1661790356107,
     "user": {
      "displayName": "Aditya Rohan",
      "userId": "15169242296914610368"
     },
     "user_tz": 300
    },
    "id": "qiPIxSZUPlPo",
    "outputId": "d5063b98-2fab-45cd-b2d1-79f5142e28a1",
    "tags": [],
    "wm": "ApccFt0MQeI72fjy"
   },
   "outputs": [],
   "source": [
    "\"\"\" TODO\n",
    "Compute the following descriptive statistics of the \n",
    "features ignoring NaN values, using the appropriate method in numpy:\n",
    "mean, median, standard deviation, min, and max\n",
    "\n",
    "Make sure to compute the statistics of the columns\n",
    "of Xpreds2 (i.e. of each feature). You can specify this \n",
    "by setting axis=0 for each of the functions\n",
    "\n",
    "Compute and print the results\n",
    "\"\"\"\n",
    "# TODO\n",
    "print('Means:', #TODO\n",
    "print('Medians:', #TODO\n",
    "print('Standard Deviations:', #TODO\n",
    "print('Mins:', #TODO\n",
    "print('Maxs:', #TODO"
   ]
  },
  {
   "cell_type": "markdown",
   "metadata": {
    "id": "MsawmNagPlPo",
    "wm": "ApccFt0MQeI72fjy"
   },
   "source": [
    "## FEATURE RELATIONSHIPS\n",
    "It's useful to know the relationships between various features, as well as each feature and the target label. We can construct scatter plots of one feature versuses another to observe linear or nonlinear relationships.\n",
    "\n",
    "We are going to fill in the missing set of plots (detail to follow):\n",
    "\n",
    "<img src=\"https://symbiotic-computing.org/fagg_html/classes/mlp_async_2024/images/grid.png\"  style=\"width:100%\">\n",
    "\n",
    "Feature correlation is useful for feature selection and understanding the relationship between multiple variables within a dataset. Pearson Correlation is either positive, negative, or zero. When two features increase simultaneously, they are positively correlated. When one feature increases while the other decreases, the features are negatively correlated. Zero correlation is when there is no linear relationship between the features. Pearson Correlation is on the range -1 (perfect negative correlation) and 1 (pefect positive correlation).  \n",
    "\n",
    "\n"
   ]
  },
  {
   "cell_type": "code",
   "execution_count": null,
   "metadata": {
    "colab": {
     "base_uri": "https://localhost:8080/",
     "height": 878
    },
    "executionInfo": {
     "elapsed": 2845,
     "status": "ok",
     "timestamp": 1661790525728,
     "user": {
      "displayName": "Aditya Rohan",
      "userId": "15169242296914610368"
     },
     "user_tz": 300
    },
    "id": "hWFA644kPlPo",
    "outputId": "393b7ab1-773c-41a7-8a3d-6829d65439ee",
    "tags": [],
    "wm": "ApccFt0MQeI72fjy"
   },
   "outputs": [],
   "source": [
    "\"\"\"\n",
    "TODO\n",
    "\n",
    "Using the scatter plot and hist functions, construct a grid of plots depicting the\n",
    "correlation between all pairings of all of the features\n",
    "and between all features and the target label.\n",
    "The figure will contain R by R subplots, where R = npredictors + 1.\n",
    "When i != j, subplot(i,j) is a scatter plot of the feature i versus feature j.\n",
    "When i == j, plot the histogram of feature i instead of a scatter plot.\n",
    "We are also interested in the correlation between each of the features \n",
    "and the target label, thus we will combine the selected feature matrix\n",
    "and the target vector into one large matrix for convenience.\n",
    "\n",
    "See subfigures: \n",
    "https://matplotlib.org/stable/gallery/subplots_axes_and_figures/subplots_demo.html\n",
    "\"\"\"\n",
    "# Use the full set of features\n",
    "npredictors = X.shape[1]\n",
    "\n",
    "# Append the y to the front of the matrix of predictors\n",
    "Xycombo = np.append(y.reshape(-1, 1), X,  axis=1)\n",
    "# Append the name 'target' to the front of the list of predictor names\n",
    "Xycolnames = ['target'] + features\n",
    "\n",
    "# Create the scatter plots\n",
    "fig, axs = plt.subplots(npredictors+1, npredictors+1, figsize=(15, 15))\n",
    "fig.subplots_adjust(wspace=.35)\n",
    "for f1 in range(npredictors+1):\n",
    "    for f2 in range(npredictors+1): \n",
    "        if f1 == f2:\n",
    "            # TODO: plot the histogram of feature f1\n",
    "\n",
    "        else:\n",
    "            # TODO: generate the scatterplot of f1 (vert) as a function of f2 (horiz)\n",
    "            \n",
    "        # include labels only on the left and bottom edges\n",
    "        if f1 == npredictors:\n",
    "            axs[f1, f2].set_xlabel(Xycolnames[f2])\n",
    "        if f2 == 0:\n",
    "            axs[f1, f2].set_ylabel(Xycolnames[f1])\n"
   ]
  },
  {
   "cell_type": "markdown",
   "metadata": {
    "id": "3t8__RviPlPp",
    "wm": "ApccFt0MQeI72fjy"
   },
   "source": [
    "## IMAGES AND COLORMAPS\n",
    "Create a colormap plot of the correlations between the \n",
    "all the features and the target"
   ]
  },
  {
   "cell_type": "code",
   "execution_count": null,
   "metadata": {
    "colab": {
     "base_uri": "https://localhost:8080/",
     "height": 328
    },
    "executionInfo": {
     "elapsed": 386,
     "status": "ok",
     "timestamp": 1661790532062,
     "user": {
      "displayName": "Aditya Rohan",
      "userId": "15169242296914610368"
     },
     "user_tz": 300
    },
    "id": "rStwWruyPlPp",
    "outputId": "4ec5c269-82bc-4a39-bc88-9b318a99794a",
    "tags": [],
    "wm": "ApccFt0MQeI72fjy"
   },
   "outputs": [],
   "source": [
    "\"\"\" PROVIDED: EXECUTE CELL\n",
    "Generate a figure that plots the correlation matrix\n",
    "as a colormap.\n",
    "PARAMS:\n",
    "    corrs: matrix of correlations between the features\n",
    "    varnames: list of the names of each of the features \n",
    "              (e.g. the column names)\n",
    "\"\"\"\n",
    "def correlationmap(corrs, varnames):\n",
    "    nvars = corrs.shape[0]\n",
    "    \n",
    "    # create the figure and plot the correlation matrix\n",
    "    fig, ax = plt.subplots()\n",
    "    im = ax.imshow(corrs, cmap='RdBu', vmin=-1, vmax=1)\n",
    "    cbar = ax.figure.colorbar(im, ax=ax)\n",
    "    cbar.ax.set_ylabel(\"Pearson Correlation\", rotation=-90, va=\"bottom\")\n",
    "    \n",
    "    # Specify the row and column ticks and labels for the figure\n",
    "    ax.set_xticks(range(nvars))\n",
    "    ax.set_yticks(range(nvars))\n",
    "    ax.set_xticklabels(varnames)\n",
    "    ax.set_yticklabels(varnames)\n",
    "\n",
    "    # Rotate the tick labels and set their alignment.\n",
    "    plt.setp(ax.get_xticklabels(), rotation=45, ha=\"right\", rotation_mode=\"anchor\")\n",
    "\n",
    "    # Loop over data dimensions and create text annotations.\n",
    "    for i in range(nvars):\n",
    "        for j in range(nvars):\n",
    "            text = ax.text(j, i, \"%.3f\" % corrs[i, j],\n",
    "                           ha=\"center\", va=\"center\", color=\"k\")\n",
    "# END DEF correlationmap\n",
    "            "
   ]
  },
  {
   "cell_type": "code",
   "execution_count": null,
   "metadata": {
    "colab": {
     "base_uri": "https://localhost:8080/",
     "height": 328
    },
    "executionInfo": {
     "elapsed": 386,
     "status": "ok",
     "timestamp": 1661790532062,
     "user": {
      "displayName": "Aditya Rohan",
      "userId": "15169242296914610368"
     },
     "user_tz": 300
    },
    "id": "rStwWruyPlPp",
    "outputId": "4ec5c269-82bc-4a39-bc88-9b318a99794a",
    "tags": [],
    "wm": "ApccFt0MQeI72fjy"
   },
   "outputs": [],
   "source": [
    "\"\"\" TODO\n",
    "Compute the Pearson correlation between the columns of Xycombo using\n",
    "the numpy function corrcoef(). The corrcoef() function performs the \n",
    "the pairwise correlation on the rows of a matrix, thus you will need to\n",
    "transpose the input.\n",
    "\"\"\" \n",
    "# TODO"
   ]
  },
  {
   "cell_type": "code",
   "execution_count": null,
   "metadata": {
    "colab": {
     "base_uri": "https://localhost:8080/",
     "height": 328
    },
    "executionInfo": {
     "elapsed": 386,
     "status": "ok",
     "timestamp": 1661790532062,
     "user": {
      "displayName": "Aditya Rohan",
      "userId": "15169242296914610368"
     },
     "user_tz": 300
    },
    "id": "rStwWruyPlPp",
    "outputId": "4ec5c269-82bc-4a39-bc88-9b318a99794a",
    "tags": [],
    "wm": "ApccFt0MQeI72fjy"
   },
   "outputs": [],
   "source": [
    "\"\"\" TODO\n",
    "Call the function defined above, correlationmap(), to generate a \n",
    "colormap plot of the correlations between columns of the Xycombo matrix\n",
    "\"\"\"\n",
    "# TODO"
   ]
  },
  {
   "cell_type": "markdown",
   "metadata": {
    "colab": {
     "base_uri": "https://localhost:8080/",
     "height": 328
    },
    "executionInfo": {
     "elapsed": 386,
     "status": "ok",
     "timestamp": 1661790532062,
     "user": {
      "displayName": "Aditya Rohan",
      "userId": "15169242296914610368"
     },
     "user_tz": 300
    },
    "id": "rStwWruyPlPp",
    "outputId": "4ec5c269-82bc-4a39-bc88-9b318a99794a",
    "tags": [],
    "wm": "ApccFt0MQeI72fjy"
   },
   "source": [
    "## Reflection\n",
    "\n",
    "Answer the following questions with one or two sentences:\n",
    "\n",
    "_Q1: Does Xpreds have any NaNs in it?_\n",
    "\n",
    "**TODO** \n",
    "\n",
    "\n",
    "_Q2: For the given box plot figure, explain why the two whiskers have different height relative to their quartile._\n",
    "\n",
    "**TODO**\n",
    "\n",
    "\n",
    "_Q3: Under what conditions should Q1 and Q3 should be different distances from the median?_\n",
    "\n",
    "**TODO**\n",
    "\n",
    "\n",
    "_Q4: Explain the relationship between the cells in the last two figures that you generated._\n",
    "\n",
    "**TODO**\n"
   ]
  },
  {
   "cell_type": "code",
   "execution_count": null,
   "metadata": {
    "id": "cdnAV_A2PlPp",
    "wm": "ApccFt0MQeI72fjy"
   },
   "outputs": [],
   "source": ""
  }
 ],
 "metadata": {
  "colab": {
   "collapsed_sections": [],
   "name": "Hw1_Solution.ipynb",
   "provenance": []
  },
  "kernelspec": {
   "display_name": "Python 3 (ipykernel)",
   "language": "python",
   "name": "python3"
  },
  "language_info": {
   "codemirror_mode": {
    "name": "ipython",
    "version": 3
   },
   "file_extension": ".py",
   "mimetype": "text/x-python",
   "name": "python",
   "nbconvert_exporter": "python",
   "pygments_lexer": "ipython3",
   "version": "3.9.16"
  }
 },
 "nbformat": 4,
 "nbformat_minor": 4
}
